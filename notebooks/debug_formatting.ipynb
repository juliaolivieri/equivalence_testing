{
 "cells": [
  {
   "cell_type": "code",
   "execution_count": 1,
   "id": "7a63c28b",
   "metadata": {},
   "outputs": [
    {
     "name": "stdout",
     "output_type": "stream",
     "text": [
      "Intel MKL WARNING: Support of Intel(R) Streaming SIMD Extensions 4.2 (Intel(R) SSE4.2) enabled only processors has been deprecated. Intel oneAPI Math Kernel Library 2025.0 will require Intel(R) Advanced Vector Extensions (Intel(R) AVX) instructions.\n",
      "Intel MKL WARNING: Support of Intel(R) Streaming SIMD Extensions 4.2 (Intel(R) SSE4.2) enabled only processors has been deprecated. Intel oneAPI Math Kernel Library 2025.0 will require Intel(R) Advanced Vector Extensions (Intel(R) AVX) instructions.\n"
     ]
    }
   ],
   "source": [
    "import pandas as pd"
   ]
  },
  {
   "cell_type": "code",
   "execution_count": 11,
   "id": "daa29775",
   "metadata": {},
   "outputs": [],
   "source": [
    "df = pd.read_csv(\"~/Desktop/Research/Datasets/GSE217541_U1TET1_hESC_combined_count_replicates_20210622.csv\",index_col = 0,parse_dates=False,encoding='utf-8')"
   ]
  },
  {
   "cell_type": "code",
   "execution_count": 12,
   "id": "e84455b9",
   "metadata": {},
   "outputs": [
    {
     "data": {
      "text/plain": [
       "2-Mar          2\n",
       "1-Mar          2\n",
       "MIR1302-2HG    1\n",
       "AL354696.2     1\n",
       "SLC25A15       1\n",
       "              ..\n",
       "AL606923.2     1\n",
       "LINC02549      1\n",
       "AL593844.1     1\n",
       "AL646090.1     1\n",
       "MT-CYB         1\n",
       "Name: count, Length: 36760, dtype: int64"
      ]
     },
     "execution_count": 12,
     "metadata": {},
     "output_type": "execute_result"
    }
   ],
   "source": [
    "df.index.value_counts()"
   ]
  },
  {
   "cell_type": "code",
   "execution_count": 8,
   "id": "b27c663a",
   "metadata": {},
   "outputs": [
    {
     "data": {
      "text/html": [
       "<div>\n",
       "<style scoped>\n",
       "    .dataframe tbody tr th:only-of-type {\n",
       "        vertical-align: middle;\n",
       "    }\n",
       "\n",
       "    .dataframe tbody tr th {\n",
       "        vertical-align: top;\n",
       "    }\n",
       "\n",
       "    .dataframe thead th {\n",
       "        text-align: right;\n",
       "    }\n",
       "</style>\n",
       "<table border=\"1\" class=\"dataframe\">\n",
       "  <thead>\n",
       "    <tr style=\"text-align: right;\">\n",
       "      <th></th>\n",
       "      <th>WT1</th>\n",
       "      <th>WT2</th>\n",
       "      <th>WT3</th>\n",
       "      <th>KO1</th>\n",
       "      <th>KO2</th>\n",
       "      <th>KO3</th>\n",
       "    </tr>\n",
       "  </thead>\n",
       "  <tbody>\n",
       "    <tr>\n",
       "      <th>MIR1302-2HG</th>\n",
       "      <td>0</td>\n",
       "      <td>0</td>\n",
       "      <td>0</td>\n",
       "      <td>0</td>\n",
       "      <td>0</td>\n",
       "      <td>0</td>\n",
       "    </tr>\n",
       "    <tr>\n",
       "      <th>FAM138A</th>\n",
       "      <td>0</td>\n",
       "      <td>0</td>\n",
       "      <td>0</td>\n",
       "      <td>0</td>\n",
       "      <td>0</td>\n",
       "      <td>0</td>\n",
       "    </tr>\n",
       "    <tr>\n",
       "      <th>OR4F5</th>\n",
       "      <td>0</td>\n",
       "      <td>0</td>\n",
       "      <td>2</td>\n",
       "      <td>1</td>\n",
       "      <td>0</td>\n",
       "      <td>0</td>\n",
       "    </tr>\n",
       "    <tr>\n",
       "      <th>AL627309.1</th>\n",
       "      <td>2</td>\n",
       "      <td>4</td>\n",
       "      <td>3</td>\n",
       "      <td>5</td>\n",
       "      <td>4</td>\n",
       "      <td>10</td>\n",
       "    </tr>\n",
       "    <tr>\n",
       "      <th>AL627309.3</th>\n",
       "      <td>0</td>\n",
       "      <td>0</td>\n",
       "      <td>0</td>\n",
       "      <td>0</td>\n",
       "      <td>0</td>\n",
       "      <td>0</td>\n",
       "    </tr>\n",
       "    <tr>\n",
       "      <th>...</th>\n",
       "      <td>...</td>\n",
       "      <td>...</td>\n",
       "      <td>...</td>\n",
       "      <td>...</td>\n",
       "      <td>...</td>\n",
       "      <td>...</td>\n",
       "    </tr>\n",
       "    <tr>\n",
       "      <th>MT-ND4L</th>\n",
       "      <td>12133</td>\n",
       "      <td>12252</td>\n",
       "      <td>14919</td>\n",
       "      <td>8849</td>\n",
       "      <td>15695</td>\n",
       "      <td>14524</td>\n",
       "    </tr>\n",
       "    <tr>\n",
       "      <th>MT-ND4</th>\n",
       "      <td>92386</td>\n",
       "      <td>97862</td>\n",
       "      <td>117224</td>\n",
       "      <td>59676</td>\n",
       "      <td>111845</td>\n",
       "      <td>103434</td>\n",
       "    </tr>\n",
       "    <tr>\n",
       "      <th>MT-ND5</th>\n",
       "      <td>50186</td>\n",
       "      <td>53131</td>\n",
       "      <td>61150</td>\n",
       "      <td>31412</td>\n",
       "      <td>60341</td>\n",
       "      <td>56846</td>\n",
       "    </tr>\n",
       "    <tr>\n",
       "      <th>MT-ND6</th>\n",
       "      <td>2953</td>\n",
       "      <td>2962</td>\n",
       "      <td>3968</td>\n",
       "      <td>1682</td>\n",
       "      <td>3347</td>\n",
       "      <td>3773</td>\n",
       "    </tr>\n",
       "    <tr>\n",
       "      <th>MT-CYB</th>\n",
       "      <td>43681</td>\n",
       "      <td>43592</td>\n",
       "      <td>47888</td>\n",
       "      <td>26194</td>\n",
       "      <td>49438</td>\n",
       "      <td>46583</td>\n",
       "    </tr>\n",
       "  </tbody>\n",
       "</table>\n",
       "<p>36762 rows × 6 columns</p>\n",
       "</div>"
      ],
      "text/plain": [
       "               WT1    WT2     WT3    KO1     KO2     KO3\n",
       "MIR1302-2HG      0      0       0      0       0       0\n",
       "FAM138A          0      0       0      0       0       0\n",
       "OR4F5            0      0       2      1       0       0\n",
       "AL627309.1       2      4       3      5       4      10\n",
       "AL627309.3       0      0       0      0       0       0\n",
       "...            ...    ...     ...    ...     ...     ...\n",
       "MT-ND4L      12133  12252   14919   8849   15695   14524\n",
       "MT-ND4       92386  97862  117224  59676  111845  103434\n",
       "MT-ND5       50186  53131   61150  31412   60341   56846\n",
       "MT-ND6        2953   2962    3968   1682    3347    3773\n",
       "MT-CYB       43681  43592   47888  26194   49438   46583\n",
       "\n",
       "[36762 rows x 6 columns]"
      ]
     },
     "execution_count": 8,
     "metadata": {},
     "output_type": "execute_result"
    }
   ],
   "source": [
    "df"
   ]
  },
  {
   "cell_type": "code",
   "execution_count": null,
   "id": "d5fdfd46",
   "metadata": {},
   "outputs": [],
   "source": []
  }
 ],
 "metadata": {
  "kernelspec": {
   "display_name": "Python 3 (ipykernel)",
   "language": "python",
   "name": "python3"
  },
  "language_info": {
   "codemirror_mode": {
    "name": "ipython",
    "version": 3
   },
   "file_extension": ".py",
   "mimetype": "text/x-python",
   "name": "python",
   "nbconvert_exporter": "python",
   "pygments_lexer": "ipython3",
   "version": "3.9.19"
  }
 },
 "nbformat": 4,
 "nbformat_minor": 5
}
