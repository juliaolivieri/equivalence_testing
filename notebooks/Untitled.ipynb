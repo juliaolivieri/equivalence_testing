{
 "cells": [
  {
   "cell_type": "code",
   "execution_count": null,
   "id": "f4546d46",
   "metadata": {},
   "outputs": [],
   "source": []
  }
 ],
 "metadata": {
  "kernelspec": {
   "display_name": "jup_env",
   "language": "python",
   "name": "jup_env"
  }
 },
 "nbformat": 4,
 "nbformat_minor": 5
}
