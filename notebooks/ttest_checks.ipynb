{
 "cells": [
  {
   "cell_type": "code",
   "execution_count": 2,
   "id": "ffb76b80",
   "metadata": {},
   "outputs": [
    {
     "name": "stdout",
     "output_type": "stream",
     "text": [
      "Intel MKL WARNING: Support of Intel(R) Streaming SIMD Extensions 4.2 (Intel(R) SSE4.2) enabled only processors has been deprecated. Intel oneAPI Math Kernel Library 2025.0 will require Intel(R) Advanced Vector Extensions (Intel(R) AVX) instructions.\n",
      "Intel MKL WARNING: Support of Intel(R) Streaming SIMD Extensions 4.2 (Intel(R) SSE4.2) enabled only processors has been deprecated. Intel oneAPI Math Kernel Library 2025.0 will require Intel(R) Advanced Vector Extensions (Intel(R) AVX) instructions.\n"
     ]
    }
   ],
   "source": [
    "import argparse\n",
    "import matplotlib.pyplot as plt\n",
    "import numpy as np\n",
    "import pandas as pd\n",
    "import scipy.stats as stats\n",
    "import statsmodels.stats.multitest as multitest\n",
    "import tqdm\n",
    "import sys\n",
    "# caution: path[0] is reserved for script path (or '' in REPL)\n",
    "sys.path.insert(1, '../scripts/') \n",
    "\n",
    "from equiv_test_funcs import *"
   ]
  },
  {
   "cell_type": "code",
   "execution_count": 113,
   "id": "195dde3a",
   "metadata": {},
   "outputs": [],
   "source": [
    "epsilon = 1\n",
    "delta = 1\n",
    "group1_vals = [0,0,0]\n",
    "group2_vals = [1,1,1]\n",
    "\n",
    "noise1 = np.random.uniform(-epsilon, epsilon,len(group1_vals))\n",
    "noise2 = np.random.uniform(-epsilon, epsilon,len(group2_vals))\n",
    "\n",
    "group1_vals = [ x + y for x, y in zip(group1_vals, noise1)]\n",
    "group2_vals = [ x + y for x, y in zip(group2_vals, noise2)]\n"
   ]
  },
  {
   "cell_type": "code",
   "execution_count": 114,
   "id": "92854ea0",
   "metadata": {},
   "outputs": [
    {
     "data": {
      "text/plain": [
       "[-0.4297732880262395, 0.8121615484476372, -0.6842917392087025]"
      ]
     },
     "execution_count": 114,
     "metadata": {},
     "output_type": "execute_result"
    }
   ],
   "source": [
    "group1_vals"
   ]
  },
  {
   "cell_type": "code",
   "execution_count": 115,
   "id": "e803c27d",
   "metadata": {},
   "outputs": [
    {
     "data": {
      "text/plain": [
       "[1.4587841388673997, 1.6830855908944777, 0.274454084836923]"
      ]
     },
     "execution_count": 115,
     "metadata": {},
     "output_type": "execute_result"
    }
   ],
   "source": [
    "group2_vals"
   ]
  },
  {
   "cell_type": "code",
   "execution_count": 116,
   "id": "7fd88424",
   "metadata": {},
   "outputs": [
    {
     "data": {
      "text/plain": [
       "(0.12318612448422164, 0.6694617938928424)"
      ]
     },
     "execution_count": 116,
     "metadata": {},
     "output_type": "execute_result"
    }
   ],
   "source": [
    "perform_t_tests(group1_vals, group2_vals, delta)"
   ]
  },
  {
   "cell_type": "code",
   "execution_count": null,
   "id": "568c59fd",
   "metadata": {},
   "outputs": [],
   "source": [
    "group1_vals"
   ]
  },
  {
   "cell_type": "code",
   "execution_count": 24,
   "id": "5d048f6d",
   "metadata": {},
   "outputs": [
    {
     "data": {
      "text/plain": [
       "array([-0.00108724, -0.05781598,  0.04905372])"
      ]
     },
     "execution_count": 24,
     "metadata": {},
     "output_type": "execute_result"
    }
   ],
   "source": []
  },
  {
   "cell_type": "code",
   "execution_count": null,
   "id": "da8a9bf9",
   "metadata": {},
   "outputs": [],
   "source": []
  }
 ],
 "metadata": {
  "kernelspec": {
   "display_name": "Python 3 (ipykernel)",
   "language": "python",
   "name": "python3"
  },
  "language_info": {
   "codemirror_mode": {
    "name": "ipython",
    "version": 3
   },
   "file_extension": ".py",
   "mimetype": "text/x-python",
   "name": "python",
   "nbconvert_exporter": "python",
   "pygments_lexer": "ipython3",
   "version": "3.9.19"
  }
 },
 "nbformat": 4,
 "nbformat_minor": 5
}
