{
 "cells": [
  {
   "cell_type": "code",
   "execution_count": 1,
   "id": "18c24351",
   "metadata": {
    "ExecuteTime": {
     "end_time": "2024-04-23T19:53:16.736677Z",
     "start_time": "2024-04-23T19:53:12.846218Z"
    }
   },
   "outputs": [],
   "source": [
    "import anndata\n",
    "import pandas as pd\n",
    "import matplotlib.pyplot as plt\n",
    "import numpy as np"
   ]
  },
  {
   "cell_type": "code",
   "execution_count": 3,
   "id": "0158207b",
   "metadata": {
    "ExecuteTime": {
     "end_time": "2024-04-23T19:54:22.501591Z",
     "start_time": "2024-04-23T19:54:22.495172Z"
    }
   },
   "outputs": [],
   "source": [
    "outpath = \"/exports/home/jolivieri/equivalence_testing/notebooks/output/HLCA_data_processing/\"\n",
    "dataname = \"HLCA_normal\""
   ]
  },
  {
   "cell_type": "code",
   "execution_count": 4,
   "id": "e8ca3206",
   "metadata": {
    "ExecuteTime": {
     "end_time": "2024-04-23T19:56:04.548375Z",
     "start_time": "2024-04-23T19:54:23.661409Z"
    }
   },
   "outputs": [],
   "source": [
    "# read in normal lung data\n",
    "h5ad_file = \"/exports/home/jolivieri/data/single_cell/HLCA/7a3f08f9-5d07-4ddd-a8fe-5967dd34f35f.h5ad\"\n",
    "\n",
    "data = anndata.read_h5ad(h5ad_file)"
   ]
  },
  {
   "cell_type": "code",
   "execution_count": 5,
   "id": "5ff1f617",
   "metadata": {
    "ExecuteTime": {
     "end_time": "2024-04-23T19:56:04.558149Z",
     "start_time": "2024-04-23T19:56:04.553875Z"
    }
   },
   "outputs": [],
   "source": [
    "full_data = data"
   ]
  },
  {
   "cell_type": "code",
   "execution_count": 36,
   "id": "6f52eccd",
   "metadata": {
    "ExecuteTime": {
     "end_time": "2024-04-23T18:16:10.260901Z",
     "start_time": "2024-04-23T18:16:10.251349Z"
    }
   },
   "outputs": [],
   "source": [
    "data = full_data"
   ]
  },
  {
   "cell_type": "code",
   "execution_count": 9,
   "id": "080a2c83",
   "metadata": {
    "ExecuteTime": {
     "end_time": "2024-04-23T19:56:29.641991Z",
     "start_time": "2024-04-23T19:56:29.613349Z"
    }
   },
   "outputs": [],
   "source": [
    "cell_types = [\"respiratory basal cell\", \"alveolar macrophage\"]\n",
    "#data = data[data.obs.tissue == \"lung parenchyma\"]\n",
    "cell_condition = (data.obs.cell_type.isin(cell_types)) & (data.obs.tissue == \"lung parenchyma\")"
   ]
  },
  {
   "cell_type": "code",
   "execution_count": 10,
   "id": "bd868b32",
   "metadata": {
    "ExecuteTime": {
     "end_time": "2024-04-23T19:56:33.295230Z",
     "start_time": "2024-04-23T19:56:30.798657Z"
    }
   },
   "outputs": [],
   "source": [
    "data.var[\"gene_count\"] = data.X.sum(axis=0).tolist()[0]\n",
    "gene_condition = data.var.gene_count > 1000"
   ]
  },
  {
   "cell_type": "code",
   "execution_count": 11,
   "id": "0be260f0",
   "metadata": {
    "ExecuteTime": {
     "end_time": "2024-04-23T19:56:33.303793Z",
     "start_time": "2024-04-23T19:56:33.298328Z"
    }
   },
   "outputs": [],
   "source": [
    "cell_indices = np.where(cell_condition)[0]\n",
    "gene_indices = np.where(gene_condition)[0]"
   ]
  },
  {
   "cell_type": "code",
   "execution_count": 16,
   "id": "02b28a1a",
   "metadata": {
    "ExecuteTime": {
     "end_time": "2024-04-23T19:57:08.481132Z",
     "start_time": "2024-04-23T19:57:08.467529Z"
    }
   },
   "outputs": [
    {
     "data": {
      "text/plain": [
       "<1x3 sparse matrix of type '<class 'numpy.float32'>'\n",
       "\twith 0 stored elements in Compressed Sparse Row format>"
      ]
     },
     "execution_count": 16,
     "metadata": {},
     "output_type": "execute_result"
    }
   ],
   "source": [
    "data.X[0,[3,5,6]]"
   ]
  },
  {
   "cell_type": "code",
   "execution_count": 40,
   "id": "a0fc1929",
   "metadata": {
    "ExecuteTime": {
     "end_time": "2024-04-23T20:29:19.288512Z",
     "start_time": "2024-04-23T20:29:04.863339Z"
    }
   },
   "outputs": [
    {
     "data": {
      "text/html": [
       "<div>\n",
       "<style scoped>\n",
       "    .dataframe tbody tr th:only-of-type {\n",
       "        vertical-align: middle;\n",
       "    }\n",
       "\n",
       "    .dataframe tbody tr th {\n",
       "        vertical-align: top;\n",
       "    }\n",
       "\n",
       "    .dataframe thead th {\n",
       "        text-align: right;\n",
       "    }\n",
       "</style>\n",
       "<table border=\"1\" class=\"dataframe\">\n",
       "  <thead>\n",
       "    <tr style=\"text-align: right;\">\n",
       "      <th>feature_name</th>\n",
       "      <th>TSPAN6</th>\n",
       "      <th>DPM1</th>\n",
       "      <th>SCYL3</th>\n",
       "      <th>C1orf112</th>\n",
       "      <th>FGR</th>\n",
       "      <th>CFH</th>\n",
       "      <th>FUCA2</th>\n",
       "      <th>GCLC</th>\n",
       "      <th>NFYA</th>\n",
       "      <th>STPG1</th>\n",
       "      <th>...</th>\n",
       "      <th>ADORA3</th>\n",
       "      <th>BISPR</th>\n",
       "      <th>TRBV7-2</th>\n",
       "      <th>CTC-490E21.14</th>\n",
       "      <th>PRNCR1</th>\n",
       "      <th>RP1-34B20.21</th>\n",
       "      <th>MPP7-DT</th>\n",
       "      <th>LINC02635</th>\n",
       "      <th>RP11-11M20.4</th>\n",
       "      <th>LLNLR-245B6.1</th>\n",
       "    </tr>\n",
       "  </thead>\n",
       "  <tbody>\n",
       "    <tr>\n",
       "      <th>GCGACCATCCCTAACC_SC22</th>\n",
       "      <td>0.0</td>\n",
       "      <td>1.0</td>\n",
       "      <td>0.0</td>\n",
       "      <td>0.0</td>\n",
       "      <td>0.0</td>\n",
       "      <td>0.0</td>\n",
       "      <td>0.0</td>\n",
       "      <td>0.0</td>\n",
       "      <td>0.0</td>\n",
       "      <td>0.0</td>\n",
       "      <td>...</td>\n",
       "      <td>0.0</td>\n",
       "      <td>0.0</td>\n",
       "      <td>0.0</td>\n",
       "      <td>0.0</td>\n",
       "      <td>0.0</td>\n",
       "      <td>0.0</td>\n",
       "      <td>0.0</td>\n",
       "      <td>0.0</td>\n",
       "      <td>0.0</td>\n",
       "      <td>0.0</td>\n",
       "    </tr>\n",
       "    <tr>\n",
       "      <th>AGGGAGTAGCGTTTAC_SC18</th>\n",
       "      <td>0.0</td>\n",
       "      <td>0.0</td>\n",
       "      <td>0.0</td>\n",
       "      <td>0.0</td>\n",
       "      <td>2.0</td>\n",
       "      <td>0.0</td>\n",
       "      <td>0.0</td>\n",
       "      <td>0.0</td>\n",
       "      <td>0.0</td>\n",
       "      <td>0.0</td>\n",
       "      <td>...</td>\n",
       "      <td>0.0</td>\n",
       "      <td>0.0</td>\n",
       "      <td>0.0</td>\n",
       "      <td>0.0</td>\n",
       "      <td>0.0</td>\n",
       "      <td>0.0</td>\n",
       "      <td>0.0</td>\n",
       "      <td>0.0</td>\n",
       "      <td>0.0</td>\n",
       "      <td>0.0</td>\n",
       "    </tr>\n",
       "    <tr>\n",
       "      <th>CGACTTCCATTCCTGC_HD68</th>\n",
       "      <td>0.0</td>\n",
       "      <td>0.0</td>\n",
       "      <td>0.0</td>\n",
       "      <td>0.0</td>\n",
       "      <td>1.0</td>\n",
       "      <td>0.0</td>\n",
       "      <td>0.0</td>\n",
       "      <td>1.0</td>\n",
       "      <td>0.0</td>\n",
       "      <td>0.0</td>\n",
       "      <td>...</td>\n",
       "      <td>0.0</td>\n",
       "      <td>0.0</td>\n",
       "      <td>0.0</td>\n",
       "      <td>0.0</td>\n",
       "      <td>0.0</td>\n",
       "      <td>0.0</td>\n",
       "      <td>0.0</td>\n",
       "      <td>0.0</td>\n",
       "      <td>0.0</td>\n",
       "      <td>0.0</td>\n",
       "    </tr>\n",
       "    <tr>\n",
       "      <th>TCATGAGGTCGCAGTC_SC142</th>\n",
       "      <td>0.0</td>\n",
       "      <td>0.0</td>\n",
       "      <td>0.0</td>\n",
       "      <td>0.0</td>\n",
       "      <td>4.0</td>\n",
       "      <td>0.0</td>\n",
       "      <td>1.0</td>\n",
       "      <td>1.0</td>\n",
       "      <td>0.0</td>\n",
       "      <td>0.0</td>\n",
       "      <td>...</td>\n",
       "      <td>1.0</td>\n",
       "      <td>0.0</td>\n",
       "      <td>0.0</td>\n",
       "      <td>0.0</td>\n",
       "      <td>0.0</td>\n",
       "      <td>0.0</td>\n",
       "      <td>0.0</td>\n",
       "      <td>0.0</td>\n",
       "      <td>0.0</td>\n",
       "      <td>0.0</td>\n",
       "    </tr>\n",
       "    <tr>\n",
       "      <th>CCCAGTTCATACCATG_SC24</th>\n",
       "      <td>0.0</td>\n",
       "      <td>0.0</td>\n",
       "      <td>0.0</td>\n",
       "      <td>0.0</td>\n",
       "      <td>3.0</td>\n",
       "      <td>0.0</td>\n",
       "      <td>1.0</td>\n",
       "      <td>0.0</td>\n",
       "      <td>0.0</td>\n",
       "      <td>0.0</td>\n",
       "      <td>...</td>\n",
       "      <td>0.0</td>\n",
       "      <td>0.0</td>\n",
       "      <td>0.0</td>\n",
       "      <td>0.0</td>\n",
       "      <td>0.0</td>\n",
       "      <td>0.0</td>\n",
       "      <td>0.0</td>\n",
       "      <td>0.0</td>\n",
       "      <td>0.0</td>\n",
       "      <td>0.0</td>\n",
       "    </tr>\n",
       "    <tr>\n",
       "      <th>...</th>\n",
       "      <td>...</td>\n",
       "      <td>...</td>\n",
       "      <td>...</td>\n",
       "      <td>...</td>\n",
       "      <td>...</td>\n",
       "      <td>...</td>\n",
       "      <td>...</td>\n",
       "      <td>...</td>\n",
       "      <td>...</td>\n",
       "      <td>...</td>\n",
       "      <td>...</td>\n",
       "      <td>...</td>\n",
       "      <td>...</td>\n",
       "      <td>...</td>\n",
       "      <td>...</td>\n",
       "      <td>...</td>\n",
       "      <td>...</td>\n",
       "      <td>...</td>\n",
       "      <td>...</td>\n",
       "      <td>...</td>\n",
       "      <td>...</td>\n",
       "    </tr>\n",
       "    <tr>\n",
       "      <th>GTGAAGGAGTGGACGT_SC24</th>\n",
       "      <td>0.0</td>\n",
       "      <td>0.0</td>\n",
       "      <td>0.0</td>\n",
       "      <td>0.0</td>\n",
       "      <td>0.0</td>\n",
       "      <td>0.0</td>\n",
       "      <td>1.0</td>\n",
       "      <td>0.0</td>\n",
       "      <td>0.0</td>\n",
       "      <td>0.0</td>\n",
       "      <td>...</td>\n",
       "      <td>0.0</td>\n",
       "      <td>0.0</td>\n",
       "      <td>0.0</td>\n",
       "      <td>0.0</td>\n",
       "      <td>0.0</td>\n",
       "      <td>0.0</td>\n",
       "      <td>0.0</td>\n",
       "      <td>0.0</td>\n",
       "      <td>0.0</td>\n",
       "      <td>0.0</td>\n",
       "    </tr>\n",
       "    <tr>\n",
       "      <th>AACGTTGGTAACGACG_F02617</th>\n",
       "      <td>0.0</td>\n",
       "      <td>0.0</td>\n",
       "      <td>0.0</td>\n",
       "      <td>0.0</td>\n",
       "      <td>0.0</td>\n",
       "      <td>0.0</td>\n",
       "      <td>0.0</td>\n",
       "      <td>0.0</td>\n",
       "      <td>0.0</td>\n",
       "      <td>0.0</td>\n",
       "      <td>...</td>\n",
       "      <td>0.0</td>\n",
       "      <td>0.0</td>\n",
       "      <td>0.0</td>\n",
       "      <td>0.0</td>\n",
       "      <td>0.0</td>\n",
       "      <td>0.0</td>\n",
       "      <td>0.0</td>\n",
       "      <td>0.0</td>\n",
       "      <td>0.0</td>\n",
       "      <td>0.0</td>\n",
       "    </tr>\n",
       "    <tr>\n",
       "      <th>TGCACGGCACCTAAAC_SC84</th>\n",
       "      <td>0.0</td>\n",
       "      <td>0.0</td>\n",
       "      <td>0.0</td>\n",
       "      <td>0.0</td>\n",
       "      <td>0.0</td>\n",
       "      <td>0.0</td>\n",
       "      <td>0.0</td>\n",
       "      <td>0.0</td>\n",
       "      <td>0.0</td>\n",
       "      <td>0.0</td>\n",
       "      <td>...</td>\n",
       "      <td>0.0</td>\n",
       "      <td>1.0</td>\n",
       "      <td>0.0</td>\n",
       "      <td>0.0</td>\n",
       "      <td>0.0</td>\n",
       "      <td>0.0</td>\n",
       "      <td>0.0</td>\n",
       "      <td>0.0</td>\n",
       "      <td>0.0</td>\n",
       "      <td>0.0</td>\n",
       "    </tr>\n",
       "    <tr>\n",
       "      <th>CGTGATACAGGTCCCA_SC84</th>\n",
       "      <td>0.0</td>\n",
       "      <td>1.0</td>\n",
       "      <td>0.0</td>\n",
       "      <td>0.0</td>\n",
       "      <td>1.0</td>\n",
       "      <td>0.0</td>\n",
       "      <td>2.0</td>\n",
       "      <td>0.0</td>\n",
       "      <td>0.0</td>\n",
       "      <td>0.0</td>\n",
       "      <td>...</td>\n",
       "      <td>0.0</td>\n",
       "      <td>0.0</td>\n",
       "      <td>0.0</td>\n",
       "      <td>0.0</td>\n",
       "      <td>0.0</td>\n",
       "      <td>0.0</td>\n",
       "      <td>0.0</td>\n",
       "      <td>0.0</td>\n",
       "      <td>0.0</td>\n",
       "      <td>0.0</td>\n",
       "    </tr>\n",
       "    <tr>\n",
       "      <th>P1_4_TTCGAAGAGGTCGGAT</th>\n",
       "      <td>0.0</td>\n",
       "      <td>0.0</td>\n",
       "      <td>0.0</td>\n",
       "      <td>0.0</td>\n",
       "      <td>2.0</td>\n",
       "      <td>0.0</td>\n",
       "      <td>0.0</td>\n",
       "      <td>0.0</td>\n",
       "      <td>0.0</td>\n",
       "      <td>0.0</td>\n",
       "      <td>...</td>\n",
       "      <td>0.0</td>\n",
       "      <td>0.0</td>\n",
       "      <td>0.0</td>\n",
       "      <td>0.0</td>\n",
       "      <td>0.0</td>\n",
       "      <td>0.0</td>\n",
       "      <td>0.0</td>\n",
       "      <td>0.0</td>\n",
       "      <td>0.0</td>\n",
       "      <td>0.0</td>\n",
       "    </tr>\n",
       "  </tbody>\n",
       "</table>\n",
       "<p>74038 rows × 17500 columns</p>\n",
       "</div>"
      ],
      "text/plain": [
       "feature_name             TSPAN6  DPM1  SCYL3  C1orf112  FGR  CFH  FUCA2  GCLC  \\\n",
       "GCGACCATCCCTAACC_SC22       0.0   1.0    0.0       0.0  0.0  0.0    0.0   0.0   \n",
       "AGGGAGTAGCGTTTAC_SC18       0.0   0.0    0.0       0.0  2.0  0.0    0.0   0.0   \n",
       "CGACTTCCATTCCTGC_HD68       0.0   0.0    0.0       0.0  1.0  0.0    0.0   1.0   \n",
       "TCATGAGGTCGCAGTC_SC142      0.0   0.0    0.0       0.0  4.0  0.0    1.0   1.0   \n",
       "CCCAGTTCATACCATG_SC24       0.0   0.0    0.0       0.0  3.0  0.0    1.0   0.0   \n",
       "...                         ...   ...    ...       ...  ...  ...    ...   ...   \n",
       "GTGAAGGAGTGGACGT_SC24       0.0   0.0    0.0       0.0  0.0  0.0    1.0   0.0   \n",
       "AACGTTGGTAACGACG_F02617     0.0   0.0    0.0       0.0  0.0  0.0    0.0   0.0   \n",
       "TGCACGGCACCTAAAC_SC84       0.0   0.0    0.0       0.0  0.0  0.0    0.0   0.0   \n",
       "CGTGATACAGGTCCCA_SC84       0.0   1.0    0.0       0.0  1.0  0.0    2.0   0.0   \n",
       "P1_4_TTCGAAGAGGTCGGAT       0.0   0.0    0.0       0.0  2.0  0.0    0.0   0.0   \n",
       "\n",
       "feature_name             NFYA  STPG1  ...  ADORA3  BISPR  TRBV7-2  \\\n",
       "GCGACCATCCCTAACC_SC22     0.0    0.0  ...     0.0    0.0      0.0   \n",
       "AGGGAGTAGCGTTTAC_SC18     0.0    0.0  ...     0.0    0.0      0.0   \n",
       "CGACTTCCATTCCTGC_HD68     0.0    0.0  ...     0.0    0.0      0.0   \n",
       "TCATGAGGTCGCAGTC_SC142    0.0    0.0  ...     1.0    0.0      0.0   \n",
       "CCCAGTTCATACCATG_SC24     0.0    0.0  ...     0.0    0.0      0.0   \n",
       "...                       ...    ...  ...     ...    ...      ...   \n",
       "GTGAAGGAGTGGACGT_SC24     0.0    0.0  ...     0.0    0.0      0.0   \n",
       "AACGTTGGTAACGACG_F02617   0.0    0.0  ...     0.0    0.0      0.0   \n",
       "TGCACGGCACCTAAAC_SC84     0.0    0.0  ...     0.0    1.0      0.0   \n",
       "CGTGATACAGGTCCCA_SC84     0.0    0.0  ...     0.0    0.0      0.0   \n",
       "P1_4_TTCGAAGAGGTCGGAT     0.0    0.0  ...     0.0    0.0      0.0   \n",
       "\n",
       "feature_name             CTC-490E21.14  PRNCR1  RP1-34B20.21  MPP7-DT  \\\n",
       "GCGACCATCCCTAACC_SC22              0.0     0.0           0.0      0.0   \n",
       "AGGGAGTAGCGTTTAC_SC18              0.0     0.0           0.0      0.0   \n",
       "CGACTTCCATTCCTGC_HD68              0.0     0.0           0.0      0.0   \n",
       "TCATGAGGTCGCAGTC_SC142             0.0     0.0           0.0      0.0   \n",
       "CCCAGTTCATACCATG_SC24              0.0     0.0           0.0      0.0   \n",
       "...                                ...     ...           ...      ...   \n",
       "GTGAAGGAGTGGACGT_SC24              0.0     0.0           0.0      0.0   \n",
       "AACGTTGGTAACGACG_F02617            0.0     0.0           0.0      0.0   \n",
       "TGCACGGCACCTAAAC_SC84              0.0     0.0           0.0      0.0   \n",
       "CGTGATACAGGTCCCA_SC84              0.0     0.0           0.0      0.0   \n",
       "P1_4_TTCGAAGAGGTCGGAT              0.0     0.0           0.0      0.0   \n",
       "\n",
       "feature_name             LINC02635  RP11-11M20.4  LLNLR-245B6.1  \n",
       "GCGACCATCCCTAACC_SC22          0.0           0.0            0.0  \n",
       "AGGGAGTAGCGTTTAC_SC18          0.0           0.0            0.0  \n",
       "CGACTTCCATTCCTGC_HD68          0.0           0.0            0.0  \n",
       "TCATGAGGTCGCAGTC_SC142         0.0           0.0            0.0  \n",
       "CCCAGTTCATACCATG_SC24          0.0           0.0            0.0  \n",
       "...                            ...           ...            ...  \n",
       "GTGAAGGAGTGGACGT_SC24          0.0           0.0            0.0  \n",
       "AACGTTGGTAACGACG_F02617        0.0           0.0            0.0  \n",
       "TGCACGGCACCTAAAC_SC84          0.0           0.0            0.0  \n",
       "CGTGATACAGGTCCCA_SC84          0.0           0.0            0.0  \n",
       "P1_4_TTCGAAGAGGTCGGAT          0.0           0.0            0.0  \n",
       "\n",
       "[74038 rows x 17500 columns]"
      ]
     },
     "execution_count": 40,
     "metadata": {},
     "output_type": "execute_result"
    }
   ],
   "source": [
    "#row_indices = [0,3]\n",
    "#row_indices = cell_indices\n",
    "#col_indices = [3,5,6]\n",
    "#col_indices = gene_indices\n",
    "pd.DataFrame.sparse.from_spmatrix(data.raw.X[cell_indices,:][:,gene_indices], columns = data.var[\"feature_name\"][gene_indices], index = data.obs.iloc[cell_indices].index)    \n",
    "\n"
   ]
  },
  {
   "cell_type": "code",
   "execution_count": 36,
   "id": "cfd892b5",
   "metadata": {
    "ExecuteTime": {
     "end_time": "2024-04-23T20:27:30.845992Z",
     "start_time": "2024-04-23T20:27:30.836560Z"
    }
   },
   "outputs": [
    {
     "data": {
      "text/plain": [
       "17500"
      ]
     },
     "execution_count": 36,
     "metadata": {},
     "output_type": "execute_result"
    }
   ],
   "source": [
    "len(gene_indices)"
   ]
  },
  {
   "cell_type": "code",
   "execution_count": null,
   "id": "18a27a9a",
   "metadata": {},
   "outputs": [],
   "source": [
    "df = pd.DataFrame.sparse.from_spmatrix(data.raw.X[cell_indices, :][gene_indices, :], columns=data.var[\"feature_name\"][gene_condition], index=data.obs[cell_condition].index)"
   ]
  },
  {
   "cell_type": "code",
   "execution_count": 7,
   "id": "883921c7",
   "metadata": {
    "ExecuteTime": {
     "end_time": "2024-04-23T19:56:14.658583Z",
     "start_time": "2024-04-23T19:56:14.648606Z"
    }
   },
   "outputs": [
    {
     "data": {
      "text/plain": [
       "(584944, 28024)"
      ]
     },
     "execution_count": 7,
     "metadata": {},
     "output_type": "execute_result"
    }
   ],
   "source": [
    "data.X.shape"
   ]
  },
  {
   "cell_type": "code",
   "execution_count": 8,
   "id": "6b83e567",
   "metadata": {
    "ExecuteTime": {
     "end_time": "2024-04-23T19:56:15.425994Z",
     "start_time": "2024-04-23T19:56:15.415968Z"
    }
   },
   "outputs": [
    {
     "data": {
      "text/plain": [
       "(584944, 28024)"
      ]
     },
     "execution_count": 8,
     "metadata": {},
     "output_type": "execute_result"
    }
   ],
   "source": [
    "data.raw.X.shape"
   ]
  },
  {
   "cell_type": "code",
   "execution_count": 30,
   "id": "2daee56e",
   "metadata": {
    "ExecuteTime": {
     "end_time": "2024-04-23T19:14:42.156774Z",
     "start_time": "2024-04-23T19:14:40.459111Z"
    }
   },
   "outputs": [
    {
     "data": {
      "text/plain": [
       "<17500x28024 sparse matrix of type '<class 'numpy.float32'>'\n",
       "\twith 43985371 stored elements in Compressed Sparse Row format>"
      ]
     },
     "execution_count": 30,
     "metadata": {},
     "output_type": "execute_result"
    }
   ],
   "source": [
    "data.raw.X[cell_indices, :][gene_indices, :]"
   ]
  },
  {
   "cell_type": "code",
   "execution_count": null,
   "id": "47d7e780",
   "metadata": {},
   "outputs": [],
   "source": []
  },
  {
   "cell_type": "code",
   "execution_count": 31,
   "id": "e9bc43dc",
   "metadata": {
    "ExecuteTime": {
     "end_time": "2024-04-23T19:14:54.999112Z",
     "start_time": "2024-04-23T19:14:54.989258Z"
    }
   },
   "outputs": [
    {
     "data": {
      "text/plain": [
       "74038"
      ]
     },
     "execution_count": 31,
     "metadata": {},
     "output_type": "execute_result"
    }
   ],
   "source": [
    "len(cell_indices)"
   ]
  },
  {
   "cell_type": "code",
   "execution_count": 27,
   "id": "bbfe0ba6",
   "metadata": {
    "ExecuteTime": {
     "end_time": "2024-04-23T19:13:45.501508Z",
     "start_time": "2024-04-23T19:13:45.491580Z"
    }
   },
   "outputs": [
    {
     "data": {
      "text/plain": [
       "74038"
      ]
     },
     "execution_count": 27,
     "metadata": {},
     "output_type": "execute_result"
    }
   ],
   "source": [
    "len(cell_indices)"
   ]
  },
  {
   "cell_type": "code",
   "execution_count": 28,
   "id": "57288d6d",
   "metadata": {
    "ExecuteTime": {
     "end_time": "2024-04-23T19:14:11.093192Z",
     "start_time": "2024-04-23T19:14:11.083429Z"
    }
   },
   "outputs": [
    {
     "data": {
      "text/plain": [
       "17500"
      ]
     },
     "execution_count": 28,
     "metadata": {},
     "output_type": "execute_result"
    }
   ],
   "source": [
    "len(gene_indices)"
   ]
  },
  {
   "cell_type": "code",
   "execution_count": 32,
   "id": "c8c4ad0f",
   "metadata": {
    "ExecuteTime": {
     "end_time": "2024-04-23T19:16:04.126562Z",
     "start_time": "2024-04-23T19:16:03.991234Z"
    }
   },
   "outputs": [
    {
     "data": {
      "text/plain": [
       "Index(['GCGACCATCCCTAACC_SC22', 'AGGGAGTAGCGTTTAC_SC18',\n",
       "       'CGACTTCCATTCCTGC_HD68', 'TCATGAGGTCGCAGTC_SC142',\n",
       "       'CCCAGTTCATACCATG_SC24', 'CCATGTCGTGCTGTAT_F01394',\n",
       "       '7239217_CATGGCGGTAGAAGGA', 'GATGAAAAGGGATCTG_F01874',\n",
       "       'TGGACGCAGTGATCGG_SC24', 'P3_5_GAATAAGAGTGACATA',\n",
       "       ...\n",
       "       'GATCACAAGTCATGGG_SC144', 'AGATCTGCAGGGTACA-SC156',\n",
       "       'ACCTTTAGTGCAACGA_F02528', 'TCTTCGGAGAGTTGGC_SC07',\n",
       "       'GTTACAGGTGGACGAT_F02617', 'GTGAAGGAGTGGACGT_SC24',\n",
       "       'AACGTTGGTAACGACG_F02617', 'TGCACGGCACCTAAAC_SC84',\n",
       "       'CGTGATACAGGTCCCA_SC84', 'P1_4_TTCGAAGAGGTCGGAT'],\n",
       "      dtype='object', length=74038)"
      ]
     },
     "execution_count": 32,
     "metadata": {},
     "output_type": "execute_result"
    }
   ],
   "source": [
    "data.obs[cell_condition].index"
   ]
  },
  {
   "cell_type": "code",
   "execution_count": 16,
   "id": "b4d5ca2f",
   "metadata": {
    "ExecuteTime": {
     "end_time": "2024-04-23T18:24:12.436977Z",
     "start_time": "2024-04-23T18:24:12.419327Z"
    }
   },
   "outputs": [
    {
     "data": {
      "text/plain": [
       "ensembl_id\n",
       "ENSG00000000003           TSPAN6\n",
       "ENSG00000000419             DPM1\n",
       "ENSG00000000457            SCYL3\n",
       "ENSG00000000460         C1orf112\n",
       "ENSG00000000938              FGR\n",
       "                       ...      \n",
       "ENSG00000282988     RP1-34B20.21\n",
       "ENSG00000282996          MPP7-DT\n",
       "ENSG00000283000        LINC02635\n",
       "ENSG00000283078     RP11-11M20.4\n",
       "ENSG00000283103    LLNLR-245B6.1\n",
       "Name: feature_name, Length: 17500, dtype: category\n",
       "Categories (28024, object): ['A1BG', 'A1BG-AS1', 'A1CF', 'A2M', ..., 'ZYX', 'ZZEF1', 'ZZZ3', 'bP-21264C1.2']"
      ]
     },
     "execution_count": 16,
     "metadata": {},
     "output_type": "execute_result"
    }
   ],
   "source": [
    "data.var[\"feature_name\"][gene_condition]"
   ]
  },
  {
   "cell_type": "code",
   "execution_count": 18,
   "id": "36c0ef2c",
   "metadata": {
    "ExecuteTime": {
     "end_time": "2024-04-23T18:24:52.310733Z",
     "start_time": "2024-04-23T18:24:52.152627Z"
    }
   },
   "outputs": [
    {
     "data": {
      "text/html": [
       "<div>\n",
       "<style scoped>\n",
       "    .dataframe tbody tr th:only-of-type {\n",
       "        vertical-align: middle;\n",
       "    }\n",
       "\n",
       "    .dataframe tbody tr th {\n",
       "        vertical-align: top;\n",
       "    }\n",
       "\n",
       "    .dataframe thead th {\n",
       "        text-align: right;\n",
       "    }\n",
       "</style>\n",
       "<table border=\"1\" class=\"dataframe\">\n",
       "  <thead>\n",
       "    <tr style=\"text-align: right;\">\n",
       "      <th></th>\n",
       "      <th>suspension_type</th>\n",
       "      <th>donor_id</th>\n",
       "      <th>is_primary_data</th>\n",
       "      <th>assay_ontology_term_id</th>\n",
       "      <th>cell_type_ontology_term_id</th>\n",
       "      <th>development_stage_ontology_term_id</th>\n",
       "      <th>disease_ontology_term_id</th>\n",
       "      <th>self_reported_ethnicity_ontology_term_id</th>\n",
       "      <th>tissue_ontology_term_id</th>\n",
       "      <th>organism_ontology_term_id</th>\n",
       "      <th>...</th>\n",
       "      <th>tissue_type</th>\n",
       "      <th>cell_type</th>\n",
       "      <th>assay</th>\n",
       "      <th>disease</th>\n",
       "      <th>organism</th>\n",
       "      <th>sex</th>\n",
       "      <th>tissue</th>\n",
       "      <th>self_reported_ethnicity</th>\n",
       "      <th>development_stage</th>\n",
       "      <th>observation_joinid</th>\n",
       "    </tr>\n",
       "  </thead>\n",
       "  <tbody>\n",
       "    <tr>\n",
       "      <th>GCGACCATCCCTAACC_SC22</th>\n",
       "      <td>cell</td>\n",
       "      <td>homosapiens_None_2023_None_sikkemalisa_001_d10...</td>\n",
       "      <td>False</td>\n",
       "      <td>EFO:0009899</td>\n",
       "      <td>CL:0000583</td>\n",
       "      <td>HsapDv:0000143</td>\n",
       "      <td>PATO:0000461</td>\n",
       "      <td>HANCESTRO:0005</td>\n",
       "      <td>UBERON:0008946</td>\n",
       "      <td>NCBITaxon:9606</td>\n",
       "      <td>...</td>\n",
       "      <td>tissue</td>\n",
       "      <td>alveolar macrophage</td>\n",
       "      <td>10x 3' v2</td>\n",
       "      <td>normal</td>\n",
       "      <td>Homo sapiens</td>\n",
       "      <td>female</td>\n",
       "      <td>lung parenchyma</td>\n",
       "      <td>European</td>\n",
       "      <td>49-year-old human stage</td>\n",
       "      <td>y3(xbM64-M</td>\n",
       "    </tr>\n",
       "    <tr>\n",
       "      <th>AGGGAGTAGCGTTTAC_SC18</th>\n",
       "      <td>cell</td>\n",
       "      <td>homosapiens_None_2023_None_sikkemalisa_001_d10...</td>\n",
       "      <td>False</td>\n",
       "      <td>EFO:0009899</td>\n",
       "      <td>CL:0000583</td>\n",
       "      <td>HsapDv:0000123</td>\n",
       "      <td>PATO:0000461</td>\n",
       "      <td>HANCESTRO:0010</td>\n",
       "      <td>UBERON:0008946</td>\n",
       "      <td>NCBITaxon:9606</td>\n",
       "      <td>...</td>\n",
       "      <td>tissue</td>\n",
       "      <td>alveolar macrophage</td>\n",
       "      <td>10x 3' v2</td>\n",
       "      <td>normal</td>\n",
       "      <td>Homo sapiens</td>\n",
       "      <td>female</td>\n",
       "      <td>lung parenchyma</td>\n",
       "      <td>African</td>\n",
       "      <td>29-year-old human stage</td>\n",
       "      <td>*aP;Uo6RCl</td>\n",
       "    </tr>\n",
       "    <tr>\n",
       "      <th>CGACTTCCATTCCTGC_HD68</th>\n",
       "      <td>cell</td>\n",
       "      <td>homosapiens_None_2023_None_sikkemalisa_001_d10...</td>\n",
       "      <td>False</td>\n",
       "      <td>EFO:0011025</td>\n",
       "      <td>CL:0000583</td>\n",
       "      <td>HsapDv:0000135</td>\n",
       "      <td>PATO:0000461</td>\n",
       "      <td>HANCESTRO:0005</td>\n",
       "      <td>UBERON:0008946</td>\n",
       "      <td>NCBITaxon:9606</td>\n",
       "      <td>...</td>\n",
       "      <td>tissue</td>\n",
       "      <td>alveolar macrophage</td>\n",
       "      <td>10x 5' v1</td>\n",
       "      <td>normal</td>\n",
       "      <td>Homo sapiens</td>\n",
       "      <td>male</td>\n",
       "      <td>lung parenchyma</td>\n",
       "      <td>European</td>\n",
       "      <td>41-year-old human stage</td>\n",
       "      <td>@K%eEkg!JV</td>\n",
       "    </tr>\n",
       "    <tr>\n",
       "      <th>TCATGAGGTCGCAGTC_SC142</th>\n",
       "      <td>cell</td>\n",
       "      <td>homosapiens_None_2023_None_sikkemalisa_001_d10...</td>\n",
       "      <td>False</td>\n",
       "      <td>EFO:0009922</td>\n",
       "      <td>CL:0000583</td>\n",
       "      <td>HsapDv:0000119</td>\n",
       "      <td>PATO:0000461</td>\n",
       "      <td>unknown</td>\n",
       "      <td>UBERON:0008946</td>\n",
       "      <td>NCBITaxon:9606</td>\n",
       "      <td>...</td>\n",
       "      <td>tissue</td>\n",
       "      <td>alveolar macrophage</td>\n",
       "      <td>10x 3' v3</td>\n",
       "      <td>normal</td>\n",
       "      <td>Homo sapiens</td>\n",
       "      <td>male</td>\n",
       "      <td>lung parenchyma</td>\n",
       "      <td>unknown</td>\n",
       "      <td>25-year-old human stage</td>\n",
       "      <td>aB|nN5*qrh</td>\n",
       "    </tr>\n",
       "    <tr>\n",
       "      <th>CCCAGTTCATACCATG_SC24</th>\n",
       "      <td>cell</td>\n",
       "      <td>homosapiens_None_2023_None_sikkemalisa_001_d10...</td>\n",
       "      <td>False</td>\n",
       "      <td>EFO:0009899</td>\n",
       "      <td>CL:0000583</td>\n",
       "      <td>HsapDv:0000116</td>\n",
       "      <td>PATO:0000461</td>\n",
       "      <td>HANCESTRO:0010</td>\n",
       "      <td>UBERON:0008946</td>\n",
       "      <td>NCBITaxon:9606</td>\n",
       "      <td>...</td>\n",
       "      <td>tissue</td>\n",
       "      <td>alveolar macrophage</td>\n",
       "      <td>10x 3' v2</td>\n",
       "      <td>normal</td>\n",
       "      <td>Homo sapiens</td>\n",
       "      <td>female</td>\n",
       "      <td>lung parenchyma</td>\n",
       "      <td>African</td>\n",
       "      <td>22-year-old human stage</td>\n",
       "      <td>zo`X=;x+&lt;(</td>\n",
       "    </tr>\n",
       "    <tr>\n",
       "      <th>...</th>\n",
       "      <td>...</td>\n",
       "      <td>...</td>\n",
       "      <td>...</td>\n",
       "      <td>...</td>\n",
       "      <td>...</td>\n",
       "      <td>...</td>\n",
       "      <td>...</td>\n",
       "      <td>...</td>\n",
       "      <td>...</td>\n",
       "      <td>...</td>\n",
       "      <td>...</td>\n",
       "      <td>...</td>\n",
       "      <td>...</td>\n",
       "      <td>...</td>\n",
       "      <td>...</td>\n",
       "      <td>...</td>\n",
       "      <td>...</td>\n",
       "      <td>...</td>\n",
       "      <td>...</td>\n",
       "      <td>...</td>\n",
       "      <td>...</td>\n",
       "    </tr>\n",
       "    <tr>\n",
       "      <th>GTGAAGGAGTGGACGT_SC24</th>\n",
       "      <td>cell</td>\n",
       "      <td>homosapiens_None_2023_None_sikkemalisa_001_d10...</td>\n",
       "      <td>False</td>\n",
       "      <td>EFO:0009899</td>\n",
       "      <td>CL:0000583</td>\n",
       "      <td>HsapDv:0000116</td>\n",
       "      <td>PATO:0000461</td>\n",
       "      <td>HANCESTRO:0010</td>\n",
       "      <td>UBERON:0008946</td>\n",
       "      <td>NCBITaxon:9606</td>\n",
       "      <td>...</td>\n",
       "      <td>tissue</td>\n",
       "      <td>alveolar macrophage</td>\n",
       "      <td>10x 3' v2</td>\n",
       "      <td>normal</td>\n",
       "      <td>Homo sapiens</td>\n",
       "      <td>female</td>\n",
       "      <td>lung parenchyma</td>\n",
       "      <td>African</td>\n",
       "      <td>22-year-old human stage</td>\n",
       "      <td>_62+TC3jyv</td>\n",
       "    </tr>\n",
       "    <tr>\n",
       "      <th>AACGTTGGTAACGACG_F02617</th>\n",
       "      <td>cell</td>\n",
       "      <td>homosapiens_None_2023_None_sikkemalisa_001_d10...</td>\n",
       "      <td>False</td>\n",
       "      <td>EFO:0011025</td>\n",
       "      <td>CL:0000583</td>\n",
       "      <td>HsapDv:0000149</td>\n",
       "      <td>PATO:0000461</td>\n",
       "      <td>HANCESTRO:0005</td>\n",
       "      <td>UBERON:0008946</td>\n",
       "      <td>NCBITaxon:9606</td>\n",
       "      <td>...</td>\n",
       "      <td>tissue</td>\n",
       "      <td>alveolar macrophage</td>\n",
       "      <td>10x 5' v1</td>\n",
       "      <td>normal</td>\n",
       "      <td>Homo sapiens</td>\n",
       "      <td>male</td>\n",
       "      <td>lung parenchyma</td>\n",
       "      <td>European</td>\n",
       "      <td>55-year-old human stage</td>\n",
       "      <td>^3DvCIx2dm</td>\n",
       "    </tr>\n",
       "    <tr>\n",
       "      <th>TGCACGGCACCTAAAC_SC84</th>\n",
       "      <td>cell</td>\n",
       "      <td>homosapiens_None_2023_None_sikkemalisa_001_d10...</td>\n",
       "      <td>False</td>\n",
       "      <td>EFO:0009922</td>\n",
       "      <td>CL:0000583</td>\n",
       "      <td>HsapDv:0000146</td>\n",
       "      <td>PATO:0000461</td>\n",
       "      <td>HANCESTRO:0010</td>\n",
       "      <td>UBERON:0008946</td>\n",
       "      <td>NCBITaxon:9606</td>\n",
       "      <td>...</td>\n",
       "      <td>tissue</td>\n",
       "      <td>alveolar macrophage</td>\n",
       "      <td>10x 3' v3</td>\n",
       "      <td>normal</td>\n",
       "      <td>Homo sapiens</td>\n",
       "      <td>male</td>\n",
       "      <td>lung parenchyma</td>\n",
       "      <td>African</td>\n",
       "      <td>52-year-old human stage</td>\n",
       "      <td>A=58)+K;nl</td>\n",
       "    </tr>\n",
       "    <tr>\n",
       "      <th>CGTGATACAGGTCCCA_SC84</th>\n",
       "      <td>cell</td>\n",
       "      <td>homosapiens_None_2023_None_sikkemalisa_001_d10...</td>\n",
       "      <td>False</td>\n",
       "      <td>EFO:0009922</td>\n",
       "      <td>CL:0000583</td>\n",
       "      <td>HsapDv:0000146</td>\n",
       "      <td>PATO:0000461</td>\n",
       "      <td>HANCESTRO:0010</td>\n",
       "      <td>UBERON:0008946</td>\n",
       "      <td>NCBITaxon:9606</td>\n",
       "      <td>...</td>\n",
       "      <td>tissue</td>\n",
       "      <td>alveolar macrophage</td>\n",
       "      <td>10x 3' v3</td>\n",
       "      <td>normal</td>\n",
       "      <td>Homo sapiens</td>\n",
       "      <td>male</td>\n",
       "      <td>lung parenchyma</td>\n",
       "      <td>African</td>\n",
       "      <td>52-year-old human stage</td>\n",
       "      <td>WSkNGwvOyS</td>\n",
       "    </tr>\n",
       "    <tr>\n",
       "      <th>P1_4_TTCGAAGAGGTCGGAT</th>\n",
       "      <td>cell</td>\n",
       "      <td>homosapiens_None_2023_None_sikkemalisa_001_d10...</td>\n",
       "      <td>False</td>\n",
       "      <td>EFO:0009899</td>\n",
       "      <td>CL:0000583</td>\n",
       "      <td>HsapDv:0000169</td>\n",
       "      <td>PATO:0000461</td>\n",
       "      <td>HANCESTRO:0005</td>\n",
       "      <td>UBERON:0008946</td>\n",
       "      <td>NCBITaxon:9606</td>\n",
       "      <td>...</td>\n",
       "      <td>tissue</td>\n",
       "      <td>alveolar macrophage</td>\n",
       "      <td>10x 3' v2</td>\n",
       "      <td>normal</td>\n",
       "      <td>Homo sapiens</td>\n",
       "      <td>male</td>\n",
       "      <td>lung parenchyma</td>\n",
       "      <td>European</td>\n",
       "      <td>75-year-old human stage</td>\n",
       "      <td>_027}mvD`h</td>\n",
       "    </tr>\n",
       "  </tbody>\n",
       "</table>\n",
       "<p>74038 rows × 69 columns</p>\n",
       "</div>"
      ],
      "text/plain": [
       "                        suspension_type  \\\n",
       "GCGACCATCCCTAACC_SC22              cell   \n",
       "AGGGAGTAGCGTTTAC_SC18              cell   \n",
       "CGACTTCCATTCCTGC_HD68              cell   \n",
       "TCATGAGGTCGCAGTC_SC142             cell   \n",
       "CCCAGTTCATACCATG_SC24              cell   \n",
       "...                                 ...   \n",
       "GTGAAGGAGTGGACGT_SC24              cell   \n",
       "AACGTTGGTAACGACG_F02617            cell   \n",
       "TGCACGGCACCTAAAC_SC84              cell   \n",
       "CGTGATACAGGTCCCA_SC84              cell   \n",
       "P1_4_TTCGAAGAGGTCGGAT              cell   \n",
       "\n",
       "                                                                  donor_id  \\\n",
       "GCGACCATCCCTAACC_SC22    homosapiens_None_2023_None_sikkemalisa_001_d10...   \n",
       "AGGGAGTAGCGTTTAC_SC18    homosapiens_None_2023_None_sikkemalisa_001_d10...   \n",
       "CGACTTCCATTCCTGC_HD68    homosapiens_None_2023_None_sikkemalisa_001_d10...   \n",
       "TCATGAGGTCGCAGTC_SC142   homosapiens_None_2023_None_sikkemalisa_001_d10...   \n",
       "CCCAGTTCATACCATG_SC24    homosapiens_None_2023_None_sikkemalisa_001_d10...   \n",
       "...                                                                    ...   \n",
       "GTGAAGGAGTGGACGT_SC24    homosapiens_None_2023_None_sikkemalisa_001_d10...   \n",
       "AACGTTGGTAACGACG_F02617  homosapiens_None_2023_None_sikkemalisa_001_d10...   \n",
       "TGCACGGCACCTAAAC_SC84    homosapiens_None_2023_None_sikkemalisa_001_d10...   \n",
       "CGTGATACAGGTCCCA_SC84    homosapiens_None_2023_None_sikkemalisa_001_d10...   \n",
       "P1_4_TTCGAAGAGGTCGGAT    homosapiens_None_2023_None_sikkemalisa_001_d10...   \n",
       "\n",
       "                         is_primary_data assay_ontology_term_id  \\\n",
       "GCGACCATCCCTAACC_SC22              False            EFO:0009899   \n",
       "AGGGAGTAGCGTTTAC_SC18              False            EFO:0009899   \n",
       "CGACTTCCATTCCTGC_HD68              False            EFO:0011025   \n",
       "TCATGAGGTCGCAGTC_SC142             False            EFO:0009922   \n",
       "CCCAGTTCATACCATG_SC24              False            EFO:0009899   \n",
       "...                                  ...                    ...   \n",
       "GTGAAGGAGTGGACGT_SC24              False            EFO:0009899   \n",
       "AACGTTGGTAACGACG_F02617            False            EFO:0011025   \n",
       "TGCACGGCACCTAAAC_SC84              False            EFO:0009922   \n",
       "CGTGATACAGGTCCCA_SC84              False            EFO:0009922   \n",
       "P1_4_TTCGAAGAGGTCGGAT              False            EFO:0009899   \n",
       "\n",
       "                        cell_type_ontology_term_id  \\\n",
       "GCGACCATCCCTAACC_SC22                   CL:0000583   \n",
       "AGGGAGTAGCGTTTAC_SC18                   CL:0000583   \n",
       "CGACTTCCATTCCTGC_HD68                   CL:0000583   \n",
       "TCATGAGGTCGCAGTC_SC142                  CL:0000583   \n",
       "CCCAGTTCATACCATG_SC24                   CL:0000583   \n",
       "...                                            ...   \n",
       "GTGAAGGAGTGGACGT_SC24                   CL:0000583   \n",
       "AACGTTGGTAACGACG_F02617                 CL:0000583   \n",
       "TGCACGGCACCTAAAC_SC84                   CL:0000583   \n",
       "CGTGATACAGGTCCCA_SC84                   CL:0000583   \n",
       "P1_4_TTCGAAGAGGTCGGAT                   CL:0000583   \n",
       "\n",
       "                        development_stage_ontology_term_id  \\\n",
       "GCGACCATCCCTAACC_SC22                       HsapDv:0000143   \n",
       "AGGGAGTAGCGTTTAC_SC18                       HsapDv:0000123   \n",
       "CGACTTCCATTCCTGC_HD68                       HsapDv:0000135   \n",
       "TCATGAGGTCGCAGTC_SC142                      HsapDv:0000119   \n",
       "CCCAGTTCATACCATG_SC24                       HsapDv:0000116   \n",
       "...                                                    ...   \n",
       "GTGAAGGAGTGGACGT_SC24                       HsapDv:0000116   \n",
       "AACGTTGGTAACGACG_F02617                     HsapDv:0000149   \n",
       "TGCACGGCACCTAAAC_SC84                       HsapDv:0000146   \n",
       "CGTGATACAGGTCCCA_SC84                       HsapDv:0000146   \n",
       "P1_4_TTCGAAGAGGTCGGAT                       HsapDv:0000169   \n",
       "\n",
       "                        disease_ontology_term_id  \\\n",
       "GCGACCATCCCTAACC_SC22               PATO:0000461   \n",
       "AGGGAGTAGCGTTTAC_SC18               PATO:0000461   \n",
       "CGACTTCCATTCCTGC_HD68               PATO:0000461   \n",
       "TCATGAGGTCGCAGTC_SC142              PATO:0000461   \n",
       "CCCAGTTCATACCATG_SC24               PATO:0000461   \n",
       "...                                          ...   \n",
       "GTGAAGGAGTGGACGT_SC24               PATO:0000461   \n",
       "AACGTTGGTAACGACG_F02617             PATO:0000461   \n",
       "TGCACGGCACCTAAAC_SC84               PATO:0000461   \n",
       "CGTGATACAGGTCCCA_SC84               PATO:0000461   \n",
       "P1_4_TTCGAAGAGGTCGGAT               PATO:0000461   \n",
       "\n",
       "                        self_reported_ethnicity_ontology_term_id  \\\n",
       "GCGACCATCCCTAACC_SC22                             HANCESTRO:0005   \n",
       "AGGGAGTAGCGTTTAC_SC18                             HANCESTRO:0010   \n",
       "CGACTTCCATTCCTGC_HD68                             HANCESTRO:0005   \n",
       "TCATGAGGTCGCAGTC_SC142                                   unknown   \n",
       "CCCAGTTCATACCATG_SC24                             HANCESTRO:0010   \n",
       "...                                                          ...   \n",
       "GTGAAGGAGTGGACGT_SC24                             HANCESTRO:0010   \n",
       "AACGTTGGTAACGACG_F02617                           HANCESTRO:0005   \n",
       "TGCACGGCACCTAAAC_SC84                             HANCESTRO:0010   \n",
       "CGTGATACAGGTCCCA_SC84                             HANCESTRO:0010   \n",
       "P1_4_TTCGAAGAGGTCGGAT                             HANCESTRO:0005   \n",
       "\n",
       "                        tissue_ontology_term_id organism_ontology_term_id  \\\n",
       "GCGACCATCCCTAACC_SC22            UBERON:0008946            NCBITaxon:9606   \n",
       "AGGGAGTAGCGTTTAC_SC18            UBERON:0008946            NCBITaxon:9606   \n",
       "CGACTTCCATTCCTGC_HD68            UBERON:0008946            NCBITaxon:9606   \n",
       "TCATGAGGTCGCAGTC_SC142           UBERON:0008946            NCBITaxon:9606   \n",
       "CCCAGTTCATACCATG_SC24            UBERON:0008946            NCBITaxon:9606   \n",
       "...                                         ...                       ...   \n",
       "GTGAAGGAGTGGACGT_SC24            UBERON:0008946            NCBITaxon:9606   \n",
       "AACGTTGGTAACGACG_F02617          UBERON:0008946            NCBITaxon:9606   \n",
       "TGCACGGCACCTAAAC_SC84            UBERON:0008946            NCBITaxon:9606   \n",
       "CGTGATACAGGTCCCA_SC84            UBERON:0008946            NCBITaxon:9606   \n",
       "P1_4_TTCGAAGAGGTCGGAT            UBERON:0008946            NCBITaxon:9606   \n",
       "\n",
       "                         ... tissue_type            cell_type      assay  \\\n",
       "GCGACCATCCCTAACC_SC22    ...      tissue  alveolar macrophage  10x 3' v2   \n",
       "AGGGAGTAGCGTTTAC_SC18    ...      tissue  alveolar macrophage  10x 3' v2   \n",
       "CGACTTCCATTCCTGC_HD68    ...      tissue  alveolar macrophage  10x 5' v1   \n",
       "TCATGAGGTCGCAGTC_SC142   ...      tissue  alveolar macrophage  10x 3' v3   \n",
       "CCCAGTTCATACCATG_SC24    ...      tissue  alveolar macrophage  10x 3' v2   \n",
       "...                      ...         ...                  ...        ...   \n",
       "GTGAAGGAGTGGACGT_SC24    ...      tissue  alveolar macrophage  10x 3' v2   \n",
       "AACGTTGGTAACGACG_F02617  ...      tissue  alveolar macrophage  10x 5' v1   \n",
       "TGCACGGCACCTAAAC_SC84    ...      tissue  alveolar macrophage  10x 3' v3   \n",
       "CGTGATACAGGTCCCA_SC84    ...      tissue  alveolar macrophage  10x 3' v3   \n",
       "P1_4_TTCGAAGAGGTCGGAT    ...      tissue  alveolar macrophage  10x 3' v2   \n",
       "\n",
       "                        disease      organism     sex           tissue  \\\n",
       "GCGACCATCCCTAACC_SC22    normal  Homo sapiens  female  lung parenchyma   \n",
       "AGGGAGTAGCGTTTAC_SC18    normal  Homo sapiens  female  lung parenchyma   \n",
       "CGACTTCCATTCCTGC_HD68    normal  Homo sapiens    male  lung parenchyma   \n",
       "TCATGAGGTCGCAGTC_SC142   normal  Homo sapiens    male  lung parenchyma   \n",
       "CCCAGTTCATACCATG_SC24    normal  Homo sapiens  female  lung parenchyma   \n",
       "...                         ...           ...     ...              ...   \n",
       "GTGAAGGAGTGGACGT_SC24    normal  Homo sapiens  female  lung parenchyma   \n",
       "AACGTTGGTAACGACG_F02617  normal  Homo sapiens    male  lung parenchyma   \n",
       "TGCACGGCACCTAAAC_SC84    normal  Homo sapiens    male  lung parenchyma   \n",
       "CGTGATACAGGTCCCA_SC84    normal  Homo sapiens    male  lung parenchyma   \n",
       "P1_4_TTCGAAGAGGTCGGAT    normal  Homo sapiens    male  lung parenchyma   \n",
       "\n",
       "                        self_reported_ethnicity        development_stage  \\\n",
       "GCGACCATCCCTAACC_SC22                  European  49-year-old human stage   \n",
       "AGGGAGTAGCGTTTAC_SC18                   African  29-year-old human stage   \n",
       "CGACTTCCATTCCTGC_HD68                  European  41-year-old human stage   \n",
       "TCATGAGGTCGCAGTC_SC142                  unknown  25-year-old human stage   \n",
       "CCCAGTTCATACCATG_SC24                   African  22-year-old human stage   \n",
       "...                                         ...                      ...   \n",
       "GTGAAGGAGTGGACGT_SC24                   African  22-year-old human stage   \n",
       "AACGTTGGTAACGACG_F02617                European  55-year-old human stage   \n",
       "TGCACGGCACCTAAAC_SC84                   African  52-year-old human stage   \n",
       "CGTGATACAGGTCCCA_SC84                   African  52-year-old human stage   \n",
       "P1_4_TTCGAAGAGGTCGGAT                  European  75-year-old human stage   \n",
       "\n",
       "                        observation_joinid  \n",
       "GCGACCATCCCTAACC_SC22           y3(xbM64-M  \n",
       "AGGGAGTAGCGTTTAC_SC18           *aP;Uo6RCl  \n",
       "CGACTTCCATTCCTGC_HD68           @K%eEkg!JV  \n",
       "TCATGAGGTCGCAGTC_SC142          aB|nN5*qrh  \n",
       "CCCAGTTCATACCATG_SC24           zo`X=;x+<(  \n",
       "...                                    ...  \n",
       "GTGAAGGAGTGGACGT_SC24           _62+TC3jyv  \n",
       "AACGTTGGTAACGACG_F02617         ^3DvCIx2dm  \n",
       "TGCACGGCACCTAAAC_SC84           A=58)+K;nl  \n",
       "CGTGATACAGGTCCCA_SC84           WSkNGwvOyS  \n",
       "P1_4_TTCGAAGAGGTCGGAT           _027}mvD`h  \n",
       "\n",
       "[74038 rows x 69 columns]"
      ]
     },
     "execution_count": 18,
     "metadata": {},
     "output_type": "execute_result"
    }
   ],
   "source": [
    "data.obs[cell_condition]"
   ]
  },
  {
   "cell_type": "code",
   "execution_count": 17,
   "id": "fbd217d3",
   "metadata": {
    "ExecuteTime": {
     "end_time": "2024-04-23T18:24:34.437378Z",
     "start_time": "2024-04-23T18:24:31.159396Z"
    }
   },
   "outputs": [
    {
     "ename": "ValueError",
     "evalue": "Column length mismatch: 17500 vs. 28024",
     "output_type": "error",
     "traceback": [
      "\u001b[0;31m---------------------------------------------------------------------------\u001b[0m",
      "\u001b[0;31mValueError\u001b[0m                                Traceback (most recent call last)",
      "\u001b[0;32m/tmp/ipykernel_151924/2803844631.py\u001b[0m in \u001b[0;36m<module>\u001b[0;34m\u001b[0m\n\u001b[0;32m----> 1\u001b[0;31m \u001b[0mdf\u001b[0m \u001b[0;34m=\u001b[0m \u001b[0mpd\u001b[0m\u001b[0;34m.\u001b[0m\u001b[0mDataFrame\u001b[0m\u001b[0;34m.\u001b[0m\u001b[0msparse\u001b[0m\u001b[0;34m.\u001b[0m\u001b[0mfrom_spmatrix\u001b[0m\u001b[0;34m(\u001b[0m\u001b[0mdata\u001b[0m\u001b[0;34m.\u001b[0m\u001b[0mraw\u001b[0m\u001b[0;34m.\u001b[0m\u001b[0mX\u001b[0m\u001b[0;34m[\u001b[0m\u001b[0mcell_indices\u001b[0m\u001b[0;34m,\u001b[0m \u001b[0;34m:\u001b[0m\u001b[0;34m]\u001b[0m\u001b[0;34m[\u001b[0m\u001b[0mgene_indices\u001b[0m\u001b[0;34m,\u001b[0m \u001b[0;34m:\u001b[0m\u001b[0;34m]\u001b[0m\u001b[0;34m,\u001b[0m \u001b[0mcolumns\u001b[0m\u001b[0;34m=\u001b[0m\u001b[0mdata\u001b[0m\u001b[0;34m.\u001b[0m\u001b[0mvar\u001b[0m\u001b[0;34m[\u001b[0m\u001b[0;34m\"feature_name\"\u001b[0m\u001b[0;34m]\u001b[0m\u001b[0;34m[\u001b[0m\u001b[0mgene_condition\u001b[0m\u001b[0;34m]\u001b[0m\u001b[0;34m,\u001b[0m \u001b[0mindex\u001b[0m\u001b[0;34m=\u001b[0m\u001b[0mdata\u001b[0m\u001b[0;34m.\u001b[0m\u001b[0mobs\u001b[0m\u001b[0;34m[\u001b[0m\u001b[0mcell_condition\u001b[0m\u001b[0;34m]\u001b[0m\u001b[0;34m.\u001b[0m\u001b[0mindex\u001b[0m\u001b[0;34m)\u001b[0m\u001b[0;34m\u001b[0m\u001b[0;34m\u001b[0m\u001b[0m\n\u001b[0m",
      "\u001b[0;32m~/anaconda3/lib/python3.9/site-packages/pandas/core/arrays/sparse/accessor.py\u001b[0m in \u001b[0;36mfrom_spmatrix\u001b[0;34m(cls, data, index, columns)\u001b[0m\n\u001b[1;32m    264\u001b[0m \u001b[0;34m\u001b[0m\u001b[0m\n\u001b[1;32m    265\u001b[0m         \u001b[0mdata\u001b[0m \u001b[0;34m=\u001b[0m \u001b[0mdata\u001b[0m\u001b[0;34m.\u001b[0m\u001b[0mtocsc\u001b[0m\u001b[0;34m(\u001b[0m\u001b[0;34m)\u001b[0m\u001b[0;34m\u001b[0m\u001b[0;34m\u001b[0m\u001b[0m\n\u001b[0;32m--> 266\u001b[0;31m         \u001b[0mindex\u001b[0m\u001b[0;34m,\u001b[0m \u001b[0mcolumns\u001b[0m \u001b[0;34m=\u001b[0m \u001b[0mcls\u001b[0m\u001b[0;34m.\u001b[0m\u001b[0m_prep_index\u001b[0m\u001b[0;34m(\u001b[0m\u001b[0mdata\u001b[0m\u001b[0;34m,\u001b[0m \u001b[0mindex\u001b[0m\u001b[0;34m,\u001b[0m \u001b[0mcolumns\u001b[0m\u001b[0;34m)\u001b[0m\u001b[0;34m\u001b[0m\u001b[0;34m\u001b[0m\u001b[0m\n\u001b[0m\u001b[1;32m    267\u001b[0m         \u001b[0mn_rows\u001b[0m\u001b[0;34m,\u001b[0m \u001b[0mn_columns\u001b[0m \u001b[0;34m=\u001b[0m \u001b[0mdata\u001b[0m\u001b[0;34m.\u001b[0m\u001b[0mshape\u001b[0m\u001b[0;34m\u001b[0m\u001b[0;34m\u001b[0m\u001b[0m\n\u001b[1;32m    268\u001b[0m         \u001b[0;31m# We need to make sure indices are sorted, as we create\u001b[0m\u001b[0;34m\u001b[0m\u001b[0;34m\u001b[0m\u001b[0m\n",
      "\u001b[0;32m~/anaconda3/lib/python3.9/site-packages/pandas/core/arrays/sparse/accessor.py\u001b[0m in \u001b[0;36m_prep_index\u001b[0;34m(data, index, columns)\u001b[0m\n\u001b[1;32m    381\u001b[0m \u001b[0;34m\u001b[0m\u001b[0m\n\u001b[1;32m    382\u001b[0m         \u001b[0;32mif\u001b[0m \u001b[0mlen\u001b[0m\u001b[0;34m(\u001b[0m\u001b[0mcolumns\u001b[0m\u001b[0;34m)\u001b[0m \u001b[0;34m!=\u001b[0m \u001b[0mK\u001b[0m\u001b[0;34m:\u001b[0m\u001b[0;34m\u001b[0m\u001b[0;34m\u001b[0m\u001b[0m\n\u001b[0;32m--> 383\u001b[0;31m             \u001b[0;32mraise\u001b[0m \u001b[0mValueError\u001b[0m\u001b[0;34m(\u001b[0m\u001b[0;34mf\"Column length mismatch: {len(columns)} vs. {K}\"\u001b[0m\u001b[0;34m)\u001b[0m\u001b[0;34m\u001b[0m\u001b[0;34m\u001b[0m\u001b[0m\n\u001b[0m\u001b[1;32m    384\u001b[0m         \u001b[0;32mif\u001b[0m \u001b[0mlen\u001b[0m\u001b[0;34m(\u001b[0m\u001b[0mindex\u001b[0m\u001b[0;34m)\u001b[0m \u001b[0;34m!=\u001b[0m \u001b[0mN\u001b[0m\u001b[0;34m:\u001b[0m\u001b[0;34m\u001b[0m\u001b[0;34m\u001b[0m\u001b[0m\n\u001b[1;32m    385\u001b[0m             \u001b[0;32mraise\u001b[0m \u001b[0mValueError\u001b[0m\u001b[0;34m(\u001b[0m\u001b[0;34mf\"Index length mismatch: {len(index)} vs. {N}\"\u001b[0m\u001b[0;34m)\u001b[0m\u001b[0;34m\u001b[0m\u001b[0;34m\u001b[0m\u001b[0m\n",
      "\u001b[0;31mValueError\u001b[0m: Column length mismatch: 17500 vs. 28024"
     ]
    }
   ],
   "source": [
    "df = pd.DataFrame.sparse.from_spmatrix(data.raw.X[cell_indices, :][gene_indices, :], columns=data.var[\"feature_name\"][gene_condition], index=data.obs[cell_condition].index)"
   ]
  },
  {
   "cell_type": "code",
   "execution_count": null,
   "id": "ecd59e03",
   "metadata": {},
   "outputs": [],
   "source": []
  },
  {
   "cell_type": "code",
   "execution_count": 27,
   "id": "170caf49",
   "metadata": {
    "ExecuteTime": {
     "end_time": "2024-04-23T18:10:08.776854Z",
     "start_time": "2024-04-23T18:10:08.766683Z"
    }
   },
   "outputs": [
    {
     "data": {
      "text/plain": [
       "(74038, 28024)"
      ]
     },
     "execution_count": 27,
     "metadata": {},
     "output_type": "execute_result"
    }
   ],
   "source": [
    "data.raw.X.shape"
   ]
  },
  {
   "cell_type": "code",
   "execution_count": 29,
   "id": "24451050",
   "metadata": {
    "ExecuteTime": {
     "end_time": "2024-04-23T18:10:20.141030Z",
     "start_time": "2024-04-23T18:10:20.131074Z"
    }
   },
   "outputs": [
    {
     "data": {
      "text/plain": [
       "(28024, 4)"
      ]
     },
     "execution_count": 29,
     "metadata": {},
     "output_type": "execute_result"
    }
   ],
   "source": [
    "data.raw.var.shape"
   ]
  },
  {
   "cell_type": "code",
   "execution_count": 19,
   "id": "ea26d822",
   "metadata": {
    "ExecuteTime": {
     "end_time": "2024-04-23T18:06:51.971025Z",
     "start_time": "2024-04-23T18:06:51.960850Z"
    }
   },
   "outputs": [
    {
     "data": {
      "text/plain": [
       "<333468x28024 sparse matrix of type '<class 'numpy.float32'>'\n",
       "\twith 601770793 stored elements in Compressed Sparse Row format>"
      ]
     },
     "execution_count": 19,
     "metadata": {},
     "output_type": "execute_result"
    }
   ],
   "source": [
    "data.raw.X"
   ]
  },
  {
   "cell_type": "code",
   "execution_count": 20,
   "id": "8bc0d92e",
   "metadata": {
    "ExecuteTime": {
     "end_time": "2024-04-23T18:07:03.140775Z",
     "start_time": "2024-04-23T18:06:56.243587Z"
    }
   },
   "outputs": [
    {
     "data": {
      "text/plain": [
       "<333468x28024 sparse matrix of type '<class 'numpy.float32'>'\n",
       "\twith 601770793 stored elements in Compressed Sparse Row format>"
      ]
     },
     "execution_count": 20,
     "metadata": {},
     "output_type": "execute_result"
    }
   ],
   "source": [
    "data.X"
   ]
  },
  {
   "cell_type": "code",
   "execution_count": 13,
   "id": "d2d27945",
   "metadata": {
    "ExecuteTime": {
     "end_time": "2024-04-23T17:54:10.201972Z",
     "start_time": "2024-04-23T17:54:10.192166Z"
    }
   },
   "outputs": [
    {
     "data": {
      "text/plain": [
       "(28024, 4)"
      ]
     },
     "execution_count": 13,
     "metadata": {},
     "output_type": "execute_result"
    }
   ],
   "source": [
    "data.raw.var.shape"
   ]
  },
  {
   "cell_type": "code",
   "execution_count": 16,
   "id": "a4830509",
   "metadata": {
    "ExecuteTime": {
     "end_time": "2024-04-23T17:58:05.613606Z",
     "start_time": "2024-04-23T17:58:05.375740Z"
    }
   },
   "outputs": [
    {
     "data": {
      "text/html": [
       "<div>\n",
       "<style scoped>\n",
       "    .dataframe tbody tr th:only-of-type {\n",
       "        vertical-align: middle;\n",
       "    }\n",
       "\n",
       "    .dataframe tbody tr th {\n",
       "        vertical-align: top;\n",
       "    }\n",
       "\n",
       "    .dataframe thead th {\n",
       "        text-align: right;\n",
       "    }\n",
       "</style>\n",
       "<table border=\"1\" class=\"dataframe\">\n",
       "  <thead>\n",
       "    <tr style=\"text-align: right;\">\n",
       "      <th></th>\n",
       "      <th>suspension_type</th>\n",
       "      <th>donor_id</th>\n",
       "      <th>is_primary_data</th>\n",
       "      <th>assay_ontology_term_id</th>\n",
       "      <th>cell_type_ontology_term_id</th>\n",
       "      <th>development_stage_ontology_term_id</th>\n",
       "      <th>disease_ontology_term_id</th>\n",
       "      <th>self_reported_ethnicity_ontology_term_id</th>\n",
       "      <th>tissue_ontology_term_id</th>\n",
       "      <th>organism_ontology_term_id</th>\n",
       "      <th>...</th>\n",
       "      <th>tissue_type</th>\n",
       "      <th>cell_type</th>\n",
       "      <th>assay</th>\n",
       "      <th>disease</th>\n",
       "      <th>organism</th>\n",
       "      <th>sex</th>\n",
       "      <th>tissue</th>\n",
       "      <th>self_reported_ethnicity</th>\n",
       "      <th>development_stage</th>\n",
       "      <th>observation_joinid</th>\n",
       "    </tr>\n",
       "  </thead>\n",
       "  <tbody>\n",
       "    <tr>\n",
       "      <th>GCGACCATCCCTAACC_SC22</th>\n",
       "      <td>cell</td>\n",
       "      <td>homosapiens_None_2023_None_sikkemalisa_001_d10...</td>\n",
       "      <td>False</td>\n",
       "      <td>EFO:0009899</td>\n",
       "      <td>CL:0000583</td>\n",
       "      <td>HsapDv:0000143</td>\n",
       "      <td>PATO:0000461</td>\n",
       "      <td>HANCESTRO:0005</td>\n",
       "      <td>UBERON:0008946</td>\n",
       "      <td>NCBITaxon:9606</td>\n",
       "      <td>...</td>\n",
       "      <td>tissue</td>\n",
       "      <td>alveolar macrophage</td>\n",
       "      <td>10x 3' v2</td>\n",
       "      <td>normal</td>\n",
       "      <td>Homo sapiens</td>\n",
       "      <td>female</td>\n",
       "      <td>lung parenchyma</td>\n",
       "      <td>European</td>\n",
       "      <td>49-year-old human stage</td>\n",
       "      <td>y3(xbM64-M</td>\n",
       "    </tr>\n",
       "    <tr>\n",
       "      <th>P2_1_GCGCAACCAGTTAACC</th>\n",
       "      <td>cell</td>\n",
       "      <td>homosapiens_None_2023_None_sikkemalisa_001_d10...</td>\n",
       "      <td>False</td>\n",
       "      <td>EFO:0009899</td>\n",
       "      <td>CL:0000623</td>\n",
       "      <td>HsapDv:0000140</td>\n",
       "      <td>PATO:0000461</td>\n",
       "      <td>HANCESTRO:0005</td>\n",
       "      <td>UBERON:0008946</td>\n",
       "      <td>NCBITaxon:9606</td>\n",
       "      <td>...</td>\n",
       "      <td>tissue</td>\n",
       "      <td>natural killer cell</td>\n",
       "      <td>10x 3' v2</td>\n",
       "      <td>normal</td>\n",
       "      <td>Homo sapiens</td>\n",
       "      <td>male</td>\n",
       "      <td>lung parenchyma</td>\n",
       "      <td>European</td>\n",
       "      <td>46-year-old human stage</td>\n",
       "      <td>A&gt;+$XL~PxD</td>\n",
       "    </tr>\n",
       "    <tr>\n",
       "      <th>GCTCTGTAGTGCTGCC_SC27</th>\n",
       "      <td>cell</td>\n",
       "      <td>homosapiens_None_2023_None_sikkemalisa_001_d10...</td>\n",
       "      <td>False</td>\n",
       "      <td>EFO:0009899</td>\n",
       "      <td>CL:0002063</td>\n",
       "      <td>HsapDv:0000141</td>\n",
       "      <td>PATO:0000461</td>\n",
       "      <td>HANCESTRO:0005</td>\n",
       "      <td>UBERON:0008946</td>\n",
       "      <td>NCBITaxon:9606</td>\n",
       "      <td>...</td>\n",
       "      <td>tissue</td>\n",
       "      <td>type II pneumocyte</td>\n",
       "      <td>10x 3' v2</td>\n",
       "      <td>normal</td>\n",
       "      <td>Homo sapiens</td>\n",
       "      <td>female</td>\n",
       "      <td>lung parenchyma</td>\n",
       "      <td>European</td>\n",
       "      <td>47-year-old human stage</td>\n",
       "      <td>5jcAkve8k5</td>\n",
       "    </tr>\n",
       "    <tr>\n",
       "      <th>P2_1_CAGCAGCGTGTTGAGG</th>\n",
       "      <td>cell</td>\n",
       "      <td>homosapiens_None_2023_None_sikkemalisa_001_d10...</td>\n",
       "      <td>False</td>\n",
       "      <td>EFO:0009899</td>\n",
       "      <td>CL:0002543</td>\n",
       "      <td>HsapDv:0000140</td>\n",
       "      <td>PATO:0000461</td>\n",
       "      <td>HANCESTRO:0005</td>\n",
       "      <td>UBERON:0008946</td>\n",
       "      <td>NCBITaxon:9606</td>\n",
       "      <td>...</td>\n",
       "      <td>tissue</td>\n",
       "      <td>vein endothelial cell</td>\n",
       "      <td>10x 3' v2</td>\n",
       "      <td>normal</td>\n",
       "      <td>Homo sapiens</td>\n",
       "      <td>male</td>\n",
       "      <td>lung parenchyma</td>\n",
       "      <td>European</td>\n",
       "      <td>46-year-old human stage</td>\n",
       "      <td>Wf*-3P&lt;w;h</td>\n",
       "    </tr>\n",
       "    <tr>\n",
       "      <th>P1_4_TTGCGTCAGCTTCGCG</th>\n",
       "      <td>cell</td>\n",
       "      <td>homosapiens_None_2023_None_sikkemalisa_001_d10...</td>\n",
       "      <td>False</td>\n",
       "      <td>EFO:0009899</td>\n",
       "      <td>CL:0000625</td>\n",
       "      <td>HsapDv:0000169</td>\n",
       "      <td>PATO:0000461</td>\n",
       "      <td>HANCESTRO:0005</td>\n",
       "      <td>UBERON:0008946</td>\n",
       "      <td>NCBITaxon:9606</td>\n",
       "      <td>...</td>\n",
       "      <td>tissue</td>\n",
       "      <td>CD8-positive, alpha-beta T cell</td>\n",
       "      <td>10x 3' v2</td>\n",
       "      <td>normal</td>\n",
       "      <td>Homo sapiens</td>\n",
       "      <td>male</td>\n",
       "      <td>lung parenchyma</td>\n",
       "      <td>European</td>\n",
       "      <td>75-year-old human stage</td>\n",
       "      <td>4ru{=&gt;PaDe</td>\n",
       "    </tr>\n",
       "    <tr>\n",
       "      <th>...</th>\n",
       "      <td>...</td>\n",
       "      <td>...</td>\n",
       "      <td>...</td>\n",
       "      <td>...</td>\n",
       "      <td>...</td>\n",
       "      <td>...</td>\n",
       "      <td>...</td>\n",
       "      <td>...</td>\n",
       "      <td>...</td>\n",
       "      <td>...</td>\n",
       "      <td>...</td>\n",
       "      <td>...</td>\n",
       "      <td>...</td>\n",
       "      <td>...</td>\n",
       "      <td>...</td>\n",
       "      <td>...</td>\n",
       "      <td>...</td>\n",
       "      <td>...</td>\n",
       "      <td>...</td>\n",
       "      <td>...</td>\n",
       "      <td>...</td>\n",
       "    </tr>\n",
       "    <tr>\n",
       "      <th>GTCACGGTCATCGATG_F01403</th>\n",
       "      <td>cell</td>\n",
       "      <td>homosapiens_None_2023_None_sikkemalisa_001_d10...</td>\n",
       "      <td>False</td>\n",
       "      <td>EFO:0011025</td>\n",
       "      <td>CL:0000861</td>\n",
       "      <td>HsapDv:0000129</td>\n",
       "      <td>PATO:0000461</td>\n",
       "      <td>HANCESTRO:0005</td>\n",
       "      <td>UBERON:0008946</td>\n",
       "      <td>NCBITaxon:9606</td>\n",
       "      <td>...</td>\n",
       "      <td>tissue</td>\n",
       "      <td>elicited macrophage</td>\n",
       "      <td>10x 5' v1</td>\n",
       "      <td>normal</td>\n",
       "      <td>Homo sapiens</td>\n",
       "      <td>male</td>\n",
       "      <td>lung parenchyma</td>\n",
       "      <td>European</td>\n",
       "      <td>35-year-old human stage</td>\n",
       "      <td>q=2n!l8(h?</td>\n",
       "    </tr>\n",
       "    <tr>\n",
       "      <th>CGGACACAGCCATCGC-1-HCATisStab7659970</th>\n",
       "      <td>cell</td>\n",
       "      <td>homosapiens_None_2023_None_sikkemalisa_001_d10...</td>\n",
       "      <td>False</td>\n",
       "      <td>EFO:0009899</td>\n",
       "      <td>CL:4028006</td>\n",
       "      <td>HsapDv:0000240</td>\n",
       "      <td>PATO:0000461</td>\n",
       "      <td>HANCESTRO:0005</td>\n",
       "      <td>UBERON:0008946</td>\n",
       "      <td>NCBITaxon:9606</td>\n",
       "      <td>...</td>\n",
       "      <td>tissue</td>\n",
       "      <td>alveolar type 2 fibroblast cell</td>\n",
       "      <td>10x 3' v2</td>\n",
       "      <td>normal</td>\n",
       "      <td>Homo sapiens</td>\n",
       "      <td>male</td>\n",
       "      <td>lung parenchyma</td>\n",
       "      <td>European</td>\n",
       "      <td>sixth decade human stage</td>\n",
       "      <td>iP_eZ6J_l3</td>\n",
       "    </tr>\n",
       "    <tr>\n",
       "      <th>ATGAGGGTCCCTCTCC_SC143</th>\n",
       "      <td>cell</td>\n",
       "      <td>homosapiens_None_2023_None_sikkemalisa_001_d10...</td>\n",
       "      <td>False</td>\n",
       "      <td>EFO:0009922</td>\n",
       "      <td>CL:4028006</td>\n",
       "      <td>HsapDv:0000119</td>\n",
       "      <td>PATO:0000461</td>\n",
       "      <td>unknown</td>\n",
       "      <td>UBERON:0008946</td>\n",
       "      <td>NCBITaxon:9606</td>\n",
       "      <td>...</td>\n",
       "      <td>tissue</td>\n",
       "      <td>alveolar type 2 fibroblast cell</td>\n",
       "      <td>10x 3' v3</td>\n",
       "      <td>normal</td>\n",
       "      <td>Homo sapiens</td>\n",
       "      <td>male</td>\n",
       "      <td>lung parenchyma</td>\n",
       "      <td>unknown</td>\n",
       "      <td>25-year-old human stage</td>\n",
       "      <td>JUTRq`#PGV</td>\n",
       "    </tr>\n",
       "    <tr>\n",
       "      <th>CATTATCTCCATGAAC_F01639</th>\n",
       "      <td>cell</td>\n",
       "      <td>homosapiens_None_2023_None_sikkemalisa_001_d10...</td>\n",
       "      <td>False</td>\n",
       "      <td>EFO:0011025</td>\n",
       "      <td>CL:0002399</td>\n",
       "      <td>HsapDv:0000147</td>\n",
       "      <td>PATO:0000461</td>\n",
       "      <td>HANCESTRO:0005</td>\n",
       "      <td>UBERON:0008946</td>\n",
       "      <td>NCBITaxon:9606</td>\n",
       "      <td>...</td>\n",
       "      <td>tissue</td>\n",
       "      <td>CD1c-positive myeloid dendritic cell</td>\n",
       "      <td>10x 5' v1</td>\n",
       "      <td>normal</td>\n",
       "      <td>Homo sapiens</td>\n",
       "      <td>male</td>\n",
       "      <td>lung parenchyma</td>\n",
       "      <td>European</td>\n",
       "      <td>53-year-old human stage</td>\n",
       "      <td>$3Xp*6c51x</td>\n",
       "    </tr>\n",
       "    <tr>\n",
       "      <th>AGGCCGTGTGTGACCC-SC56</th>\n",
       "      <td>cell</td>\n",
       "      <td>homosapiens_None_2023_None_sikkemalisa_001_d10...</td>\n",
       "      <td>False</td>\n",
       "      <td>EFO:0009899</td>\n",
       "      <td>CL:0002063</td>\n",
       "      <td>HsapDv:0000151</td>\n",
       "      <td>PATO:0000461</td>\n",
       "      <td>HANCESTRO:0005</td>\n",
       "      <td>UBERON:0008946</td>\n",
       "      <td>NCBITaxon:9606</td>\n",
       "      <td>...</td>\n",
       "      <td>tissue</td>\n",
       "      <td>type II pneumocyte</td>\n",
       "      <td>10x 3' v2</td>\n",
       "      <td>normal</td>\n",
       "      <td>Homo sapiens</td>\n",
       "      <td>female</td>\n",
       "      <td>lung parenchyma</td>\n",
       "      <td>European</td>\n",
       "      <td>57-year-old human stage</td>\n",
       "      <td>7#E&gt;)wqFoi</td>\n",
       "    </tr>\n",
       "  </tbody>\n",
       "</table>\n",
       "<p>333468 rows × 69 columns</p>\n",
       "</div>"
      ],
      "text/plain": [
       "                                     suspension_type  \\\n",
       "GCGACCATCCCTAACC_SC22                           cell   \n",
       "P2_1_GCGCAACCAGTTAACC                           cell   \n",
       "GCTCTGTAGTGCTGCC_SC27                           cell   \n",
       "P2_1_CAGCAGCGTGTTGAGG                           cell   \n",
       "P1_4_TTGCGTCAGCTTCGCG                           cell   \n",
       "...                                              ...   \n",
       "GTCACGGTCATCGATG_F01403                         cell   \n",
       "CGGACACAGCCATCGC-1-HCATisStab7659970            cell   \n",
       "ATGAGGGTCCCTCTCC_SC143                          cell   \n",
       "CATTATCTCCATGAAC_F01639                         cell   \n",
       "AGGCCGTGTGTGACCC-SC56                           cell   \n",
       "\n",
       "                                                                               donor_id  \\\n",
       "GCGACCATCCCTAACC_SC22                 homosapiens_None_2023_None_sikkemalisa_001_d10...   \n",
       "P2_1_GCGCAACCAGTTAACC                 homosapiens_None_2023_None_sikkemalisa_001_d10...   \n",
       "GCTCTGTAGTGCTGCC_SC27                 homosapiens_None_2023_None_sikkemalisa_001_d10...   \n",
       "P2_1_CAGCAGCGTGTTGAGG                 homosapiens_None_2023_None_sikkemalisa_001_d10...   \n",
       "P1_4_TTGCGTCAGCTTCGCG                 homosapiens_None_2023_None_sikkemalisa_001_d10...   \n",
       "...                                                                                 ...   \n",
       "GTCACGGTCATCGATG_F01403               homosapiens_None_2023_None_sikkemalisa_001_d10...   \n",
       "CGGACACAGCCATCGC-1-HCATisStab7659970  homosapiens_None_2023_None_sikkemalisa_001_d10...   \n",
       "ATGAGGGTCCCTCTCC_SC143                homosapiens_None_2023_None_sikkemalisa_001_d10...   \n",
       "CATTATCTCCATGAAC_F01639               homosapiens_None_2023_None_sikkemalisa_001_d10...   \n",
       "AGGCCGTGTGTGACCC-SC56                 homosapiens_None_2023_None_sikkemalisa_001_d10...   \n",
       "\n",
       "                                      is_primary_data assay_ontology_term_id  \\\n",
       "GCGACCATCCCTAACC_SC22                           False            EFO:0009899   \n",
       "P2_1_GCGCAACCAGTTAACC                           False            EFO:0009899   \n",
       "GCTCTGTAGTGCTGCC_SC27                           False            EFO:0009899   \n",
       "P2_1_CAGCAGCGTGTTGAGG                           False            EFO:0009899   \n",
       "P1_4_TTGCGTCAGCTTCGCG                           False            EFO:0009899   \n",
       "...                                               ...                    ...   \n",
       "GTCACGGTCATCGATG_F01403                         False            EFO:0011025   \n",
       "CGGACACAGCCATCGC-1-HCATisStab7659970            False            EFO:0009899   \n",
       "ATGAGGGTCCCTCTCC_SC143                          False            EFO:0009922   \n",
       "CATTATCTCCATGAAC_F01639                         False            EFO:0011025   \n",
       "AGGCCGTGTGTGACCC-SC56                           False            EFO:0009899   \n",
       "\n",
       "                                     cell_type_ontology_term_id  \\\n",
       "GCGACCATCCCTAACC_SC22                                CL:0000583   \n",
       "P2_1_GCGCAACCAGTTAACC                                CL:0000623   \n",
       "GCTCTGTAGTGCTGCC_SC27                                CL:0002063   \n",
       "P2_1_CAGCAGCGTGTTGAGG                                CL:0002543   \n",
       "P1_4_TTGCGTCAGCTTCGCG                                CL:0000625   \n",
       "...                                                         ...   \n",
       "GTCACGGTCATCGATG_F01403                              CL:0000861   \n",
       "CGGACACAGCCATCGC-1-HCATisStab7659970                 CL:4028006   \n",
       "ATGAGGGTCCCTCTCC_SC143                               CL:4028006   \n",
       "CATTATCTCCATGAAC_F01639                              CL:0002399   \n",
       "AGGCCGTGTGTGACCC-SC56                                CL:0002063   \n",
       "\n",
       "                                     development_stage_ontology_term_id  \\\n",
       "GCGACCATCCCTAACC_SC22                                    HsapDv:0000143   \n",
       "P2_1_GCGCAACCAGTTAACC                                    HsapDv:0000140   \n",
       "GCTCTGTAGTGCTGCC_SC27                                    HsapDv:0000141   \n",
       "P2_1_CAGCAGCGTGTTGAGG                                    HsapDv:0000140   \n",
       "P1_4_TTGCGTCAGCTTCGCG                                    HsapDv:0000169   \n",
       "...                                                                 ...   \n",
       "GTCACGGTCATCGATG_F01403                                  HsapDv:0000129   \n",
       "CGGACACAGCCATCGC-1-HCATisStab7659970                     HsapDv:0000240   \n",
       "ATGAGGGTCCCTCTCC_SC143                                   HsapDv:0000119   \n",
       "CATTATCTCCATGAAC_F01639                                  HsapDv:0000147   \n",
       "AGGCCGTGTGTGACCC-SC56                                    HsapDv:0000151   \n",
       "\n",
       "                                     disease_ontology_term_id  \\\n",
       "GCGACCATCCCTAACC_SC22                            PATO:0000461   \n",
       "P2_1_GCGCAACCAGTTAACC                            PATO:0000461   \n",
       "GCTCTGTAGTGCTGCC_SC27                            PATO:0000461   \n",
       "P2_1_CAGCAGCGTGTTGAGG                            PATO:0000461   \n",
       "P1_4_TTGCGTCAGCTTCGCG                            PATO:0000461   \n",
       "...                                                       ...   \n",
       "GTCACGGTCATCGATG_F01403                          PATO:0000461   \n",
       "CGGACACAGCCATCGC-1-HCATisStab7659970             PATO:0000461   \n",
       "ATGAGGGTCCCTCTCC_SC143                           PATO:0000461   \n",
       "CATTATCTCCATGAAC_F01639                          PATO:0000461   \n",
       "AGGCCGTGTGTGACCC-SC56                            PATO:0000461   \n",
       "\n",
       "                                     self_reported_ethnicity_ontology_term_id  \\\n",
       "GCGACCATCCCTAACC_SC22                                          HANCESTRO:0005   \n",
       "P2_1_GCGCAACCAGTTAACC                                          HANCESTRO:0005   \n",
       "GCTCTGTAGTGCTGCC_SC27                                          HANCESTRO:0005   \n",
       "P2_1_CAGCAGCGTGTTGAGG                                          HANCESTRO:0005   \n",
       "P1_4_TTGCGTCAGCTTCGCG                                          HANCESTRO:0005   \n",
       "...                                                                       ...   \n",
       "GTCACGGTCATCGATG_F01403                                        HANCESTRO:0005   \n",
       "CGGACACAGCCATCGC-1-HCATisStab7659970                           HANCESTRO:0005   \n",
       "ATGAGGGTCCCTCTCC_SC143                                                unknown   \n",
       "CATTATCTCCATGAAC_F01639                                        HANCESTRO:0005   \n",
       "AGGCCGTGTGTGACCC-SC56                                          HANCESTRO:0005   \n",
       "\n",
       "                                     tissue_ontology_term_id  \\\n",
       "GCGACCATCCCTAACC_SC22                         UBERON:0008946   \n",
       "P2_1_GCGCAACCAGTTAACC                         UBERON:0008946   \n",
       "GCTCTGTAGTGCTGCC_SC27                         UBERON:0008946   \n",
       "P2_1_CAGCAGCGTGTTGAGG                         UBERON:0008946   \n",
       "P1_4_TTGCGTCAGCTTCGCG                         UBERON:0008946   \n",
       "...                                                      ...   \n",
       "GTCACGGTCATCGATG_F01403                       UBERON:0008946   \n",
       "CGGACACAGCCATCGC-1-HCATisStab7659970          UBERON:0008946   \n",
       "ATGAGGGTCCCTCTCC_SC143                        UBERON:0008946   \n",
       "CATTATCTCCATGAAC_F01639                       UBERON:0008946   \n",
       "AGGCCGTGTGTGACCC-SC56                         UBERON:0008946   \n",
       "\n",
       "                                     organism_ontology_term_id  ...  \\\n",
       "GCGACCATCCCTAACC_SC22                           NCBITaxon:9606  ...   \n",
       "P2_1_GCGCAACCAGTTAACC                           NCBITaxon:9606  ...   \n",
       "GCTCTGTAGTGCTGCC_SC27                           NCBITaxon:9606  ...   \n",
       "P2_1_CAGCAGCGTGTTGAGG                           NCBITaxon:9606  ...   \n",
       "P1_4_TTGCGTCAGCTTCGCG                           NCBITaxon:9606  ...   \n",
       "...                                                        ...  ...   \n",
       "GTCACGGTCATCGATG_F01403                         NCBITaxon:9606  ...   \n",
       "CGGACACAGCCATCGC-1-HCATisStab7659970            NCBITaxon:9606  ...   \n",
       "ATGAGGGTCCCTCTCC_SC143                          NCBITaxon:9606  ...   \n",
       "CATTATCTCCATGAAC_F01639                         NCBITaxon:9606  ...   \n",
       "AGGCCGTGTGTGACCC-SC56                           NCBITaxon:9606  ...   \n",
       "\n",
       "                                     tissue_type  \\\n",
       "GCGACCATCCCTAACC_SC22                     tissue   \n",
       "P2_1_GCGCAACCAGTTAACC                     tissue   \n",
       "GCTCTGTAGTGCTGCC_SC27                     tissue   \n",
       "P2_1_CAGCAGCGTGTTGAGG                     tissue   \n",
       "P1_4_TTGCGTCAGCTTCGCG                     tissue   \n",
       "...                                          ...   \n",
       "GTCACGGTCATCGATG_F01403                   tissue   \n",
       "CGGACACAGCCATCGC-1-HCATisStab7659970      tissue   \n",
       "ATGAGGGTCCCTCTCC_SC143                    tissue   \n",
       "CATTATCTCCATGAAC_F01639                   tissue   \n",
       "AGGCCGTGTGTGACCC-SC56                     tissue   \n",
       "\n",
       "                                                                 cell_type  \\\n",
       "GCGACCATCCCTAACC_SC22                                  alveolar macrophage   \n",
       "P2_1_GCGCAACCAGTTAACC                                  natural killer cell   \n",
       "GCTCTGTAGTGCTGCC_SC27                                   type II pneumocyte   \n",
       "P2_1_CAGCAGCGTGTTGAGG                                vein endothelial cell   \n",
       "P1_4_TTGCGTCAGCTTCGCG                      CD8-positive, alpha-beta T cell   \n",
       "...                                                                    ...   \n",
       "GTCACGGTCATCGATG_F01403                                elicited macrophage   \n",
       "CGGACACAGCCATCGC-1-HCATisStab7659970       alveolar type 2 fibroblast cell   \n",
       "ATGAGGGTCCCTCTCC_SC143                     alveolar type 2 fibroblast cell   \n",
       "CATTATCTCCATGAAC_F01639               CD1c-positive myeloid dendritic cell   \n",
       "AGGCCGTGTGTGACCC-SC56                                   type II pneumocyte   \n",
       "\n",
       "                                          assay disease      organism     sex  \\\n",
       "GCGACCATCCCTAACC_SC22                 10x 3' v2  normal  Homo sapiens  female   \n",
       "P2_1_GCGCAACCAGTTAACC                 10x 3' v2  normal  Homo sapiens    male   \n",
       "GCTCTGTAGTGCTGCC_SC27                 10x 3' v2  normal  Homo sapiens  female   \n",
       "P2_1_CAGCAGCGTGTTGAGG                 10x 3' v2  normal  Homo sapiens    male   \n",
       "P1_4_TTGCGTCAGCTTCGCG                 10x 3' v2  normal  Homo sapiens    male   \n",
       "...                                         ...     ...           ...     ...   \n",
       "GTCACGGTCATCGATG_F01403               10x 5' v1  normal  Homo sapiens    male   \n",
       "CGGACACAGCCATCGC-1-HCATisStab7659970  10x 3' v2  normal  Homo sapiens    male   \n",
       "ATGAGGGTCCCTCTCC_SC143                10x 3' v3  normal  Homo sapiens    male   \n",
       "CATTATCTCCATGAAC_F01639               10x 5' v1  normal  Homo sapiens    male   \n",
       "AGGCCGTGTGTGACCC-SC56                 10x 3' v2  normal  Homo sapiens  female   \n",
       "\n",
       "                                               tissue self_reported_ethnicity  \\\n",
       "GCGACCATCCCTAACC_SC22                 lung parenchyma                European   \n",
       "P2_1_GCGCAACCAGTTAACC                 lung parenchyma                European   \n",
       "GCTCTGTAGTGCTGCC_SC27                 lung parenchyma                European   \n",
       "P2_1_CAGCAGCGTGTTGAGG                 lung parenchyma                European   \n",
       "P1_4_TTGCGTCAGCTTCGCG                 lung parenchyma                European   \n",
       "...                                               ...                     ...   \n",
       "GTCACGGTCATCGATG_F01403               lung parenchyma                European   \n",
       "CGGACACAGCCATCGC-1-HCATisStab7659970  lung parenchyma                European   \n",
       "ATGAGGGTCCCTCTCC_SC143                lung parenchyma                 unknown   \n",
       "CATTATCTCCATGAAC_F01639               lung parenchyma                European   \n",
       "AGGCCGTGTGTGACCC-SC56                 lung parenchyma                European   \n",
       "\n",
       "                                             development_stage  \\\n",
       "GCGACCATCCCTAACC_SC22                  49-year-old human stage   \n",
       "P2_1_GCGCAACCAGTTAACC                  46-year-old human stage   \n",
       "GCTCTGTAGTGCTGCC_SC27                  47-year-old human stage   \n",
       "P2_1_CAGCAGCGTGTTGAGG                  46-year-old human stage   \n",
       "P1_4_TTGCGTCAGCTTCGCG                  75-year-old human stage   \n",
       "...                                                        ...   \n",
       "GTCACGGTCATCGATG_F01403                35-year-old human stage   \n",
       "CGGACACAGCCATCGC-1-HCATisStab7659970  sixth decade human stage   \n",
       "ATGAGGGTCCCTCTCC_SC143                 25-year-old human stage   \n",
       "CATTATCTCCATGAAC_F01639                53-year-old human stage   \n",
       "AGGCCGTGTGTGACCC-SC56                  57-year-old human stage   \n",
       "\n",
       "                                     observation_joinid  \n",
       "GCGACCATCCCTAACC_SC22                        y3(xbM64-M  \n",
       "P2_1_GCGCAACCAGTTAACC                        A>+$XL~PxD  \n",
       "GCTCTGTAGTGCTGCC_SC27                        5jcAkve8k5  \n",
       "P2_1_CAGCAGCGTGTTGAGG                        Wf*-3P<w;h  \n",
       "P1_4_TTGCGTCAGCTTCGCG                        4ru{=>PaDe  \n",
       "...                                                 ...  \n",
       "GTCACGGTCATCGATG_F01403                      q=2n!l8(h?  \n",
       "CGGACACAGCCATCGC-1-HCATisStab7659970         iP_eZ6J_l3  \n",
       "ATGAGGGTCCCTCTCC_SC143                       JUTRq`#PGV  \n",
       "CATTATCTCCATGAAC_F01639                      $3Xp*6c51x  \n",
       "AGGCCGTGTGTGACCC-SC56                        7#E>)wqFoi  \n",
       "\n",
       "[333468 rows x 69 columns]"
      ]
     },
     "execution_count": 16,
     "metadata": {},
     "output_type": "execute_result"
    }
   ],
   "source": [
    "data.obs"
   ]
  },
  {
   "cell_type": "code",
   "execution_count": 14,
   "id": "fe59a4f3",
   "metadata": {
    "ExecuteTime": {
     "end_time": "2024-04-23T17:54:14.759549Z",
     "start_time": "2024-04-23T17:54:14.750217Z"
    }
   },
   "outputs": [
    {
     "data": {
      "text/plain": [
       "(28024, 5)"
      ]
     },
     "execution_count": 14,
     "metadata": {},
     "output_type": "execute_result"
    }
   ],
   "source": [
    "data.var.shape"
   ]
  },
  {
   "cell_type": "code",
   "execution_count": 6,
   "id": "a00d1213",
   "metadata": {
    "ExecuteTime": {
     "end_time": "2024-04-23T16:50:48.225312Z",
     "start_time": "2024-04-23T16:50:48.215288Z"
    }
   },
   "outputs": [
    {
     "data": {
      "text/plain": [
       "KeysView(Layers with keys: )"
      ]
     },
     "execution_count": 6,
     "metadata": {},
     "output_type": "execute_result"
    }
   ],
   "source": [
    "data.layers.keys()"
   ]
  },
  {
   "cell_type": "code",
   "execution_count": 10,
   "id": "3e327feb",
   "metadata": {
    "ExecuteTime": {
     "end_time": "2024-04-23T16:55:09.895609Z",
     "start_time": "2024-04-23T16:55:05.079743Z"
    }
   },
   "outputs": [
    {
     "data": {
      "text/plain": [
       "lung parenchyma       333468\n",
       "respiratory airway    173197\n",
       "nose                   78279\n",
       "Name: tissue, dtype: int64"
      ]
     },
     "metadata": {},
     "output_type": "display_data"
    }
   ],
   "source": [
    "# subset to only tissue with the largest number of cells\n",
    "\n",
    "display(data.obs[\"tissue\"].value_counts())\n",
    "data = data[data.obs.tissue == \"lung parenchyma\"]\n"
   ]
  },
  {
   "cell_type": "code",
   "execution_count": 11,
   "id": "2ecd67e1",
   "metadata": {
    "ExecuteTime": {
     "end_time": "2024-04-23T16:55:09.907995Z",
     "start_time": "2024-04-23T16:55:09.898166Z"
    }
   },
   "outputs": [
    {
     "data": {
      "text/plain": [
       "Illumina HiSeq 4000         107617\n",
       "Illumina NovaSeq 6000        79776\n",
       "Illumina NovaSeq 6000 S4     57225\n",
       "Illumina NovaSeq 6000 S1     41001\n",
       "Illumina NextSeq 500         24181\n",
       "Illumina NovaSeq 6000 S2     21371\n",
       "Illumina NovaSeq 6000 SP      1920\n",
       "Name: sequencing_platform, dtype: int64"
      ]
     },
     "execution_count": 11,
     "metadata": {},
     "output_type": "execute_result"
    }
   ],
   "source": [
    "data.obs[\"sequencing_platform\"].value_counts()"
   ]
  },
  {
   "cell_type": "code",
   "execution_count": 8,
   "id": "2b7e6914",
   "metadata": {
    "ExecuteTime": {
     "end_time": "2024-01-28T20:52:09.693475Z",
     "start_time": "2024-01-28T20:52:08.890073Z"
    }
   },
   "outputs": [
    {
     "name": "stdout",
     "output_type": "stream",
     "text": [
      "suspension_type\n"
     ]
    },
    {
     "data": {
      "text/plain": [
       "cell    333468\n",
       "Name: suspension_type, dtype: int64"
      ]
     },
     "metadata": {},
     "output_type": "display_data"
    },
    {
     "name": "stdout",
     "output_type": "stream",
     "text": [
      "donor_id\n"
     ]
    },
    {
     "data": {
      "text/plain": [
       "homosapiens_None_2023_None_sikkemalisa_001_d10_1101_2022_03_10_483747NU_CZI02    36814\n",
       "homosapiens_None_2023_None_sikkemalisa_001_d10_1101_2022_03_10_483747NU_CZI01    18612\n",
       "homosapiens_None_2023_None_sikkemalisa_001_d10_1101_2022_03_10_483747donor 2     18541\n",
       "homosapiens_None_2023_None_sikkemalisa_001_d10_1101_2022_03_10_483747donor 3     16898\n",
       "homosapiens_None_2023_None_sikkemalisa_001_d10_1101_2022_03_10_483747390C        14728\n",
       "                                                                                 ...  \n",
       "homosapiens_None_2023_None_sikkemalisa_001_d10_1101_2022_03_10_483747284C          331\n",
       "homosapiens_None_2023_None_sikkemalisa_001_d10_1101_2022_03_10_483747VUHD073       278\n",
       "homosapiens_None_2023_None_sikkemalisa_001_d10_1101_2022_03_10_483747VUHD105       140\n",
       "homosapiens_None_2023_None_sikkemalisa_001_d10_1101_2022_03_10_483747VUHD076        47\n",
       "homosapiens_None_2023_None_sikkemalisa_001_d10_1101_2022_03_10_483747VUHD87          8\n",
       "Name: donor_id, Length: 66, dtype: int64"
      ]
     },
     "metadata": {},
     "output_type": "display_data"
    },
    {
     "name": "stdout",
     "output_type": "stream",
     "text": [
      "is_primary_data\n"
     ]
    },
    {
     "data": {
      "text/plain": [
       "False    333468\n",
       "Name: is_primary_data, dtype: int64"
      ]
     },
     "metadata": {},
     "output_type": "display_data"
    },
    {
     "name": "stdout",
     "output_type": "stream",
     "text": [
      "assay_ontology_term_id\n"
     ]
    },
    {
     "data": {
      "text/plain": [
       "EFO:0009899    153227\n",
       "EFO:0011025    117948\n",
       "EFO:0009922     55426\n",
       "EFO:0009900      3946\n",
       "EFO:0009901      2921\n",
       "Name: assay_ontology_term_id, dtype: int64"
      ]
     },
     "metadata": {},
     "output_type": "display_data"
    },
    {
     "name": "stdout",
     "output_type": "stream",
     "text": [
      "cell_type_ontology_term_id\n"
     ]
    },
    {
     "data": {
      "text/plain": [
       "CL:0000583    73414\n",
       "CL:0002063    60424\n",
       "CL:0000861    26057\n",
       "CL:0002144    20210\n",
       "CL:0000624    15702\n",
       "CL:0000860    15454\n",
       "CL:0000625    14932\n",
       "CL:0000623    14878\n",
       "CL:0002145    10180\n",
       "CL:4028006     9739\n",
       "CL:0000875     8415\n",
       "CL:0002543     7910\n",
       "CL:0002062     7411\n",
       "CL:1001568     6866\n",
       "CL:0002399     5623\n",
       "CL:0000097     4754\n",
       "CL:1001603     4604\n",
       "CL:0002138     4361\n",
       "CL:4028004     4349\n",
       "CL:0002632     3964\n",
       "CL:0000236     2415\n",
       "CL:0009089     2248\n",
       "CL:0019019     1939\n",
       "CL:0000786     1255\n",
       "CL:0010003     1169\n",
       "CL:0000158      989\n",
       "CL:0002633      624\n",
       "CL:0000186      600\n",
       "CL:0000192      487\n",
       "CL:0000084      400\n",
       "CL:2000093      288\n",
       "CL:0000057      276\n",
       "CL:0000451      268\n",
       "CL:0000990      249\n",
       "CL:0000077      229\n",
       "CL:0005012      223\n",
       "CL:0000784      171\n",
       "CL:0002480      114\n",
       "CL:1000312       75\n",
       "CL:0000037       57\n",
       "CL:0000499       57\n",
       "CL:0005006       34\n",
       "CL:1000223       19\n",
       "CL:4030023       17\n",
       "CL:0019003       12\n",
       "CL:0002075        3\n",
       "CL:0000622        2\n",
       "CL:0000319        1\n",
       "Name: cell_type_ontology_term_id, dtype: int64"
      ]
     },
     "metadata": {},
     "output_type": "display_data"
    },
    {
     "name": "stdout",
     "output_type": "stream",
     "text": [
      "development_stage_ontology_term_id\n"
     ]
    },
    {
     "data": {
      "text/plain": [
       "HsapDv:0000119    40957\n",
       "HsapDv:0000149    22494\n",
       "HsapDv:0000146    18612\n",
       "HsapDv:0000140    18541\n",
       "HsapDv:0000239    16899\n",
       "HsapDv:0000145    16898\n",
       "HsapDv:0000241    16719\n",
       "HsapDv:0000143    14613\n",
       "HsapDv:0000151    13796\n",
       "HsapDv:0000124    13533\n",
       "HsapDv:0000123    11743\n",
       "HsapDv:0000240    10396\n",
       "HsapDv:0000117    10172\n",
       "HsapDv:0000158     9480\n",
       "HsapDv:0000128     9134\n",
       "HsapDv:0000141     8016\n",
       "HsapDv:0000135     7850\n",
       "HsapDv:0000169     7523\n",
       "HsapDv:0000156     7286\n",
       "HsapDv:0000132     5972\n",
       "HsapDv:0000157     5390\n",
       "HsapDv:0000115     4880\n",
       "HsapDv:0000147     4592\n",
       "HsapDv:0000153     4516\n",
       "HsapDv:0000163     4305\n",
       "HsapDv:0000116     4241\n",
       "HsapDv:0000148     4061\n",
       "HsapDv:0000238     3771\n",
       "HsapDv:0000112     3272\n",
       "HsapDv:0000130     2542\n",
       "HsapDv:0000150     2217\n",
       "HsapDv:0000134     1739\n",
       "HsapDv:0000152     1605\n",
       "HsapDv:0000136     1411\n",
       "HsapDv:0000129     1296\n",
       "HsapDv:0000125     1208\n",
       "HsapDv:0000170      704\n",
       "HsapDv:0000165      601\n",
       "HsapDv:0000121      436\n",
       "HsapDv:0000109       47\n",
       "Name: development_stage_ontology_term_id, dtype: int64"
      ]
     },
     "metadata": {},
     "output_type": "display_data"
    },
    {
     "name": "stdout",
     "output_type": "stream",
     "text": [
      "disease_ontology_term_id\n"
     ]
    },
    {
     "data": {
      "text/plain": [
       "PATO:0000461    333468\n",
       "Name: disease_ontology_term_id, dtype: int64"
      ]
     },
     "metadata": {},
     "output_type": "display_data"
    },
    {
     "name": "stdout",
     "output_type": "stream",
     "text": [
      "self_reported_ethnicity_ontology_term_id\n"
     ]
    },
    {
     "data": {
      "text/plain": [
       "HANCESTRO:0005    203489\n",
       "unknown            69051\n",
       "HANCESTRO:0010     55644\n",
       "HANCESTRO:0008      4536\n",
       "HANCESTRO:0463       748\n",
       "Name: self_reported_ethnicity_ontology_term_id, dtype: int64"
      ]
     },
     "metadata": {},
     "output_type": "display_data"
    },
    {
     "name": "stdout",
     "output_type": "stream",
     "text": [
      "tissue_ontology_term_id\n"
     ]
    },
    {
     "data": {
      "text/plain": [
       "UBERON:0008946    333468\n",
       "Name: tissue_ontology_term_id, dtype: int64"
      ]
     },
     "metadata": {},
     "output_type": "display_data"
    },
    {
     "name": "stdout",
     "output_type": "stream",
     "text": [
      "organism_ontology_term_id\n"
     ]
    },
    {
     "data": {
      "text/plain": [
       "NCBITaxon:9606    333468\n",
       "Name: organism_ontology_term_id, dtype: int64"
      ]
     },
     "metadata": {},
     "output_type": "display_data"
    },
    {
     "name": "stdout",
     "output_type": "stream",
     "text": [
      "sex_ontology_term_id\n"
     ]
    },
    {
     "data": {
      "text/plain": [
       "PATO:0000384    209812\n",
       "PATO:0000383    123656\n",
       "Name: sex_ontology_term_id, dtype: int64"
      ]
     },
     "metadata": {},
     "output_type": "display_data"
    },
    {
     "name": "stdout",
     "output_type": "stream",
     "text": [
      "BMI\n"
     ]
    },
    {
     "data": {
      "text/plain": [
       "22.0    24167\n",
       "47.7    18612\n",
       "33.1    18541\n",
       "34.0    18070\n",
       "41.0    13557\n",
       "24.1     9412\n",
       "21.8     9395\n",
       "23.5     7850\n",
       "39.4     7560\n",
       "24.6     7523\n",
       "41.5     7286\n",
       "30.0     5264\n",
       "25.3     4201\n",
       "21.0     3771\n",
       "31.8     3474\n",
       "33.8     3252\n",
       "29.9     2542\n",
       "23.0     2425\n",
       "40.2     2322\n",
       "28.0     1991\n",
       "21.5     1920\n",
       "33.2     1753\n",
       "22.3     1739\n",
       "24.8     1465\n",
       "30.9     1411\n",
       "28.8     1296\n",
       "38.3     1208\n",
       "34.7     1028\n",
       "47.8      957\n",
       "28.3      782\n",
       "21.1      601\n",
       "27.0      371\n",
       "26.0      331\n",
       "48.9      278\n",
       "Name: BMI, dtype: int64"
      ]
     },
     "metadata": {},
     "output_type": "display_data"
    },
    {
     "name": "stdout",
     "output_type": "stream",
     "text": [
      "age_or_mean_of_age_range\n"
     ]
    },
    {
     "data": {
      "text/plain": [
       "25.0    40957\n",
       "55.0    22494\n",
       "52.0    18612\n",
       "46.0    18541\n",
       "42.5    16899\n",
       "51.0    16898\n",
       "67.5    14728\n",
       "49.0    14613\n",
       "57.0    13796\n",
       "30.0    13533\n",
       "29.0    11743\n",
       "23.0    10172\n",
       "64.0     9480\n",
       "34.0     9134\n",
       "47.0     8016\n",
       "57.5     7971\n",
       "41.0     7850\n",
       "75.0     7523\n",
       "62.0     7286\n",
       "38.0     5972\n",
       "63.0     5390\n",
       "21.0     4880\n",
       "53.0     4592\n",
       "59.0     4516\n",
       "69.0     4305\n",
       "22.0     4241\n",
       "54.0     4061\n",
       "32.5     3771\n",
       "18.0     3272\n",
       "36.0     2542\n",
       "52.5     2425\n",
       "56.0     2217\n",
       "62.5     1991\n",
       "40.0     1739\n",
       "58.0     1605\n",
       "42.0     1411\n",
       "35.0     1296\n",
       "31.0     1208\n",
       "76.0      704\n",
       "71.0      601\n",
       "27.0      436\n",
       "15.0       47\n",
       "Name: age_or_mean_of_age_range, dtype: int64"
      ]
     },
     "metadata": {},
     "output_type": "display_data"
    },
    {
     "name": "stdout",
     "output_type": "stream",
     "text": [
      "age_range\n"
     ]
    },
    {
     "data": {
      "text/plain": [
       "40-45    16899\n",
       "65-70    14728\n",
       "55-60     7971\n",
       "30-35     3771\n",
       "50-55     2425\n",
       "60-65     1991\n",
       "Name: age_range, dtype: int64"
      ]
     },
     "metadata": {},
     "output_type": "display_data"
    },
    {
     "name": "stdout",
     "output_type": "stream",
     "text": [
      "anatomical_region_ccf_score\n"
     ]
    },
    {
     "data": {
      "text/plain": [
       "0.97    333468\n",
       "Name: anatomical_region_ccf_score, dtype: int64"
      ]
     },
     "metadata": {},
     "output_type": "display_data"
    },
    {
     "name": "stdout",
     "output_type": "stream",
     "text": [
      "ann_coarse_for_GWAS_and_modeling\n"
     ]
    },
    {
     "data": {
      "text/plain": [
       "Alveolar macrophages             73414\n",
       "AT2                              60424\n",
       "T cell lineage                   31034\n",
       "Monocyte-derived Mph             26057\n",
       "Monocytes                        23869\n",
       "EC capillary                     20210\n",
       "Innate lymphoid cell NK          14878\n",
       "Multiciliated                    10403\n",
       "Adventitial fibroblasts           9739\n",
       "EC venous                         7910\n",
       "AT1                               7411\n",
       "EC arterial                       6866\n",
       "DC2                               5623\n",
       "Transitional Club-AT2 cells       5133\n",
       "Mast cells                        4754\n",
       "Interstitial Mph perivascular     4604\n",
       "Lymphatic EC                      4361\n",
       "Alveolar fibroblasts              4349\n",
       "Smooth muscle                     2426\n",
       "B cell                            2415\n",
       "Pericytes                         2248\n",
       "Plasma cells                      1255\n",
       "Secretory                         1190\n",
       "Basal                              641\n",
       "Myofibroblasts                     600\n",
       "Peribronchial fibroblasts          288\n",
       "Subpleural fibroblasts             276\n",
       "Migratory DCs                      268\n",
       "DC1                                249\n",
       "Mesothelium                        229\n",
       "Plasmacytoid DCs                   171\n",
       "Smooth muscle FAM83D+               57\n",
       "Hematopoietic stem cells            57\n",
       "Ionocyte                            34\n",
       "Neuroendocrine                      19\n",
       "Tuft                                 3\n",
       "SMG duct                             2\n",
       "SMG mucous                           1\n",
       "Name: ann_coarse_for_GWAS_and_modeling, dtype: int64"
      ]
     },
     "metadata": {},
     "output_type": "display_data"
    },
    {
     "name": "stdout",
     "output_type": "stream",
     "text": [
      "ann_finest_level\n"
     ]
    },
    {
     "data": {
      "text/plain": [
       "Alveolar macrophages             65291\n",
       "AT2                              59457\n",
       "Monocyte-derived Mph             26057\n",
       "CD4 T cells                      15702\n",
       "Classical monocytes              15454\n",
       "CD8 T cells                      14932\n",
       "NK cells                         14878\n",
       "EC general capillary             14329\n",
       "Multiciliated (non-nasal)        10180\n",
       "Adventitial fibroblasts           9739\n",
       "Non-classical monocytes           8415\n",
       "AT1                               7411\n",
       "EC arterial                       6866\n",
       "EC venous pulmonary               6194\n",
       "Alveolar Mph CCL3+                5917\n",
       "EC aerocyte capillary             5881\n",
       "DC2                               5623\n",
       "Mast cells                        4754\n",
       "Interstitial Mph perivascular     4604\n",
       "Alveolar fibroblasts              4349\n",
       "pre-TB secretory                  3964\n",
       "Lymphatic EC mature               3777\n",
       "B cells                           2415\n",
       "Pericytes                         2248\n",
       "Smooth muscle                     1939\n",
       "EC venous systemic                1716\n",
       "Plasma cells                      1255\n",
       "Alveolar Mph MT-positive          1197\n",
       "AT0                               1169\n",
       "Alveolar Mph proliferating        1009\n",
       "Club (non-nasal)                   969\n",
       "AT2 proliferating                  967\n",
       "Myofibroblasts                     600\n",
       "Lymphatic EC differentiating       556\n",
       "SM activated stress response       487\n",
       "Suprabasal                         402\n",
       "T cells proliferating              400\n",
       "Peribronchial fibroblasts          288\n",
       "Subpleural fibroblasts             276\n",
       "Migratory DCs                      268\n",
       "DC1                                249\n",
       "Mesothelium                        229\n",
       "Basal resting                      222\n",
       "Deuterosomal                       205\n",
       "Plasmacytoid DCs                   171\n",
       "Goblet (nasal)                     114\n",
       "Goblet (bronchial)                  75\n",
       "Smooth muscle FAM83D+               57\n",
       "Hematopoietic stem cells            57\n",
       "Ionocyte                            34\n",
       "Lymphatic EC proliferating          28\n",
       "Club (nasal)                        20\n",
       "Neuroendocrine                      19\n",
       "Multiciliated (nasal)               18\n",
       "Hillock-like                        17\n",
       "Goblet (subsegmental)               12\n",
       "Tuft                                 3\n",
       "SMG duct                             2\n",
       "SMG mucous                           1\n",
       "Name: ann_finest_level, dtype: int64"
      ]
     },
     "metadata": {},
     "output_type": "display_data"
    },
    {
     "name": "stdout",
     "output_type": "stream",
     "text": [
      "ann_level_1\n"
     ]
    },
    {
     "data": {
      "text/plain": [
       "Immune         188648\n",
       "Epithelial      85261\n",
       "Endothelial     39347\n",
       "Stroma          20212\n",
       "Name: ann_level_1, dtype: int64"
      ]
     },
     "metadata": {},
     "output_type": "display_data"
    },
    {
     "name": "stdout",
     "output_type": "stream",
     "text": [
      "ann_level_2\n"
     ]
    },
    {
     "data": {
      "text/plain": [
       "Myeloid                     139009\n",
       "Alveolar epithelium          67835\n",
       "Lymphoid                     49582\n",
       "Blood vessels                34986\n",
       "Fibroblast lineage           17500\n",
       "Airway epithelium            17423\n",
       "Lymphatic EC                  4361\n",
       "Smooth muscle                 2483\n",
       "Mesothelium                    229\n",
       "Hematopoietic stem cells        57\n",
       "Submucosal Gland                 3\n",
       "Name: ann_level_2, dtype: int64"
      ]
     },
     "metadata": {},
     "output_type": "display_data"
    },
    {
     "name": "stdout",
     "output_type": "stream",
     "text": [
      "ann_level_3\n"
     ]
    },
    {
     "data": {
      "text/plain": [
       "Macrophages                     104075\n",
       "AT2                              60424\n",
       "T cell lineage                   31034\n",
       "Monocytes                        23869\n",
       "EC capillary                     20210\n",
       "Fibroblasts                      16900\n",
       "Innate lymphoid cell NK          14878\n",
       "Multiciliated lineage            10403\n",
       "EC venous                         7910\n",
       "AT1                               7411\n",
       "EC arterial                       6866\n",
       "Secretory                         6323\n",
       "Dendritic cells                   6311\n",
       "Mast cells                        4754\n",
       "Lymphatic EC mature               3777\n",
       "B cell lineage                    3670\n",
       "None                              2225\n",
       "Basal                              641\n",
       "Myofibroblasts                     600\n",
       "Lymphatic EC differentiating       556\n",
       "SM activated stress response       487\n",
       "Smooth muscle FAM83D+               57\n",
       "Rare                                56\n",
       "Lymphatic EC proliferating          28\n",
       "Submucosal Secretory                 3\n",
       "Name: ann_level_3, dtype: int64"
      ]
     },
     "metadata": {},
     "output_type": "display_data"
    },
    {
     "name": "stdout",
     "output_type": "stream",
     "text": [
      "ann_level_4\n"
     ]
    },
    {
     "data": {
      "text/plain": [
       "None                         86218\n",
       "Alveolar macrophages         73414\n",
       "Interstitial macrophages     30661\n",
       "CD4 T cells                  15702\n",
       "Classical monocytes          15454\n",
       "CD8 T cells                  14932\n",
       "NK cells                     14878\n",
       "EC general capillary         14329\n",
       "Multiciliated                10198\n",
       "Adventitial fibroblasts       9739\n",
       "Non-classical monocytes       8415\n",
       "EC venous pulmonary           6194\n",
       "EC aerocyte capillary         5881\n",
       "DC2                           5623\n",
       "Transitional Club-AT2         5133\n",
       "Alveolar fibroblasts          4349\n",
       "B cells                       2415\n",
       "Pericytes                     2248\n",
       "EC venous systemic            1716\n",
       "Plasma cells                  1255\n",
       "Club                           989\n",
       "AT2 proliferating              967\n",
       "Suprabasal                     402\n",
       "T cells proliferating          400\n",
       "Peribronchial fibroblasts      288\n",
       "Subpleural fibroblasts         276\n",
       "Migratory DCs                  268\n",
       "DC1                            249\n",
       "Basal resting                  222\n",
       "Deuterosomal                   205\n",
       "Goblet                         201\n",
       "Plasmacytoid DCs               171\n",
       "Ionocyte                        34\n",
       "Neuroendocrine                  19\n",
       "Hillock-like                    17\n",
       "Tuft                             3\n",
       "SMG duct                         2\n",
       "SMG mucous                       1\n",
       "Name: ann_level_4, dtype: int64"
      ]
     },
     "metadata": {},
     "output_type": "display_data"
    },
    {
     "name": "stdout",
     "output_type": "stream",
     "text": [
      "ann_level_5\n"
     ]
    },
    {
     "data": {
      "text/plain": [
       "None                             278163\n",
       "Monocyte-derived Mph              26057\n",
       "Multiciliated (non-nasal)         10180\n",
       "Alveolar Mph CCL3+                 5917\n",
       "Interstitial Mph perivascular      4604\n",
       "pre-TB secretory                   3964\n",
       "Alveolar Mph MT-positive           1197\n",
       "AT0                                1169\n",
       "Alveolar Mph proliferating         1009\n",
       "Club (non-nasal)                    969\n",
       "Goblet (nasal)                      114\n",
       "Goblet (bronchial)                   75\n",
       "Club (nasal)                         20\n",
       "Multiciliated (nasal)                18\n",
       "Goblet (subsegmental)                12\n",
       "Name: ann_level_5, dtype: int64"
      ]
     },
     "metadata": {},
     "output_type": "display_data"
    },
    {
     "name": "stdout",
     "output_type": "stream",
     "text": [
      "cause_of_death\n"
     ]
    },
    {
     "data": {
      "text/plain": [
       "head trauma                          42311\n",
       "Intracranial haemorrhage             42121\n",
       "stroke, intracranial hemorrhage      18612\n",
       "intracranial hemorrhage              16382\n",
       "stroke                               14721\n",
       "anoxic brain injury                  10327\n",
       "meth overdose                        10093\n",
       "head trauma from gunshot wound        4880\n",
       "anoxic brain injury after seizure     4241\n",
       "known or suspected suicide            3342\n",
       "Intracerebral hemorrhage              2322\n",
       "drug overdose                         1991\n",
       "CVA/stroke                            1920\n",
       "MVA                                   1028\n",
       "accident                               331\n",
       "Name: cause_of_death, dtype: int64"
      ]
     },
     "metadata": {},
     "output_type": "display_data"
    },
    {
     "name": "stdout",
     "output_type": "stream",
     "text": [
      "dataset\n"
     ]
    },
    {
     "data": {
      "text/plain": [
       "Banovich_Kropski_2020        121894\n",
       "Misharin_2021                 55426\n",
       "Krasnow_2020                  42962\n",
       "Misharin_Budinger_2018        41220\n",
       "Meyer_2019                    35554\n",
       "Lafyatis_Rojas_2019_10Xv2     21260\n",
       "Teichmann_Meyer_2019          12231\n",
       "Lafyatis_Rojas_2019_10Xv1      2921\n",
       "Name: dataset, dtype: int64"
      ]
     },
     "metadata": {},
     "output_type": "display_data"
    },
    {
     "name": "stdout",
     "output_type": "stream",
     "text": [
      "entropy_dataset_leiden_3\n"
     ]
    },
    {
     "data": {
      "text/plain": [
       "1.664049    47429\n",
       "1.481397    28625\n",
       "1.406215    21817\n",
       "1.388349    21416\n",
       "1.798940    15702\n",
       "            ...  \n",
       "0.238639       12\n",
       "1.355465        3\n",
       "0.215691        2\n",
       "1.631329        2\n",
       "0.523248        1\n",
       "Name: entropy_dataset_leiden_3, Length: 91, dtype: int64"
      ]
     },
     "metadata": {},
     "output_type": "display_data"
    },
    {
     "name": "stdout",
     "output_type": "stream",
     "text": [
      "entropy_original_ann_level_1_leiden_3\n"
     ]
    },
    {
     "data": {
      "text/plain": [
       "0.177918    47429\n",
       "0.017361    28625\n",
       "0.022882    21817\n",
       "0.042363    21416\n",
       "0.034242    15702\n",
       "            ...  \n",
       "0.334564       19\n",
       "0.348832       18\n",
       "0.001949       18\n",
       "0.004833       18\n",
       "0.036987        3\n",
       "Name: entropy_original_ann_level_1_leiden_3, Length: 77, dtype: int64"
      ]
     },
     "metadata": {},
     "output_type": "display_data"
    },
    {
     "name": "stdout",
     "output_type": "stream",
     "text": [
      "entropy_original_ann_level_2_clean_leiden_3\n"
     ]
    },
    {
     "data": {
      "text/plain": [
       "0.182714    47429\n",
       "0.036751    28625\n",
       "0.040664    21817\n",
       "0.071855    21416\n",
       "0.085810    15702\n",
       "            ...  \n",
       "0.014837       12\n",
       "0.139325        3\n",
       "0.009930        2\n",
       "0.410116        2\n",
       "0.107035        1\n",
       "Name: entropy_original_ann_level_2_clean_leiden_3, Length: 85, dtype: int64"
      ]
     },
     "metadata": {},
     "output_type": "display_data"
    },
    {
     "name": "stdout",
     "output_type": "stream",
     "text": [
      "entropy_original_ann_level_3_clean_leiden_3\n"
     ]
    },
    {
     "data": {
      "text/plain": [
       "0.277385    47429\n",
       "0.343161    28625\n",
       "0.134172    21817\n",
       "0.150511    21416\n",
       "0.147178    15702\n",
       "            ...  \n",
       "0.014837       12\n",
       "0.737784        3\n",
       "0.178479        2\n",
       "0.458702        2\n",
       "0.119685        1\n",
       "Name: entropy_original_ann_level_3_clean_leiden_3, Length: 81, dtype: int64"
      ]
     },
     "metadata": {},
     "output_type": "display_data"
    },
    {
     "name": "stdout",
     "output_type": "stream",
     "text": [
      "entropy_subject_ID_leiden_3\n"
     ]
    },
    {
     "data": {
      "text/plain": [
       "2.602398    47429\n",
       "3.395230    28625\n",
       "2.869032    21817\n",
       "2.536152    21416\n",
       "3.306341    15702\n",
       "            ...  \n",
       "1.806492       12\n",
       "2.999577        3\n",
       "0.663401        2\n",
       "3.239688        2\n",
       "2.123527        1\n",
       "Name: entropy_subject_ID_leiden_3, Length: 91, dtype: int64"
      ]
     },
     "metadata": {},
     "output_type": "display_data"
    },
    {
     "name": "stdout",
     "output_type": "stream",
     "text": [
      "fresh_or_frozen\n"
     ]
    },
    {
     "data": {
      "text/plain": [
       "fresh    333468\n",
       "Name: fresh_or_frozen, dtype: int64"
      ]
     },
     "metadata": {},
     "output_type": "display_data"
    },
    {
     "name": "stdout",
     "output_type": "stream",
     "text": [
      "leiden_1\n"
     ]
    },
    {
     "data": {
      "text/plain": [
       "1    188648\n",
       "0     85261\n",
       "2     59559\n",
       "Name: leiden_1, dtype: int64"
      ]
     },
     "metadata": {},
     "output_type": "display_data"
    },
    {
     "name": "stdout",
     "output_type": "stream",
     "text": [
      "leiden_2\n"
     ]
    },
    {
     "data": {
      "text/plain": [
       "1.0    93045\n",
       "0.1    60196\n",
       "1.2    36580\n",
       "1.1    31034\n",
       "2.0    20210\n",
       "1.3    14878\n",
       "2.1    14652\n",
       "0.3    10403\n",
       "2.2     7910\n",
       "0.5     7411\n",
       "2.4     6866\n",
       "0.4     6549\n",
       "2.3     5331\n",
       "1.4     4754\n",
       "1.6     4459\n",
       "2.5     4361\n",
       "1.5     2643\n",
       "1.7     1255\n",
       "0.0      509\n",
       "2.6      229\n",
       "0.2      134\n",
       "0.7       56\n",
       "0.6        3\n",
       "Name: leiden_2, dtype: int64"
      ]
     },
     "metadata": {},
     "output_type": "display_data"
    },
    {
     "name": "stdout",
     "output_type": "stream",
     "text": [
      "leiden_3\n"
     ]
    },
    {
     "data": {
      "text/plain": [
       "1.0.0    47429\n",
       "1.0.1    28625\n",
       "0.1.1    21817\n",
       "0.1.0    21416\n",
       "1.1.1    15702\n",
       "         ...  \n",
       "0.4.3       12\n",
       "0.7.1        3\n",
       "0.2.3        2\n",
       "0.6.2        2\n",
       "0.6.3        1\n",
       "Name: leiden_3, Length: 91, dtype: int64"
      ]
     },
     "metadata": {},
     "output_type": "display_data"
    },
    {
     "name": "stdout",
     "output_type": "stream",
     "text": [
      "leiden_4\n"
     ]
    },
    {
     "data": {
      "text/plain": [
       "1.0.0.0    38306\n",
       "1.0.1.0    21477\n",
       "1.1.1.0    14267\n",
       "1.3.0.0    13693\n",
       "1.1.0.0    11833\n",
       "           ...  \n",
       "0.6.2.0        2\n",
       "0.2.3.1        1\n",
       "0.3.3.2        1\n",
       "0.6.3.1        1\n",
       "0.2.3.0        1\n",
       "Name: leiden_4, Length: 211, dtype: int64"
      ]
     },
     "metadata": {},
     "output_type": "display_data"
    },
    {
     "name": "stdout",
     "output_type": "stream",
     "text": [
      "leiden_5\n"
     ]
    },
    {
     "data": {
      "text/plain": [
       "0.4.1.0.0    2151\n",
       "0.4.1.1.0    1435\n",
       "0.4.1.0.1    1139\n",
       "0.4.1.1.1     643\n",
       "0.4.1.1.2     364\n",
       "1.2.1.2.0     249\n",
       "1.2.1.2.1     232\n",
       "1.2.1.2.2      36\n",
       "0.4.1.0.2      30\n",
       "0.4.1.1.3      14\n",
       "Name: leiden_5, dtype: int64"
      ]
     },
     "metadata": {},
     "output_type": "display_data"
    },
    {
     "name": "stdout",
     "output_type": "stream",
     "text": [
      "log10_total_counts\n"
     ]
    },
    {
     "data": {
      "text/plain": [
       "3.233504    81\n",
       "3.215109    80\n",
       "3.116940    80\n",
       "3.059185    79\n",
       "3.231979    78\n",
       "            ..\n",
       "4.438258     1\n",
       "4.488903     1\n",
       "4.532920     1\n",
       "4.433306     1\n",
       "4.502946     1\n",
       "Name: log10_total_counts, Length: 29720, dtype: int64"
      ]
     },
     "metadata": {},
     "output_type": "display_data"
    },
    {
     "name": "stdout",
     "output_type": "stream",
     "text": [
      "lung_condition\n"
     ]
    },
    {
     "data": {
      "text/plain": [
       "Healthy                     290506\n",
       "Healthy (tumor adjacent)     42962\n",
       "Name: lung_condition, dtype: int64"
      ]
     },
     "metadata": {},
     "output_type": "display_data"
    },
    {
     "name": "stdout",
     "output_type": "stream",
     "text": [
      "mixed_ancestry\n"
     ]
    },
    {
     "data": {
      "text/plain": [
       "american    1991\n",
       "Name: mixed_ancestry, dtype: int64"
      ]
     },
     "metadata": {},
     "output_type": "display_data"
    },
    {
     "name": "stdout",
     "output_type": "stream",
     "text": [
      "n_genes_detected\n"
     ]
    },
    {
     "data": {
      "text/plain": [
       "1070    212\n",
       "741     204\n",
       "1045    203\n",
       "795     202\n",
       "1118    201\n",
       "       ... \n",
       "6296      1\n",
       "6837      1\n",
       "5756      1\n",
       "6717      1\n",
       "7595      1\n",
       "Name: n_genes_detected, Length: 6054, dtype: int64"
      ]
     },
     "metadata": {},
     "output_type": "display_data"
    },
    {
     "name": "stdout",
     "output_type": "stream",
     "text": [
      "original_ann_highest_res\n"
     ]
    },
    {
     "data": {
      "text/plain": [
       "4    177610\n",
       "3    113686\n",
       "2     26442\n",
       "5     11001\n",
       "1      4729\n",
       "Name: original_ann_highest_res, dtype: int64"
      ]
     },
     "metadata": {},
     "output_type": "display_data"
    },
    {
     "name": "stdout",
     "output_type": "stream",
     "text": [
      "original_ann_level_1\n"
     ]
    },
    {
     "data": {
      "text/plain": [
       "Immune                 186135\n",
       "Epithelial              84395\n",
       "Endothelial             40930\n",
       "Stroma                  20196\n",
       "Proliferating cells      1812\n",
       "Name: original_ann_level_1, dtype: int64"
      ]
     },
     "metadata": {},
     "output_type": "display_data"
    },
    {
     "name": "stdout",
     "output_type": "stream",
     "text": [
      "original_ann_level_2\n"
     ]
    },
    {
     "data": {
      "text/plain": [
       "Myeloid                         136596\n",
       "Alveolar epithelium              65304\n",
       "Lymphoid                         49531\n",
       "Blood vessels                    36510\n",
       "Airway epithelium                16820\n",
       "Fibroblast lineage               16462\n",
       "None                              4729\n",
       "Lymphatic EC                      4420\n",
       "Smooth muscle                     2378\n",
       "Submucosal Gland                   382\n",
       "Mesothelium                        328\n",
       "Megakaryocytic and erythroid         8\n",
       "Name: original_ann_level_2, dtype: int64"
      ]
     },
     "metadata": {},
     "output_type": "display_data"
    },
    {
     "name": "stdout",
     "output_type": "stream",
     "text": [
      "original_ann_level_3\n"
     ]
    },
    {
     "data": {
      "text/plain": [
       "Macrophages                99275\n",
       "AT2                        56433\n",
       "None                       31171\n",
       "Monocytes                  25588\n",
       "T cell lineage             23182\n",
       "EC capillary               17714\n",
       "Innate lymphoid cell NK    12446\n",
       "Fibroblasts                11453\n",
       "Multiciliated lineage       9695\n",
       "AT1                         8623\n",
       "Dendritic cells             6764\n",
       "Secretory                   6438\n",
       "EC venous                   6390\n",
       "EC arterial                 5843\n",
       "Mast cells                  4969\n",
       "B cell lineage              3469\n",
       "Myofibroblasts              1843\n",
       "Basal                        673\n",
       "Airway smooth muscle         394\n",
       "Submucosal Secretory         382\n",
       "Bronchial Vessel 1           295\n",
       "Vascular smooth muscle       271\n",
       "Bronchial Vessel 2           107\n",
       "Fibromyocytes                 28\n",
       "KRT5- KRT17+ epithelial       11\n",
       "Megakaryocytes                 8\n",
       "Rare                           3\n",
       "Name: original_ann_level_3, dtype: int64"
      ]
     },
     "metadata": {},
     "output_type": "display_data"
    },
    {
     "name": "stdout",
     "output_type": "stream",
     "text": [
      "original_ann_level_4\n"
     ]
    },
    {
     "data": {
      "text/plain": [
       "None                           144857\n",
       "Alveolar macrophages            59053\n",
       "Macrophages MARCO-              26665\n",
       "CD4 T cells                     14548\n",
       "NK cells                        12088\n",
       "Classical monocytes              9089\n",
       "EC aerocyte capillary            8966\n",
       "Interstitial macrophages         7035\n",
       "Macrophages SPP1 high            5832\n",
       "CD8 T cells                      5665\n",
       "Club                             5211\n",
       "Alveolar fibroblasts             3539\n",
       "Adventitial fibroblasts          3300\n",
       "Multiciliated                    2951\n",
       "AT2 homeostatic                  2602\n",
       "Pericytes                        2265\n",
       "B cells                          2194\n",
       "DC2                              2009\n",
       "DC monocyte                      1993\n",
       "AT2 activated                    1462\n",
       "Transitional AT2                 1406\n",
       "Non-classical monocytes          1131\n",
       "Intermediate monocytes           1094\n",
       "Fibroblasts PLIN2+                952\n",
       "Plasma cells                      897\n",
       "DC1                               853\n",
       "Goblet                            714\n",
       "Subpleural fibroblasts            436\n",
       "Signaling alveolar AT2            434\n",
       "EC venous systemic                433\n",
       "Mph proliferating                 432\n",
       "EC capillary intermediate 1       425\n",
       "SMG mucous                        382\n",
       "EC capillary intermediate 2       324\n",
       "Activated myofibroblasts          312\n",
       "NKT cells                         300\n",
       "Deuterosomal                      272\n",
       "Basal proliferating               207\n",
       "Plasmacytoid DCs                  167\n",
       "Lipofibroblasts                   165\n",
       "TREM2+ Dendritic                  157\n",
       "Fibroblasts WIF1+ CHRM2+          150\n",
       "Regulatory T cells                131\n",
       "EREG+ Dendritic                   111\n",
       "DC activated                       81\n",
       "Suprabasal                         65\n",
       "NKT cells proliferating            58\n",
       "T cells proliferating              46\n",
       "Basal resting                       6\n",
       "Ionocyte                            2\n",
       "Neuroendocrine                      1\n",
       "Name: original_ann_level_4, dtype: int64"
      ]
     },
     "metadata": {},
     "output_type": "display_data"
    },
    {
     "name": "stdout",
     "output_type": "stream",
     "text": [
      "original_ann_level_5\n"
     ]
    },
    {
     "data": {
      "text/plain": [
       "None                             322467\n",
       "Interstitial Mph perivascular      3869\n",
       "CD4 T cells EM                     1889\n",
       "Alveolar Mph activated IFI27       1844\n",
       "CD8 T cells naive                  1123\n",
       "Alveolar Mph CCL3+                  940\n",
       "CD8 T cells EM                      620\n",
       "Alveolar Mph FN1+                   200\n",
       "CD4 T cells naive                   189\n",
       "OLR1+ Classical Monocyte            140\n",
       "NK dividing                         110\n",
       "Interstitial Mph IDO1+               77\n",
       "Name: original_ann_level_5, dtype: int64"
      ]
     },
     "metadata": {},
     "output_type": "display_data"
    },
    {
     "name": "stdout",
     "output_type": "stream",
     "text": [
      "original_ann_nonharmonized\n"
     ]
    },
    {
     "data": {
      "text/plain": [
       "Monocyte-derived macrophage         26665\n",
       "AT2                                 22839\n",
       "Alveolar epithelial type 2 cells    18859\n",
       "vAM                                 13603\n",
       "Alveolar macrophages                12783\n",
       "                                    ...  \n",
       "Proximal Basal                          4\n",
       "Basal 1                                 2\n",
       "Ciliated 2                              2\n",
       "Ionocyte                                2\n",
       "Neuroendocrine                          1\n",
       "Name: original_ann_nonharmonized, Length: 240, dtype: int64"
      ]
     },
     "metadata": {},
     "output_type": "display_data"
    },
    {
     "name": "stdout",
     "output_type": "stream",
     "text": [
      "reannotation_type\n"
     ]
    },
    {
     "data": {
      "text/plain": [
       "Correctly annotated    169655\n",
       "Misannotated            89452\n",
       "Underannotated          74361\n",
       "Name: reannotation_type, dtype: int64"
      ]
     },
     "metadata": {},
     "output_type": "display_data"
    },
    {
     "name": "stdout",
     "output_type": "stream",
     "text": [
      "reference_genome\n"
     ]
    },
    {
     "data": {
      "text/plain": [
       "Homo_sapiens.GRCh38.84    309287\n",
       "Homo_sapiens.GRCh38.93     24181\n",
       "Name: reference_genome, dtype: int64"
      ]
     },
     "metadata": {},
     "output_type": "display_data"
    },
    {
     "name": "stdout",
     "output_type": "stream",
     "text": [
      "sample\n"
     ]
    },
    {
     "data": {
      "text/plain": [
       "SC144       23032\n",
       "distal 2    18541\n",
       "distal 3    16898\n",
       "VUHD67      10093\n",
       "F02617       9395\n",
       "            ...  \n",
       "F01494        142\n",
       "F02609        140\n",
       "F01495        136\n",
       "F01506         47\n",
       "F01869          8\n",
       "Name: sample, Length: 90, dtype: int64"
      ]
     },
     "metadata": {},
     "output_type": "display_data"
    },
    {
     "name": "stdout",
     "output_type": "stream",
     "text": [
      "scanvi_label\n"
     ]
    },
    {
     "data": {
      "text/plain": [
       "Macrophages                99275\n",
       "AT2                        56433\n",
       "Monocytes                  25588\n",
       "T cell lineage             23182\n",
       "unlabeled                  19760\n",
       "Capillary                  17714\n",
       "Fibroblast lineage         16462\n",
       "Non-T/B cells              12446\n",
       "Ciliated                    9695\n",
       "AT1                         8623\n",
       "Dendritic cells             6764\n",
       "Secretory                   6438\n",
       "Venous                      6390\n",
       "Arterial EC                 5843\n",
       "Mast cells                  4969\n",
       "Lymphatic EC                4420\n",
       "B cell lineage              3469\n",
       "Smooth Muscle               2378\n",
       "Proliferating cells         1812\n",
       "Basal                        673\n",
       "Submucosal Secretory         382\n",
       "Mesothelium                  328\n",
       "Bronchial Vessel 1           295\n",
       "Bronchial Vessel 2           107\n",
       "KRT5- KRT17+ epithelial       11\n",
       "Megakaryocytes                 8\n",
       "Rare                           3\n",
       "Name: scanvi_label, dtype: int64"
      ]
     },
     "metadata": {},
     "output_type": "display_data"
    },
    {
     "name": "stdout",
     "output_type": "stream",
     "text": [
      "sequencing_platform\n"
     ]
    },
    {
     "data": {
      "text/plain": [
       "Illumina HiSeq 4000         107617\n",
       "Illumina NovaSeq 6000        79776\n",
       "Illumina NovaSeq 6000 S4     57225\n",
       "Illumina NovaSeq 6000 S1     41001\n",
       "Illumina NextSeq 500         24181\n",
       "Illumina NovaSeq 6000 S2     21371\n",
       "Illumina NovaSeq 6000 SP      1920\n",
       "Name: sequencing_platform, dtype: int64"
      ]
     },
     "metadata": {},
     "output_type": "display_data"
    },
    {
     "name": "stdout",
     "output_type": "stream",
     "text": [
      "size_factors\n"
     ]
    },
    {
     "data": {
      "text/plain": [
       "0.998238    1\n",
       "0.174875    1\n",
       "1.420922    1\n",
       "0.379712    1\n",
       "1.637077    1\n",
       "           ..\n",
       "0.205388    1\n",
       "0.191474    1\n",
       "2.371195    1\n",
       "1.515212    1\n",
       "1.401193    1\n",
       "Name: size_factors, Length: 333468, dtype: int64"
      ]
     },
     "metadata": {},
     "output_type": "display_data"
    },
    {
     "name": "stdout",
     "output_type": "stream",
     "text": [
      "smoking_status\n"
     ]
    },
    {
     "data": {
      "text/plain": [
       "never     151184\n",
       "active     72813\n",
       "former     50841\n",
       "Name: smoking_status, dtype: int64"
      ]
     },
     "metadata": {},
     "output_type": "display_data"
    },
    {
     "name": "stdout",
     "output_type": "stream",
     "text": [
      "study\n"
     ]
    },
    {
     "data": {
      "text/plain": [
       "Banovich_Kropski_2020     121894\n",
       "Misharin_2021              55426\n",
       "Krasnow_2020               42962\n",
       "Misharin_Budinger_2018     41220\n",
       "Meyer_2019                 35554\n",
       "Lafyatis_Rojas_2019        24181\n",
       "Teichmann_Meyer_2019       12231\n",
       "Name: study, dtype: int64"
      ]
     },
     "metadata": {},
     "output_type": "display_data"
    },
    {
     "name": "stdout",
     "output_type": "stream",
     "text": [
      "subject_type\n"
     ]
    },
    {
     "data": {
      "text/plain": [
       "organ_donor      290506\n",
       "alive_disease     42962\n",
       "Name: subject_type, dtype: int64"
      ]
     },
     "metadata": {},
     "output_type": "display_data"
    },
    {
     "name": "stdout",
     "output_type": "stream",
     "text": [
      "tissue_dissociation_protocol\n"
     ]
    },
    {
     "data": {
      "text/plain": [
       "Collagenase D + DNAse             144431\n",
       "Dispase + collagenase             121894\n",
       "Collagenase + Elastase + DNAse     42962\n",
       "Collagenase A + DNAse              24181\n",
       "Name: tissue_dissociation_protocol, dtype: int64"
      ]
     },
     "metadata": {},
     "output_type": "display_data"
    },
    {
     "name": "stdout",
     "output_type": "stream",
     "text": [
      "tissue_level_2\n"
     ]
    },
    {
     "data": {
      "text/plain": [
       "parenchyma lower lobe           118634\n",
       "parenchyma upper lobe            61735\n",
       "parenchyma right middle lobe     18541\n",
       "Name: tissue_level_2, dtype: int64"
      ]
     },
     "metadata": {},
     "output_type": "display_data"
    },
    {
     "name": "stdout",
     "output_type": "stream",
     "text": [
      "tissue_level_3\n"
     ]
    },
    {
     "data": {
      "text/plain": [
       "parenchyma left lower lobe     65053\n",
       "parenchyma right upper lobe    29677\n",
       "parenchyma left upper lobe     26135\n",
       "parenchyma right lower lobe     8112\n",
       "Name: tissue_level_3, dtype: int64"
      ]
     },
     "metadata": {},
     "output_type": "display_data"
    },
    {
     "name": "stdout",
     "output_type": "stream",
     "text": [
      "tissue_sampling_method\n"
     ]
    },
    {
     "data": {
      "text/plain": [
       "donor_lung            290506\n",
       "surgical_resection     42962\n",
       "Name: tissue_sampling_method, dtype: int64"
      ]
     },
     "metadata": {},
     "output_type": "display_data"
    },
    {
     "name": "stdout",
     "output_type": "stream",
     "text": [
      "tissue_type\n"
     ]
    },
    {
     "data": {
      "text/plain": [
       "tissue    333468\n",
       "Name: tissue_type, dtype: int64"
      ]
     },
     "metadata": {},
     "output_type": "display_data"
    },
    {
     "name": "stdout",
     "output_type": "stream",
     "text": [
      "cell_type\n"
     ]
    },
    {
     "data": {
      "text/plain": [
       "alveolar macrophage                                73414\n",
       "type II pneumocyte                                 60424\n",
       "elicited macrophage                                26057\n",
       "capillary endothelial cell                         20210\n",
       "CD4-positive, alpha-beta T cell                    15702\n",
       "classical monocyte                                 15454\n",
       "CD8-positive, alpha-beta T cell                    14932\n",
       "natural killer cell                                14878\n",
       "ciliated columnar cell of tracheobronchial tree    10180\n",
       "alveolar type 2 fibroblast cell                     9739\n",
       "non-classical monocyte                              8415\n",
       "vein endothelial cell                               7910\n",
       "type I pneumocyte                                   7411\n",
       "pulmonary artery endothelial cell                   6866\n",
       "CD1c-positive myeloid dendritic cell                5623\n",
       "mast cell                                           4754\n",
       "lung macrophage                                     4604\n",
       "endothelial cell of lymphatic vessel                4361\n",
       "alveolar type 1 fibroblast cell                     4349\n",
       "epithelial cell of lower respiratory tract          3964\n",
       "B cell                                              2415\n",
       "lung pericyte                                       2248\n",
       "tracheobronchial smooth muscle cell                 1939\n",
       "plasma cell                                         1255\n",
       "epithelial cell of alveolus of lung                 1169\n",
       "club cell                                            989\n",
       "respiratory basal cell                               624\n",
       "myofibroblast cell                                   600\n",
       "smooth muscle cell                                   487\n",
       "T cell                                               400\n",
       "bronchus fibroblast of lung                          288\n",
       "fibroblast                                           276\n",
       "dendritic cell                                       268\n",
       "conventional dendritic cell                          249\n",
       "mesothelial cell                                     229\n",
       "multi-ciliated epithelial cell                       223\n",
       "plasmacytoid dendritic cell                          171\n",
       "nasal mucosa goblet cell                             114\n",
       "bronchial goblet cell                                 75\n",
       "hematopoietic stem cell                               57\n",
       "stromal cell                                          57\n",
       "ionocyte                                              34\n",
       "lung neuroendocrine cell                              19\n",
       "respiratory hillock cell                              17\n",
       "tracheobronchial goblet cell                          12\n",
       "brush cell of trachebronchial tree                     3\n",
       "acinar cell                                            2\n",
       "mucus secreting cell                                   1\n",
       "Name: cell_type, dtype: int64"
      ]
     },
     "metadata": {},
     "output_type": "display_data"
    },
    {
     "name": "stdout",
     "output_type": "stream",
     "text": [
      "assay\n"
     ]
    },
    {
     "data": {
      "text/plain": [
       "10x 3' v2    153227\n",
       "10x 5' v1    117948\n",
       "10x 3' v3     55426\n",
       "10x 5' v2      3946\n",
       "10x 3' v1      2921\n",
       "Name: assay, dtype: int64"
      ]
     },
     "metadata": {},
     "output_type": "display_data"
    },
    {
     "name": "stdout",
     "output_type": "stream",
     "text": [
      "disease\n"
     ]
    },
    {
     "data": {
      "text/plain": [
       "normal    333468\n",
       "Name: disease, dtype: int64"
      ]
     },
     "metadata": {},
     "output_type": "display_data"
    },
    {
     "name": "stdout",
     "output_type": "stream",
     "text": [
      "organism\n"
     ]
    },
    {
     "data": {
      "text/plain": [
       "Homo sapiens    333468\n",
       "Name: organism, dtype: int64"
      ]
     },
     "metadata": {},
     "output_type": "display_data"
    },
    {
     "name": "stdout",
     "output_type": "stream",
     "text": [
      "sex\n"
     ]
    },
    {
     "data": {
      "text/plain": [
       "male      209812\n",
       "female    123656\n",
       "Name: sex, dtype: int64"
      ]
     },
     "metadata": {},
     "output_type": "display_data"
    },
    {
     "name": "stdout",
     "output_type": "stream",
     "text": [
      "tissue\n"
     ]
    },
    {
     "data": {
      "text/plain": [
       "lung parenchyma    333468\n",
       "Name: tissue, dtype: int64"
      ]
     },
     "metadata": {},
     "output_type": "display_data"
    },
    {
     "name": "stdout",
     "output_type": "stream",
     "text": [
      "self_reported_ethnicity\n"
     ]
    },
    {
     "data": {
      "text/plain": [
       "European    203489\n",
       "unknown      69051\n",
       "African      55644\n",
       "Asian         4536\n",
       "American       748\n",
       "Name: self_reported_ethnicity, dtype: int64"
      ]
     },
     "metadata": {},
     "output_type": "display_data"
    },
    {
     "name": "stdout",
     "output_type": "stream",
     "text": [
      "development_stage\n"
     ]
    },
    {
     "data": {
      "text/plain": [
       "25-year-old human stage       40957\n",
       "55-year-old human stage       22494\n",
       "52-year-old human stage       18612\n",
       "46-year-old human stage       18541\n",
       "fifth decade human stage      16899\n",
       "51-year-old human stage       16898\n",
       "seventh decade human stage    16719\n",
       "49-year-old human stage       14613\n",
       "57-year-old human stage       13796\n",
       "30-year-old human stage       13533\n",
       "29-year-old human stage       11743\n",
       "sixth decade human stage      10396\n",
       "23-year-old human stage       10172\n",
       "64-year-old human stage        9480\n",
       "34-year-old human stage        9134\n",
       "47-year-old human stage        8016\n",
       "41-year-old human stage        7850\n",
       "75-year-old human stage        7523\n",
       "62-year-old human stage        7286\n",
       "38-year-old human stage        5972\n",
       "63-year-old human stage        5390\n",
       "21-year-old human stage        4880\n",
       "53-year-old human stage        4592\n",
       "59-year-old human stage        4516\n",
       "69-year-old human stage        4305\n",
       "22-year-old human stage        4241\n",
       "54-year-old human stage        4061\n",
       "fourth decade human stage      3771\n",
       "18-year-old human stage        3272\n",
       "36-year-old human stage        2542\n",
       "56-year-old human stage        2217\n",
       "40-year-old human stage        1739\n",
       "58-year-old human stage        1605\n",
       "42-year-old human stage        1411\n",
       "35-year-old human stage        1296\n",
       "31-year-old human stage        1208\n",
       "76-year-old human stage         704\n",
       "71-year-old human stage         601\n",
       "27-year-old human stage         436\n",
       "15-year-old human stage          47\n",
       "Name: development_stage, dtype: int64"
      ]
     },
     "metadata": {},
     "output_type": "display_data"
    },
    {
     "name": "stdout",
     "output_type": "stream",
     "text": [
      "observation_joinid\n"
     ]
    },
    {
     "data": {
      "text/plain": [
       "y3(xbM64-M    1\n",
       "G)I{q)Q#Gh    1\n",
       "&6(PYbK@0X    1\n",
       "i!H*5!MuNH    1\n",
       "9#BM>mns#;    1\n",
       "             ..\n",
       "Q@Gd=&NAUw    1\n",
       "nN5bBbacnD    1\n",
       "rukkl6&4Bu    1\n",
       "OmqF5%LwOs    1\n",
       "7#E>)wqFoi    1\n",
       "Name: observation_joinid, Length: 333468, dtype: int64"
      ]
     },
     "metadata": {},
     "output_type": "display_data"
    }
   ],
   "source": [
    "for c in data.obs.columns:\n",
    "    print(c)\n",
    "    display(data.obs[c].value_counts())"
   ]
  },
  {
   "cell_type": "code",
   "execution_count": 6,
   "id": "aa33dc95",
   "metadata": {
    "ExecuteTime": {
     "end_time": "2024-01-19T23:26:02.681668Z",
     "start_time": "2024-01-19T23:26:02.663369Z"
    }
   },
   "outputs": [
    {
     "data": {
      "text/plain": [
       "alveolar macrophage                                73414\n",
       "type II pneumocyte                                 60424\n",
       "elicited macrophage                                26057\n",
       "capillary endothelial cell                         20210\n",
       "CD4-positive, alpha-beta T cell                    15702\n",
       "classical monocyte                                 15454\n",
       "CD8-positive, alpha-beta T cell                    14932\n",
       "natural killer cell                                14878\n",
       "ciliated columnar cell of tracheobronchial tree    10180\n",
       "alveolar type 2 fibroblast cell                     9739\n",
       "non-classical monocyte                              8415\n",
       "vein endothelial cell                               7910\n",
       "type I pneumocyte                                   7411\n",
       "pulmonary artery endothelial cell                   6866\n",
       "CD1c-positive myeloid dendritic cell                5623\n",
       "mast cell                                           4754\n",
       "lung macrophage                                     4604\n",
       "endothelial cell of lymphatic vessel                4361\n",
       "alveolar type 1 fibroblast cell                     4349\n",
       "epithelial cell of lower respiratory tract          3964\n",
       "B cell                                              2415\n",
       "lung pericyte                                       2248\n",
       "tracheobronchial smooth muscle cell                 1939\n",
       "plasma cell                                         1255\n",
       "epithelial cell of alveolus of lung                 1169\n",
       "club cell                                            989\n",
       "respiratory basal cell                               624\n",
       "myofibroblast cell                                   600\n",
       "smooth muscle cell                                   487\n",
       "T cell                                               400\n",
       "bronchus fibroblast of lung                          288\n",
       "fibroblast                                           276\n",
       "dendritic cell                                       268\n",
       "conventional dendritic cell                          249\n",
       "mesothelial cell                                     229\n",
       "multi-ciliated epithelial cell                       223\n",
       "plasmacytoid dendritic cell                          171\n",
       "nasal mucosa goblet cell                             114\n",
       "bronchial goblet cell                                 75\n",
       "hematopoietic stem cell                               57\n",
       "stromal cell                                          57\n",
       "ionocyte                                              34\n",
       "lung neuroendocrine cell                              19\n",
       "respiratory hillock cell                              17\n",
       "tracheobronchial goblet cell                          12\n",
       "brush cell of trachebronchial tree                     3\n",
       "acinar cell                                            2\n",
       "mucus secreting cell                                   1\n",
       "Name: cell_type, dtype: int64"
      ]
     },
     "execution_count": 6,
     "metadata": {},
     "output_type": "execute_result"
    }
   ],
   "source": [
    "data.obs.cell_type.value_counts()"
   ]
  },
  {
   "cell_type": "code",
   "execution_count": 30,
   "id": "741ecb26",
   "metadata": {
    "ExecuteTime": {
     "end_time": "2024-01-19T23:14:18.601138Z",
     "start_time": "2024-01-19T23:14:18.154966Z"
    }
   },
   "outputs": [
    {
     "data": {
      "image/png": "[encoded data removed]",
      "text/plain": [
       "<Figure size 640x480 with 1 Axes>"
      ]
     },
     "metadata": {},
     "output_type": "display_data"
    }
   ],
   "source": [
    "plt.hist([np.log10(x) for x in data.var[\"gene_count\"]])\n",
    "plt.xlabel(\"sum of gene count (log 10)\")\n",
    "plt.ylabel(\"frequency\")\n",
    "plt.show()"
   ]
  },
  {
   "cell_type": "code",
   "execution_count": 11,
   "id": "a88ba6c2",
   "metadata": {
    "ExecuteTime": {
     "end_time": "2024-01-19T23:30:34.172268Z",
     "start_time": "2024-01-19T23:30:31.206353Z"
    }
   },
   "outputs": [
    {
     "name": "stderr",
     "output_type": "stream",
     "text": [
      "/tmp/ipykernel_10037/329391505.py:5: ImplicitModificationWarning: Trying to modify attribute `.var` of view, initializing view as actual.\n",
      "  data.var[\"gene_count\"] = data.X.sum(axis=0).tolist()[0]\n"
     ]
    },
    {
     "name": "stdout",
     "output_type": "stream",
     "text": [
      "(1036, 6)\n"
     ]
    },
    {
     "data": {
      "text/plain": [
       "CD4-positive, alpha-beta T cell    15702\n",
       "CD8-positive, alpha-beta T cell    14932\n",
       "Name: cell_type, dtype: int64"
      ]
     },
     "metadata": {},
     "output_type": "display_data"
    }
   ],
   "source": [
    "cell_types = [\"CD4-positive, alpha-beta T cell\",\"CD8-positive, alpha-beta T cell\"]\n",
    "cutoff = 1000\n",
    "\n",
    "\n",
    "\n",
    "print(data.var.shape)\n",
    "\n",
    "# subset to only two most common cell types\n",
    "display(data.obs.cell_type.value_counts().head())\n",
    "data = data[data.obs.cell_type.isin(cell_types)]\n",
    "\n",
    "# subset to only genes with at least 1000 count across these cells\n",
    "data.var[\"gene_count\"] = data.X.sum(axis=0).tolist()[0]\n",
    "data = data[:,data.var.gene_count > cutoff]"
   ]
  },
  {
   "cell_type": "code",
   "execution_count": 12,
   "id": "b679f944",
   "metadata": {
    "ExecuteTime": {
     "end_time": "2024-01-19T23:30:42.253759Z",
     "start_time": "2024-01-19T23:30:42.241580Z"
    }
   },
   "outputs": [
    {
     "data": {
      "text/plain": [
       "'_10000_CD4-positive-alpha-beta-T-cell_CD8-positive-alpha-beta-T-cell'"
      ]
     },
     "execution_count": 12,
     "metadata": {},
     "output_type": "execute_result"
    }
   ],
   "source": [
    "type_suff = \"_{}\".format(cutoff)\n",
    "for x in cell_types:\n",
    "    type_suff += \"_\" + x.replace(\" \", \"-\").replace(\",\",\"\")\n",
    "type_suff"
   ]
  },
  {
   "cell_type": "code",
   "execution_count": 13,
   "id": "3ff1e4ee",
   "metadata": {
    "ExecuteTime": {
     "end_time": "2024-01-19T23:30:43.936889Z",
     "start_time": "2024-01-19T23:30:43.913426Z"
    }
   },
   "outputs": [],
   "source": [
    "# save metadata for genes\n",
    "data.var.to_csv(\"{}{}{}_genes.csv\".format(outpath, dataname, type_suff))"
   ]
  },
  {
   "cell_type": "code",
   "execution_count": 14,
   "id": "b196828f",
   "metadata": {
    "ExecuteTime": {
     "end_time": "2024-01-19T23:32:53.648365Z",
     "start_time": "2024-01-19T23:30:47.212798Z"
    }
   },
   "outputs": [],
   "source": [
    "# create pandas dataframe with just the selected data and save it\n",
    "df = pd.DataFrame.sparse.from_spmatrix(data.X, columns=data.var[\"feature_name\"], index=data.obs.index)\n",
    "df.to_csv(\"{}{}{}_data.csv\".format(outpath, dataname, type_suff))"
   ]
  },
  {
   "cell_type": "code",
   "execution_count": null,
   "id": "8a24d4a4",
   "metadata": {},
   "outputs": [],
   "source": []
  }
 ],
 "metadata": {
  "kernelspec": {
   "display_name": "Python 3 (ipykernel)",
   "language": "python",
   "name": "python3"
  },
  "language_info": {
   "codemirror_mode": {
    "name": "ipython",
    "version": 3
   },
   "file_extension": ".py",
   "mimetype": "text/x-python",
   "name": "python",
   "nbconvert_exporter": "python",
   "pygments_lexer": "ipython3",
   "version": "3.9.13"
  }
 },
 "nbformat": 4,
 "nbformat_minor": 5
}
