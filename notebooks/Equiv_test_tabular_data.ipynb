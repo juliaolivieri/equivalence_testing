{
 "cells": [
  {
   "cell_type": "code",
   "execution_count": 2,
   "id": "8451abfa",
   "metadata": {
    "ExecuteTime": {
     "end_time": "2024-01-23T18:09:06.427055Z",
     "start_time": "2024-01-23T18:09:03.982697Z"
    }
   },
   "outputs": [],
   "source": [
    "import matplotlib.pyplot as plt\n",
    "import numpy as np\n",
    "import pandas as pd\n",
    "import scipy.stats as stats"
   ]
  },
  {
   "cell_type": "markdown",
   "id": "013efd86",
   "metadata": {},
   "source": [
    "Input:\n",
    "* For a given gene, sets of observations from different populations\n",
    "* Delta value\n",
    "\n",
    "Output:\n",
    "* P value from two-sample t test for difference in means\n",
    "* P value for equivalence testing procedure"
   ]
  },
  {
   "cell_type": "code",
   "execution_count": 7,
   "id": "9cc34189",
   "metadata": {
    "ExecuteTime": {
     "end_time": "2024-01-23T18:15:11.780698Z",
     "start_time": "2024-01-23T18:15:11.758719Z"
    }
   },
   "outputs": [],
   "source": [
    "def perform_t_tests(group1_vals, group2_vals, delta):\n",
    "    mean1 = np.mean(group1_vals)\n",
    "    mean2 = np.mean(group2_vals)\n",
    "    \n",
    "    # perform standard t-test (testing for difference)\n",
    "    # consider switching to Welch's t-test (current assumes equal variances)\n",
    "    diff_pval = stats.ttest_ind(a=group1_vals, b = group2_vals).pvalue\n",
    "\n",
    "    # get t statistics for equivalence test\n",
    "    # (X1 - X2 - delta)/sqrt(s1^2/n1 + s2^2/n2)\n",
    "    t1 = (np.mean(group1_vals) - np.mean(group2_vals) - delta)/np.sqrt(np.var(group1_vals)/len(group1_vals)+np.var(group2_vals)/len(group2_vals))\n",
    "\n",
    "    # (X1 - X2 + delta)/sqrt(s1^2/n1 + s2^2/n2)\n",
    "    t2 = (np.mean(group1_vals) - np.mean(group2_vals) + delta)/np.sqrt(np.var(group1_vals)/len(group1_vals)+np.var(group2_vals)/len(group2_vals))\n",
    "\n",
    "    # find degrees of freedom (n1 + n2 - 1)\n",
    "    df = len(group1_vals) + len(group2_vals)\n",
    "\n",
    "    # find p value for t1 (less than)\n",
    "    p1 = stats.t.cdf(t1, df)\n",
    "\n",
    "    # find p value for t2 (greater than)\n",
    "    # sf is survival function: 1 - cdf\n",
    "    p2 = stats.t.sf(t2, df)\n",
    "\n",
    "    equiv_pval = np.max([p1, p2])\n",
    "    print(\"diff pvalue: {}\\nequiv pvalue: {}\".format(diff_pval, equiv_pval))\n",
    "    return diff_pval, equiv_pval\n",
    "\n",
    "def plot_groups(group1_vals, group2_vals):\n",
    "    mean1 = np.mean(group1_vals)\n",
    "    mean2 = np.mean(group2_vals)\n",
    "    plt.hist(group1_vals,alpha=0.4, color=u'#1f77b4')\n",
    "    plt.axvline(x=mean1, color=u'#1f77b4',linestyle=\"--\")\n",
    "    plt.hist(group2_vals,alpha = 0.4, color = u'#ff7f0e')\n",
    "    plt.axvline(x=mean2, color=u'#ff7f0e',linestyle=\"--\")\n",
    "    # plt.axvline(x=np.mean(group2_vals), color=\"black\")\n",
    "    plt.title(\"difference in means: {:.3f}\".format(mean1 - mean2))\n",
    "    plt.show()"
   ]
  },
  {
   "cell_type": "code",
   "execution_count": 2,
   "id": "ba4f3437",
   "metadata": {
    "ExecuteTime": {
     "end_time": "2024-01-22T22:20:48.985972Z",
     "start_time": "2024-01-22T22:20:48.976373Z"
    }
   },
   "outputs": [],
   "source": [
    "group1_vals = [10,11,13,9]\n",
    "group2_vals = [7, 9, 3, 10, 11, 12, 10]\n",
    "delta = 2\n",
    "\n"
   ]
  },
  {
   "cell_type": "code",
   "execution_count": 6,
   "id": "7726eee3",
   "metadata": {
    "ExecuteTime": {
     "end_time": "2024-01-22T22:21:52.199342Z",
     "start_time": "2024-01-22T22:21:51.856755Z"
    }
   },
   "outputs": [
    {
     "data": {
      "image/png": "[encoded data removed]",
      "text/plain": [
       "<Figure size 640x480 with 1 Axes>"
      ]
     },
     "metadata": {},
     "output_type": "display_data"
    }
   ],
   "source": [
    "plt.hist(group1_vals,alpha=0.4, color=u'#1f77b4')\n",
    "plt.axvline(x=mean1, color=u'#1f77b4',linestyle=\"--\")\n",
    "plt.hist(group2_vals, alpha = 0.4, color = u'#ff7f0e')\n",
    "plt.axvline(x=mean2, color=u'#ff7f0e',linestyle=\"--\")\n",
    "# plt.axvline(x=np.mean(group2_vals), color=\"black\")\n",
    "plt.title(\"difference in means: {:.3f}\".format(mean1 - mean2))\n",
    "plt.show()"
   ]
  },
  {
   "cell_type": "code",
   "execution_count": null,
   "id": "b461e634",
   "metadata": {},
   "outputs": [],
   "source": []
  }
 ],
 "metadata": {
  "kernelspec": {
   "display_name": "Python 3 (ipykernel)",
   "language": "python",
   "name": "python3"
  },
  "language_info": {
   "codemirror_mode": {
    "name": "ipython",
    "version": 3
   },
   "file_extension": ".py",
   "mimetype": "text/x-python",
   "name": "python",
   "nbconvert_exporter": "python",
   "pygments_lexer": "ipython3",
   "version": "3.9.13"
  }
 },
 "nbformat": 4,
 "nbformat_minor": 5
}
