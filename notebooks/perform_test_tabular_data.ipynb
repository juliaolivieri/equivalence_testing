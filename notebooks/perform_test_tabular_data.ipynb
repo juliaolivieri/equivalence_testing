{
 "cells": [
  {
   "cell_type": "code",
   "execution_count": 13,
   "id": "7c5ac5a0",
   "metadata": {
    "ExecuteTime": {
     "end_time": "2024-01-28T20:27:50.833787Z",
     "start_time": "2024-01-28T20:27:50.825665Z"
    }
   },
   "outputs": [],
   "source": [
    "import matplotlib.pyplot as plt\n",
    "import numpy as np\n",
    "import pandas as pd\n",
    "import scipy.stats as stats\n",
    "import statsmodels.stats.multitest as multitest\n",
    "import tqdm"
   ]
  },
  {
   "cell_type": "code",
   "execution_count": 14,
   "id": "fc7ab721",
   "metadata": {
    "ExecuteTime": {
     "end_time": "2024-01-28T20:27:51.776878Z",
     "start_time": "2024-01-28T20:27:51.755489Z"
    }
   },
   "outputs": [],
   "source": [
    "def perform_t_tests(group1_vals, group2_vals, delta):\n",
    "    mean1 = np.mean(group1_vals)\n",
    "    mean2 = np.mean(group2_vals)\n",
    "    \n",
    "    # perform standard t-test (testing for difference)\n",
    "    # consider switching to Welch's t-test (current assumes equal variances)\n",
    "    diff_pval = stats.ttest_ind(a=group1_vals, b = group2_vals).pvalue\n",
    "\n",
    "    # get t statistics for equivalence test\n",
    "    # (X1 - X2 - delta)/sqrt(s1^2/n1 + s2^2/n2)\n",
    "    t1 = (np.mean(group1_vals) - np.mean(group2_vals) - delta)/np.sqrt(np.var(group1_vals)/len(group1_vals)+np.var(group2_vals)/len(group2_vals))\n",
    "\n",
    "    # (X1 - X2 + delta)/sqrt(s1^2/n1 + s2^2/n2)\n",
    "    t2 = (np.mean(group1_vals) - np.mean(group2_vals) + delta)/np.sqrt(np.var(group1_vals)/len(group1_vals)+np.var(group2_vals)/len(group2_vals))\n",
    "\n",
    "    # find degrees of freedom (n1 + n2 - 1)\n",
    "    df = len(group1_vals) + len(group2_vals)\n",
    "\n",
    "    # find p value for t1 (less than)\n",
    "    p1 = stats.t.cdf(t1, df)\n",
    "\n",
    "    # find p value for t2 (greater than)\n",
    "    # sf is survival function: 1 - cdf\n",
    "    p2 = stats.t.sf(t2, df)\n",
    "\n",
    "    equiv_pval = np.max([p1, p2])\n",
    "    print(\"diff pvalue: {}\\nequiv pvalue: {}\".format(diff_pval, equiv_pval))\n",
    "    return diff_pval, equiv_pval\n",
    "\n",
    "def plot_groups(group1_vals, group2_vals):\n",
    "    mean1 = np.mean(group1_vals)\n",
    "    mean2 = np.mean(group2_vals)\n",
    "    plt.hist(group1_vals,alpha=0.4, color=u'#1f77b4')\n",
    "    plt.axvline(x=mean1, color=u'#1f77b4',linestyle=\"--\")\n",
    "    plt.hist(group2_vals,alpha = 0.4, color = u'#ff7f0e')\n",
    "    plt.axvline(x=mean2, color=u'#ff7f0e',linestyle=\"--\")\n",
    "    # plt.axvline(x=np.mean(group2_vals), color=\"black\")\n",
    "    plt.title(\"difference in means: {:.3f}\".format(mean1 - mean2))\n",
    "    plt.show()"
   ]
  },
  {
   "cell_type": "code",
   "execution_count": 37,
   "id": "4901539b",
   "metadata": {
    "ExecuteTime": {
     "end_time": "2024-01-28T20:33:50.044111Z",
     "start_time": "2024-01-28T20:33:49.998919Z"
    }
   },
   "outputs": [],
   "source": [
    "dataname = \"HLCA_normal_1000_CD4-positive-alpha-beta-T-cell_CD8-positive-alpha-beta-T-cell\"\n",
    "# dataname = \"HLCA_normal_1000_classical-monocyte_non-classical-monocyte\"\n",
    "csv_path = \"/exports/home/jolivieri/equivalence_testing/notebooks/output/sample_tabular_data/{}_1000_100.csv\".format(dataname)\n",
    "df = pd.read_csv(csv_path, index_col = 0)"
   ]
  },
  {
   "cell_type": "code",
   "execution_count": 38,
   "id": "bf595b09",
   "metadata": {
    "ExecuteTime": {
     "end_time": "2024-01-28T20:33:50.671329Z",
     "start_time": "2024-01-28T20:33:50.276801Z"
    },
    "scrolled": true
   },
   "outputs": [
    {
     "name": "stderr",
     "output_type": "stream",
     "text": [
      " 53%|█████▎    | 53/100 [00:00<00:00, 268.11it/s]"
     ]
    },
    {
     "name": "stdout",
     "output_type": "stream",
     "text": [
      "diff pvalue: 0.9581135871456463\n",
      "equiv pvalue: 0.0006557922529942498\n",
      "diff pvalue: 0.41324570096030655\n",
      "equiv pvalue: 0.24469555247303848\n",
      "diff pvalue: 0.5442822344976448\n",
      "equiv pvalue: 0.1939828087495858\n",
      "diff pvalue: 0.033776782316633266\n",
      "equiv pvalue: 0.8771252839883065\n",
      "diff pvalue: 0.9572965827111757\n",
      "equiv pvalue: 0.00010265018122303978\n",
      "diff pvalue: 0.10057789614411865\n",
      "equiv pvalue: 0.27525764899920724\n",
      "diff pvalue: 0.1667936037317629\n",
      "equiv pvalue: 0.3267502561370442\n",
      "diff pvalue: 0.14901840660006932\n",
      "equiv pvalue: 0.10592770800024078\n",
      "diff pvalue: 0.06659661972496733\n",
      "equiv pvalue: 0.2991707506161866\n",
      "diff pvalue: 0.8910036660534792\n",
      "equiv pvalue: 0.00030066239299817815\n",
      "diff pvalue: 0.6304633422642887\n",
      "equiv pvalue: 0.022213796802031453\n",
      "diff pvalue: 0.19715063859288584\n",
      "equiv pvalue: 0.3107543381384595\n",
      "diff pvalue: 0.9996224892729254\n",
      "equiv pvalue: 0.04123021313660187\n",
      "diff pvalue: 0.3830591901651089\n",
      "equiv pvalue: 0.44169822565521444\n",
      "diff pvalue: 0.10466814043102728\n",
      "equiv pvalue: 0.4715820541979576\n",
      "diff pvalue: 0.1815990460193468\n",
      "equiv pvalue: 0.08036931037616964\n",
      "diff pvalue: 0.6327711418121407\n",
      "equiv pvalue: 0.07346751641111605\n",
      "diff pvalue: 0.3477063477620622\n",
      "equiv pvalue: 0.2298443855506649\n",
      "diff pvalue: 0.08013706986013458\n",
      "equiv pvalue: 0.26908395525160456\n",
      "diff pvalue: 2.1573649659153484e-05\n",
      "equiv pvalue: 0.9986939942714116\n",
      "diff pvalue: 0.21501490719037672\n",
      "equiv pvalue: 0.01203507564408796\n",
      "diff pvalue: 0.6083095682653209\n",
      "equiv pvalue: 0.01282258104147522\n",
      "diff pvalue: 0.3690652907473938\n",
      "equiv pvalue: 0.2726774487836177\n",
      "diff pvalue: 0.07206145024053959\n",
      "equiv pvalue: 0.11815899581530798\n",
      "diff pvalue: 0.4674421665418885\n",
      "equiv pvalue: 0.014195738999475847\n",
      "diff pvalue: 0.07096077239648767\n",
      "equiv pvalue: 0.17400783922628693\n",
      "diff pvalue: 0.6427527095699064\n",
      "equiv pvalue: 0.004015987469288737\n",
      "diff pvalue: 0.9524465366544955\n",
      "equiv pvalue: 0.04145159058129325\n",
      "diff pvalue: 0.26395879720575915\n",
      "equiv pvalue: 0.014236015730300531\n",
      "diff pvalue: 0.6019249976722969\n",
      "equiv pvalue: 0.11030688972571616\n",
      "diff pvalue: 0.21882235324771282\n",
      "equiv pvalue: 0.00706834614475936\n",
      "diff pvalue: 0.5512727578924667\n",
      "equiv pvalue: 0.06250399162840255\n",
      "diff pvalue: 0.6614579990736067\n",
      "equiv pvalue: 0.03170447441564258\n",
      "diff pvalue: 0.24187451279899205\n",
      "equiv pvalue: 0.2565501941320331\n",
      "diff pvalue: 0.9134237874870105\n",
      "equiv pvalue: 0.06114783510464667\n",
      "diff pvalue: 0.47199314523400626\n",
      "equiv pvalue: 0.04790985961469002\n",
      "diff pvalue: 0.35527316344408866\n",
      "equiv pvalue: 0.027810164945356618\n",
      "diff pvalue: 0.849999377299988\n",
      "equiv pvalue: 0.10386221687364688\n",
      "diff pvalue: 0.41639176415441026\n",
      "equiv pvalue: 0.020862026260129358\n",
      "diff pvalue: 6.426020223222259e-11\n",
      "equiv pvalue: 0.9999999988214938\n",
      "diff pvalue: 0.6654574940272847\n",
      "equiv pvalue: 0.28965007983935254\n",
      "diff pvalue: 0.553763821482422\n",
      "equiv pvalue: 0.1769884528438742\n",
      "diff pvalue: 0.7016342151916802\n",
      "equiv pvalue: 0.003158283953677624\n",
      "diff pvalue: 0.48206242436641056\n",
      "equiv pvalue: 0.07624246385902601\n",
      "diff pvalue: 0.9587691498102484\n",
      "equiv pvalue: 0.0001714588617620174\n",
      "diff pvalue: 0.893475705156512\n",
      "equiv pvalue: 0.026409638714551677\n",
      "diff pvalue: 0.24823661021418755\n",
      "equiv pvalue: 0.2754205664563917\n",
      "diff pvalue: 0.4347034231526673\n",
      "equiv pvalue: 0.04966183631273224\n",
      "diff pvalue: 0.011721103396702884\n",
      "equiv pvalue: 0.8493018882152937\n",
      "diff pvalue: 0.07931691077082105\n",
      "equiv pvalue: 0.11258914621584934\n",
      "diff pvalue: 0.856756696297535\n",
      "equiv pvalue: 0.01894148693444663\n",
      "diff pvalue: 0.3000778439947239\n",
      "equiv pvalue: 0.10074573828154666\n",
      "diff pvalue: 0.9832927213083003\n",
      "equiv pvalue: 0.024584222721905427\n",
      "diff pvalue: 0.04056149527294551\n",
      "equiv pvalue: 0.32896519555950715\n",
      "diff pvalue: 0.2989181032313499\n",
      "equiv pvalue: 0.11951174985706019\n"
     ]
    },
    {
     "name": "stderr",
     "output_type": "stream",
     "text": [
      "100%|██████████| 100/100 [00:00<00:00, 276.21it/s]"
     ]
    },
    {
     "name": "stdout",
     "output_type": "stream",
     "text": [
      "diff pvalue: 0.22111538341017695\n",
      "equiv pvalue: 0.5081737208110757\n",
      "diff pvalue: 0.4247648056021247\n",
      "equiv pvalue: 0.003861844249342384\n",
      "diff pvalue: 0.7072252927772507\n",
      "equiv pvalue: 0.01517804456929629\n",
      "diff pvalue: 0.02077367775382255\n",
      "equiv pvalue: 0.8287075234684089\n",
      "diff pvalue: 0.5401820123056792\n",
      "equiv pvalue: 0.1017415627027437\n",
      "diff pvalue: 0.8380755594135385\n",
      "equiv pvalue: 0.21951816885091308\n",
      "diff pvalue: 0.5185233052238314\n",
      "equiv pvalue: 0.015488470081894471\n",
      "diff pvalue: 0.028681538593837323\n",
      "equiv pvalue: 0.917520492064765\n",
      "diff pvalue: 0.4803316479653199\n",
      "equiv pvalue: 0.31833876796315197\n",
      "diff pvalue: 0.4311960352745683\n",
      "equiv pvalue: 0.0033611348023328486\n",
      "diff pvalue: 0.6340761573700249\n",
      "equiv pvalue: 0.00169427483365046\n",
      "diff pvalue: 0.07934567476343152\n",
      "equiv pvalue: 0.03038754903475361\n",
      "diff pvalue: 0.09008670988104307\n",
      "equiv pvalue: 0.042122069989571846\n",
      "diff pvalue: 0.22342075460998198\n",
      "equiv pvalue: 0.5856272105809588\n",
      "diff pvalue: 0.24437476994535073\n",
      "equiv pvalue: 0.02905676889568488\n",
      "diff pvalue: 0.35018058972885946\n",
      "equiv pvalue: 0.040613332855299986\n",
      "diff pvalue: 0.0003238684114168633\n",
      "equiv pvalue: 0.846778824223815\n",
      "diff pvalue: 0.0029622460790309584\n",
      "equiv pvalue: 0.9832967008338546\n",
      "diff pvalue: 0.00010459849726640862\n",
      "equiv pvalue: 0.9987762005859608\n",
      "diff pvalue: 0.0013877493972498155\n",
      "equiv pvalue: 0.992315548607102\n",
      "diff pvalue: 0.7787695678524542\n",
      "equiv pvalue: 0.010381982819767469\n",
      "diff pvalue: 0.0080537366411539\n",
      "equiv pvalue: 0.7711416804515527\n",
      "diff pvalue: 0.4539445492362105\n",
      "equiv pvalue: 0.045471813472644014\n",
      "diff pvalue: 1.9722004658183543e-05\n",
      "equiv pvalue: 0.980641799453671\n",
      "diff pvalue: 0.0885026792492101\n",
      "equiv pvalue: 0.7544645682503293\n",
      "diff pvalue: 0.06594035407303314\n",
      "equiv pvalue: 0.3554936369971158\n",
      "diff pvalue: 0.09866381557396509\n",
      "equiv pvalue: 0.023177097744942896\n",
      "diff pvalue: 0.17818918392829414\n",
      "equiv pvalue: 0.07764532687439435\n",
      "diff pvalue: 0.17345553481620213\n",
      "equiv pvalue: 0.350015477013562\n",
      "diff pvalue: 4.199328402004869e-35\n",
      "equiv pvalue: 1.0\n",
      "diff pvalue: 0.08855795692085683\n",
      "equiv pvalue: 0.44176032266072174\n",
      "diff pvalue: 0.6653116188086184\n",
      "equiv pvalue: 0.06891746673221744\n",
      "diff pvalue: 0.565980909877297\n",
      "equiv pvalue: 0.0007032444346857552\n",
      "diff pvalue: 0.262346844838498\n",
      "equiv pvalue: 0.010377871564147576\n",
      "diff pvalue: 0.46897283222050157\n",
      "equiv pvalue: 0.5665774713531576\n",
      "diff pvalue: 0.4731825410108864\n",
      "equiv pvalue: 0.02600739903098216\n",
      "diff pvalue: 0.384758268584232\n",
      "equiv pvalue: 0.007113318639373636\n",
      "diff pvalue: 0.05617330221419176\n",
      "equiv pvalue: 0.08795396957533269\n",
      "diff pvalue: 0.711945170439555\n",
      "equiv pvalue: 0.07160110017908432\n",
      "diff pvalue: 0.47453371572492764\n",
      "equiv pvalue: 0.03227860564404852\n",
      "diff pvalue: 5.731989036298127e-06\n",
      "equiv pvalue: 0.9974234005952801\n",
      "diff pvalue: 3.704208292756591e-24\n",
      "equiv pvalue: 1.0\n",
      "diff pvalue: 0.5801130715777412\n",
      "equiv pvalue: 0.0067144745326160405\n",
      "diff pvalue: 0.3802804774995754\n",
      "equiv pvalue: 0.013139095116315516\n",
      "diff pvalue: 0.5779959019367472\n",
      "equiv pvalue: 0.1001428220589537\n"
     ]
    },
    {
     "name": "stderr",
     "output_type": "stream",
     "text": [
      "\n"
     ]
    }
   ],
   "source": [
    "delta = 0.05\n",
    "\n",
    "grouped_df = df.groupby(\"cell_type\")\n",
    "\n",
    "out = {\"gene\" : [], \"nnz_group1\" : [], \"nnz_group2\" : [], \"avg_group1\" : [], \n",
    "       \"avg_group2\" : [], \"diff_pval\" : [], \"equiv_pval\" : []}\n",
    "\n",
    "count = 0\n",
    "plot = False\n",
    "for gene in tqdm.tqdm([x for x in df.columns if x != \"cell_type\"]):\n",
    "#     count += 1\n",
    "#     if count == 5:\n",
    "#         break\n",
    "\n",
    "    samples = grouped_df[gene].apply(list)\n",
    "    diff_pval, equiv_pval = perform_t_tests(samples[0], samples[1], delta)\n",
    "    if plot and ((diff_pval < 0.05) or (equiv_pval > 0.05)):\n",
    "        print(gene)\n",
    "        plt.hist(df[gene])\n",
    "        plt.show()\n",
    "        plot_groups(samples[0], samples[1])\n",
    "    out[\"gene\"].append(gene)\n",
    "    out[\"nnz_group1\"].append(np.count_nonzero(samples[0]))\n",
    "    out[\"nnz_group2\"].append(np.count_nonzero(samples[1]))\n",
    "    out[\"avg_group1\"].append(np.mean(samples[0]))\n",
    "    out[\"avg_group2\"].append(np.mean(samples[1]))\n",
    "    out[\"diff_pval\"].append(diff_pval)\n",
    "    out[\"equiv_pval\"].append(equiv_pval)\n",
    "\n",
    "out_df = pd.DataFrame.from_dict(out)\n",
    "for pval in [\"diff\", \"equiv\"]:\n",
    "    out_df[\"{}_pval_adj\".format(pval)] = multitest.multipletests(out_df[\"{}_pval\".format(pval)], method=\"fdr_bh\")[1]\n",
    "    out_df[\"sig_{}\".format(pval)] = False\n",
    "    out_df.loc[out_df[\"{}_pval_adj\".format(pval)] < 0.05, \"sig_{}\".format(pval)] = True\n",
    "    \n",
    "out_df[\"sig_both\"] = out_df[\"sig_diff\"] & out_df[\"sig_equiv\"]"
   ]
  },
  {
   "cell_type": "code",
   "execution_count": 39,
   "id": "9894a6d6",
   "metadata": {
    "ExecuteTime": {
     "end_time": "2024-01-28T20:33:51.705760Z",
     "start_time": "2024-01-28T20:33:51.211385Z"
    }
   },
   "outputs": [
    {
     "data": {
      "image/png": "[encoded data removed]",
      "text/plain": [
       "<Figure size 640x480 with 1 Axes>"
      ]
     },
     "metadata": {},
     "output_type": "display_data"
    },
    {
     "data": {
      "image/png": "[encoded data removed]",
      "text/plain": [
       "<Figure size 640x480 with 1 Axes>"
      ]
     },
     "metadata": {},
     "output_type": "display_data"
    }
   ],
   "source": [
    "plt.hist(out_df[\"diff_pval_adj\"])\n",
    "plt.title(\"{}\\ndiff_pval_adj\".format(dataname))\n",
    "plt.show()\n",
    "\n",
    "plt.hist(out_df[\"equiv_pval_adj\"])\n",
    "plt.title(\"{}\\nequiv_pval_adj\".format(dataname))\n",
    "plt.show()"
   ]
  },
  {
   "cell_type": "code",
   "execution_count": 40,
   "id": "52d86b93",
   "metadata": {
    "ExecuteTime": {
     "end_time": "2024-01-28T20:33:51.927378Z",
     "start_time": "2024-01-28T20:33:51.885441Z"
    }
   },
   "outputs": [
    {
     "data": {
      "text/html": [
       "<div>\n",
       "<style scoped>\n",
       "    .dataframe tbody tr th:only-of-type {\n",
       "        vertical-align: middle;\n",
       "    }\n",
       "\n",
       "    .dataframe tbody tr th {\n",
       "        vertical-align: top;\n",
       "    }\n",
       "\n",
       "    .dataframe thead th {\n",
       "        text-align: right;\n",
       "    }\n",
       "</style>\n",
       "<table border=\"1\" class=\"dataframe\">\n",
       "  <thead>\n",
       "    <tr style=\"text-align: right;\">\n",
       "      <th></th>\n",
       "      <th>gene</th>\n",
       "      <th>nnz_group1</th>\n",
       "      <th>nnz_group2</th>\n",
       "      <th>avg_group1</th>\n",
       "      <th>avg_group2</th>\n",
       "      <th>diff_pval</th>\n",
       "      <th>equiv_pval</th>\n",
       "      <th>diff_pval_adj</th>\n",
       "      <th>sig_diff</th>\n",
       "      <th>equiv_pval_adj</th>\n",
       "      <th>sig_equiv</th>\n",
       "      <th>sig_both</th>\n",
       "    </tr>\n",
       "  </thead>\n",
       "  <tbody>\n",
       "    <tr>\n",
       "      <th>84</th>\n",
       "      <td>CD8A</td>\n",
       "      <td>78</td>\n",
       "      <td>247</td>\n",
       "      <td>0.296943</td>\n",
       "      <td>1.045055</td>\n",
       "      <td>4.199328e-35</td>\n",
       "      <td>1.000000</td>\n",
       "      <td>4.199328e-33</td>\n",
       "      <td>True</td>\n",
       "      <td>1.000000</td>\n",
       "      <td>False</td>\n",
       "      <td>False</td>\n",
       "    </tr>\n",
       "    <tr>\n",
       "      <th>96</th>\n",
       "      <td>PLEK</td>\n",
       "      <td>20</td>\n",
       "      <td>131</td>\n",
       "      <td>0.057483</td>\n",
       "      <td>0.407332</td>\n",
       "      <td>3.704208e-24</td>\n",
       "      <td>1.000000</td>\n",
       "      <td>1.852104e-22</td>\n",
       "      <td>True</td>\n",
       "      <td>1.000000</td>\n",
       "      <td>False</td>\n",
       "      <td>False</td>\n",
       "    </tr>\n",
       "    <tr>\n",
       "      <th>39</th>\n",
       "      <td>RGS1</td>\n",
       "      <td>273</td>\n",
       "      <td>162</td>\n",
       "      <td>1.225634</td>\n",
       "      <td>0.713235</td>\n",
       "      <td>6.426020e-11</td>\n",
       "      <td>1.000000</td>\n",
       "      <td>2.142007e-09</td>\n",
       "      <td>True</td>\n",
       "      <td>1.000000</td>\n",
       "      <td>False</td>\n",
       "      <td>False</td>\n",
       "    </tr>\n",
       "    <tr>\n",
       "      <th>95</th>\n",
       "      <td>NFKB2</td>\n",
       "      <td>72</td>\n",
       "      <td>25</td>\n",
       "      <td>0.191872</td>\n",
       "      <td>0.067383</td>\n",
       "      <td>5.731989e-06</td>\n",
       "      <td>0.997423</td>\n",
       "      <td>1.432997e-04</td>\n",
       "      <td>True</td>\n",
       "      <td>1.000000</td>\n",
       "      <td>False</td>\n",
       "      <td>False</td>\n",
       "    </tr>\n",
       "    <tr>\n",
       "      <th>19</th>\n",
       "      <td>PDE4B</td>\n",
       "      <td>120</td>\n",
       "      <td>65</td>\n",
       "      <td>0.354092</td>\n",
       "      <td>0.190121</td>\n",
       "      <td>2.157365e-05</td>\n",
       "      <td>0.998694</td>\n",
       "      <td>3.595608e-04</td>\n",
       "      <td>True</td>\n",
       "      <td>1.000000</td>\n",
       "      <td>False</td>\n",
       "      <td>False</td>\n",
       "    </tr>\n",
       "    <tr>\n",
       "      <th>...</th>\n",
       "      <td>...</td>\n",
       "      <td>...</td>\n",
       "      <td>...</td>\n",
       "      <td>...</td>\n",
       "      <td>...</td>\n",
       "      <td>...</td>\n",
       "      <td>...</td>\n",
       "      <td>...</td>\n",
       "      <td>...</td>\n",
       "      <td>...</td>\n",
       "      <td>...</td>\n",
       "      <td>...</td>\n",
       "    </tr>\n",
       "    <tr>\n",
       "      <th>44</th>\n",
       "      <td>MYO19</td>\n",
       "      <td>12</td>\n",
       "      <td>14</td>\n",
       "      <td>0.032711</td>\n",
       "      <td>0.033424</td>\n",
       "      <td>9.587691e-01</td>\n",
       "      <td>0.000171</td>\n",
       "      <td>9.783359e-01</td>\n",
       "      <td>False</td>\n",
       "      <td>0.008573</td>\n",
       "      <td>True</td>\n",
       "      <td>False</td>\n",
       "    </tr>\n",
       "    <tr>\n",
       "      <th>4</th>\n",
       "      <td>NSD2</td>\n",
       "      <td>14</td>\n",
       "      <td>11</td>\n",
       "      <td>0.031487</td>\n",
       "      <td>0.030782</td>\n",
       "      <td>9.572966e-01</td>\n",
       "      <td>0.000103</td>\n",
       "      <td>9.783359e-01</td>\n",
       "      <td>False</td>\n",
       "      <td>0.008573</td>\n",
       "      <td>True</td>\n",
       "      <td>False</td>\n",
       "    </tr>\n",
       "    <tr>\n",
       "      <th>0</th>\n",
       "      <td>CERS4</td>\n",
       "      <td>21</td>\n",
       "      <td>19</td>\n",
       "      <td>0.047120</td>\n",
       "      <td>0.046318</td>\n",
       "      <td>9.581136e-01</td>\n",
       "      <td>0.000656</td>\n",
       "      <td>9.783359e-01</td>\n",
       "      <td>False</td>\n",
       "      <td>0.014065</td>\n",
       "      <td>True</td>\n",
       "      <td>False</td>\n",
       "    </tr>\n",
       "    <tr>\n",
       "      <th>52</th>\n",
       "      <td>YDJC</td>\n",
       "      <td>46</td>\n",
       "      <td>48</td>\n",
       "      <td>0.122234</td>\n",
       "      <td>0.121705</td>\n",
       "      <td>9.832927e-01</td>\n",
       "      <td>0.024584</td>\n",
       "      <td>9.932250e-01</td>\n",
       "      <td>False</td>\n",
       "      <td>0.091053</td>\n",
       "      <td>False</td>\n",
       "      <td>False</td>\n",
       "    </tr>\n",
       "    <tr>\n",
       "      <th>12</th>\n",
       "      <td>ATG5</td>\n",
       "      <td>62</td>\n",
       "      <td>57</td>\n",
       "      <td>0.158978</td>\n",
       "      <td>0.158992</td>\n",
       "      <td>9.996225e-01</td>\n",
       "      <td>0.041230</td>\n",
       "      <td>9.996225e-01</td>\n",
       "      <td>False</td>\n",
       "      <td>0.110848</td>\n",
       "      <td>False</td>\n",
       "      <td>False</td>\n",
       "    </tr>\n",
       "  </tbody>\n",
       "</table>\n",
       "<p>100 rows × 12 columns</p>\n",
       "</div>"
      ],
      "text/plain": [
       "     gene  nnz_group1  nnz_group2  avg_group1  avg_group2     diff_pval  \\\n",
       "84   CD8A          78         247    0.296943    1.045055  4.199328e-35   \n",
       "96   PLEK          20         131    0.057483    0.407332  3.704208e-24   \n",
       "39   RGS1         273         162    1.225634    0.713235  6.426020e-11   \n",
       "95  NFKB2          72          25    0.191872    0.067383  5.731989e-06   \n",
       "19  PDE4B         120          65    0.354092    0.190121  2.157365e-05   \n",
       "..    ...         ...         ...         ...         ...           ...   \n",
       "44  MYO19          12          14    0.032711    0.033424  9.587691e-01   \n",
       "4    NSD2          14          11    0.031487    0.030782  9.572966e-01   \n",
       "0   CERS4          21          19    0.047120    0.046318  9.581136e-01   \n",
       "52   YDJC          46          48    0.122234    0.121705  9.832927e-01   \n",
       "12   ATG5          62          57    0.158978    0.158992  9.996225e-01   \n",
       "\n",
       "    equiv_pval  diff_pval_adj  sig_diff  equiv_pval_adj  sig_equiv  sig_both  \n",
       "84    1.000000   4.199328e-33      True        1.000000      False     False  \n",
       "96    1.000000   1.852104e-22      True        1.000000      False     False  \n",
       "39    1.000000   2.142007e-09      True        1.000000      False     False  \n",
       "95    0.997423   1.432997e-04      True        1.000000      False     False  \n",
       "19    0.998694   3.595608e-04      True        1.000000      False     False  \n",
       "..         ...            ...       ...             ...        ...       ...  \n",
       "44    0.000171   9.783359e-01     False        0.008573       True     False  \n",
       "4     0.000103   9.783359e-01     False        0.008573       True     False  \n",
       "0     0.000656   9.783359e-01     False        0.014065       True     False  \n",
       "52    0.024584   9.932250e-01     False        0.091053      False     False  \n",
       "12    0.041230   9.996225e-01     False        0.110848      False     False  \n",
       "\n",
       "[100 rows x 12 columns]"
      ]
     },
     "execution_count": 40,
     "metadata": {},
     "output_type": "execute_result"
    }
   ],
   "source": [
    "out_df.sort_values(\"diff_pval_adj\")"
   ]
  },
  {
   "cell_type": "code",
   "execution_count": 41,
   "id": "443ab773",
   "metadata": {
    "ExecuteTime": {
     "end_time": "2024-01-28T20:33:52.461043Z",
     "start_time": "2024-01-28T20:33:52.145945Z"
    }
   },
   "outputs": [
    {
     "data": {
      "image/png": "[encoded data removed]",
      "text/plain": [
       "<Figure size 640x480 with 1 Axes>"
      ]
     },
     "metadata": {},
     "output_type": "display_data"
    }
   ],
   "source": [
    "\n",
    "sub = out_df[(out_df[\"sig_diff\"] == False) & (out_df[\"sig_equiv\"] == False)]\n",
    "plt.plot(sub[\"diff_pval\"], sub[\"equiv_pval\"],marker=\"o\",linestyle=\"\", label = \"neither sig\")\n",
    "\n",
    "sub = out_df[(out_df[\"sig_diff\"] == True) & (out_df[\"sig_equiv\"] == False)]\n",
    "plt.plot(sub[\"diff_pval\"], sub[\"equiv_pval\"],marker=\"o\",linestyle=\"\", label = \"sig diff\")\n",
    "\n",
    "sub = out_df[(out_df[\"sig_diff\"] == False) & (out_df[\"sig_equiv\"] == True)]\n",
    "plt.plot(sub[\"diff_pval\"], sub[\"equiv_pval\"],marker=\"o\",linestyle=\"\", label = \"sig equiv\")\n",
    "\n",
    "sub = out_df[(out_df[\"sig_diff\"] == True) & (out_df[\"sig_equiv\"] == True)]\n",
    "plt.plot(sub[\"diff_pval\"], sub[\"equiv_pval\"],marker=\"o\",linestyle=\"\", label = \"sig both\")\n",
    "\n",
    "plt.xlabel(\"diff_pval\")\n",
    "plt.ylabel(\"equiv_pval\")\n",
    "plt.title(\"{}\\ndelta: {}\".format(dataname,delta))\n",
    "plt.legend()\n",
    "plt.show()"
   ]
  },
  {
   "cell_type": "code",
   "execution_count": 42,
   "id": "b4cb7653",
   "metadata": {
    "ExecuteTime": {
     "end_time": "2024-01-28T20:33:52.882023Z",
     "start_time": "2024-01-28T20:33:52.846252Z"
    }
   },
   "outputs": [
    {
     "name": "stdout",
     "output_type": "stream",
     "text": [
      "HLCA_normal_1000_CD4-positive-alpha-beta-T-cell_CD8-positive-alpha-beta-T-cell\n",
      "delta: 0.05\n"
     ]
    },
    {
     "data": {
      "text/html": [
       "<div>\n",
       "<style scoped>\n",
       "    .dataframe tbody tr th:only-of-type {\n",
       "        vertical-align: middle;\n",
       "    }\n",
       "\n",
       "    .dataframe tbody tr th {\n",
       "        vertical-align: top;\n",
       "    }\n",
       "\n",
       "    .dataframe thead th {\n",
       "        text-align: right;\n",
       "    }\n",
       "</style>\n",
       "<table border=\"1\" class=\"dataframe\">\n",
       "  <thead>\n",
       "    <tr style=\"text-align: right;\">\n",
       "      <th>sig_diff</th>\n",
       "      <th>False</th>\n",
       "      <th>True</th>\n",
       "    </tr>\n",
       "    <tr>\n",
       "      <th>sig_equiv</th>\n",
       "      <th></th>\n",
       "      <th></th>\n",
       "    </tr>\n",
       "  </thead>\n",
       "  <tbody>\n",
       "    <tr>\n",
       "      <th>False</th>\n",
       "      <td>80</td>\n",
       "      <td>10</td>\n",
       "    </tr>\n",
       "    <tr>\n",
       "      <th>True</th>\n",
       "      <td>10</td>\n",
       "      <td>0</td>\n",
       "    </tr>\n",
       "  </tbody>\n",
       "</table>\n",
       "</div>"
      ],
      "text/plain": [
       "sig_diff   False  True\n",
       "sig_equiv             \n",
       "False         80    10\n",
       "True          10     0"
      ]
     },
     "execution_count": 42,
     "metadata": {},
     "output_type": "execute_result"
    }
   ],
   "source": [
    "print(dataname)\n",
    "print(\"delta: {}\".format(delta))\n",
    "pd.crosstab(out_df['sig_equiv'], out_df['sig_diff']) "
   ]
  },
  {
   "cell_type": "code",
   "execution_count": 23,
   "id": "0930e64b",
   "metadata": {
    "ExecuteTime": {
     "end_time": "2024-01-28T20:29:26.455553Z",
     "start_time": "2024-01-28T20:29:25.838460Z"
    }
   },
   "outputs": [
    {
     "ename": "NameError",
     "evalue": "name 'test_df' is not defined",
     "output_type": "error",
     "traceback": [
      "\u001b[0;31m---------------------------------------------------------------------------\u001b[0m",
      "\u001b[0;31mNameError\u001b[0m                                 Traceback (most recent call last)",
      "\u001b[0;32m/tmp/ipykernel_22478/4174201340.py\u001b[0m in \u001b[0;36m<module>\u001b[0;34m\u001b[0m\n\u001b[0;32m----> 1\u001b[0;31m \u001b[0mtest_df\u001b[0m\u001b[0;34m.\u001b[0m\u001b[0mgroupby\u001b[0m\u001b[0;34m(\u001b[0m\u001b[0;34m\"cell_type\"\u001b[0m\u001b[0;34m)\u001b[0m\u001b[0;34m[\u001b[0m\u001b[0mgene\u001b[0m\u001b[0;34m]\u001b[0m\u001b[0;34m.\u001b[0m\u001b[0mapply\u001b[0m\u001b[0;34m(\u001b[0m\u001b[0mlist\u001b[0m\u001b[0;34m)\u001b[0m\u001b[0;34m\u001b[0m\u001b[0;34m\u001b[0m\u001b[0m\n\u001b[0m",
      "\u001b[0;31mNameError\u001b[0m: name 'test_df' is not defined"
     ]
    }
   ],
   "source": [
    "test_df.groupby(\"cell_type\")[gene].apply(list)"
   ]
  },
  {
   "cell_type": "code",
   "execution_count": 22,
   "id": "4fcabb36",
   "metadata": {
    "ExecuteTime": {
     "end_time": "2024-01-26T22:07:12.791613Z",
     "start_time": "2024-01-26T22:07:12.771964Z"
    }
   },
   "outputs": [
    {
     "data": {
      "text/plain": [
       "cell_type\n",
       "CD4-positive, alpha-beta T cell    [0.0, 0.0, 0.0, 0.0, 0.0, 0.0, 0.0, 0.0, 0.0, ...\n",
       "CD8-positive, alpha-beta T cell    [0.0, 0.0, 0.0, 0.0, 0.0, 0.0, 0.0, 0.0, 0.0, ...\n",
       "Name: CERS4, dtype: object"
      ]
     },
     "execution_count": 22,
     "metadata": {},
     "output_type": "execute_result"
    }
   ],
   "source": [
    "grouped_df = df.groupby(\"cell_type\")\n"
   ]
  },
  {
   "cell_type": "code",
   "execution_count": 41,
   "id": "f779bcab",
   "metadata": {
    "ExecuteTime": {
     "end_time": "2024-01-26T22:15:05.497698Z",
     "start_time": "2024-01-26T22:15:05.487024Z"
    }
   },
   "outputs": [
    {
     "data": {
      "text/plain": [
       "0.04693597917086259"
      ]
     },
     "execution_count": 41,
     "metadata": {},
     "output_type": "execute_result"
    }
   ],
   "source": [
    "np.mean(samples[0])"
   ]
  },
  {
   "cell_type": "code",
   "execution_count": null,
   "id": "3dcb656e",
   "metadata": {},
   "outputs": [],
   "source": []
  }
 ],
 "metadata": {
  "kernelspec": {
   "display_name": "Python 3 (ipykernel)",
   "language": "python",
   "name": "python3"
  },
  "language_info": {
   "codemirror_mode": {
    "name": "ipython",
    "version": 3
   },
   "file_extension": ".py",
   "mimetype": "text/x-python",
   "name": "python",
   "nbconvert_exporter": "python",
   "pygments_lexer": "ipython3",
   "version": "3.9.13"
  }
 },
 "nbformat": 4,
 "nbformat_minor": 5
}
