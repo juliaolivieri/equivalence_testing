{
 "cells": [
  {
   "cell_type": "code",
   "execution_count": 1,
   "id": "7c5ac5a0",
   "metadata": {
    "ExecuteTime": {
     "end_time": "2024-03-29T22:43:59.255394Z",
     "start_time": "2024-03-29T22:43:56.559608Z"
    }
   },
   "outputs": [],
   "source": [
    "import matplotlib.pyplot as plt\n",
    "import numpy as np\n",
    "import pandas as pd\n",
    "import scipy.stats as stats\n",
    "import statsmodels.stats.multitest as multitest\n",
    "import tqdm\n",
    "\n"
   ]
  },
  {
   "cell_type": "code",
   "execution_count": 9,
   "id": "0caa6c61",
   "metadata": {
    "ExecuteTime": {
     "end_time": "2024-02-21T06:31:08.327408Z",
     "start_time": "2024-02-21T06:31:08.321344Z"
    }
   },
   "outputs": [],
   "source": [
    "outpath = \"output/perform_test_tabular_data/\""
   ]
  },
  {
   "cell_type": "code",
   "execution_count": 10,
   "id": "fc7ab721",
   "metadata": {
    "ExecuteTime": {
     "end_time": "2024-02-21T06:31:08.706789Z",
     "start_time": "2024-02-21T06:31:08.685803Z"
    }
   },
   "outputs": [],
   "source": [
    "def perform_t_tests(group1_vals, group2_vals, delta):\n",
    "    mean1 = np.mean(group1_vals)\n",
    "    mean2 = np.mean(group2_vals)\n",
    "    \n",
    "    # perform standard t-test (testing for difference)\n",
    "    # consider switching to Welch's t-test (current assumes equal variances)\n",
    "    diff_pval = stats.ttest_ind(a=group1_vals, b = group2_vals).pvalue\n",
    "\n",
    "    # get t statistics for equivalence test\n",
    "    # (X1 - X2 - delta)/sqrt(s1^2/n1 + s2^2/n2)\n",
    "    t1 = (np.mean(group1_vals) - np.mean(group2_vals) - delta)/np.sqrt(np.var(group1_vals)/len(group1_vals)+np.var(group2_vals)/len(group2_vals))\n",
    "\n",
    "    # (X1 - X2 + delta)/sqrt(s1^2/n1 + s2^2/n2)\n",
    "    t2 = (np.mean(group1_vals) - np.mean(group2_vals) + delta)/np.sqrt(np.var(group1_vals)/len(group1_vals)+np.var(group2_vals)/len(group2_vals))\n",
    "\n",
    "    # find degrees of freedom (n1 + n2 - 1)\n",
    "    df = len(group1_vals) + len(group2_vals)\n",
    "\n",
    "    # find p value for t1 (less than)\n",
    "    p1 = stats.t.cdf(t1, df)\n",
    "\n",
    "    # find p value for t2 (greater than)\n",
    "    # sf is survival function: 1 - cdf\n",
    "    p2 = stats.t.sf(t2, df)\n",
    "\n",
    "    equiv_pval = np.max([p1, p2])\n",
    "#     print(\"diff pvalue: {}\\nequiv pvalue: {}\".format(diff_pval, equiv_pval))\n",
    "    return diff_pval, equiv_pval\n",
    "\n",
    "def plot_groups(group1_vals, group2_vals):\n",
    "    mean1 = np.mean(group1_vals)\n",
    "    mean2 = np.mean(group2_vals)\n",
    "    plt.hist(group1_vals,alpha=0.4, color=u'#1f77b4')\n",
    "    plt.axvline(x=mean1, color=u'#1f77b4',linestyle=\"--\")\n",
    "    plt.hist(group2_vals,alpha = 0.4, color = u'#ff7f0e')\n",
    "    plt.axvline(x=mean2, color=u'#ff7f0e',linestyle=\"--\")\n",
    "    # plt.axvline(x=np.mean(group2_vals), color=\"black\")\n",
    "    plt.title(\"difference in means: {:.3f}\".format(mean1 - mean2))\n",
    "    plt.show()"
   ]
  },
  {
   "cell_type": "code",
   "execution_count": 15,
   "id": "4901539b",
   "metadata": {
    "ExecuteTime": {
     "end_time": "2024-02-21T06:44:52.816117Z",
     "start_time": "2024-02-21T06:44:52.763557Z"
    }
   },
   "outputs": [],
   "source": [
    "#dataname = \"HLCA_normal_1000_CD4-positive-alpha-beta-T-cell_CD8-positive-alpha-beta-T-cell\"\n",
    "# dataname = \"HLCA_normal_1000_classical-monocyte_non-classical-monocyte\"\n",
    "# dataname = \"HLCA_normal_1000_alveolar-macrophage_elicited-macrophage\"\n",
    "# dataname = \"HLCA_normal_1000_capillary-endothelial-cell_mast-cell\"\n",
    "#dataname = \"HLCA_normal_1000_alveolar-macrophage_elicited-macrophage\"\n",
    "dataname = \"HLCA_normal_1000_ciliated-columnar-cell-of-tracheobronchial-tree_CD8-positive-alpha-beta-T-cell\"\n",
    "csv_path = \"/exports/home/jolivieri/equivalence_testing/scripts/output/sample_tabular_data/{}_1000_100.csv\".format(dataname)\n",
    "df = pd.read_csv(csv_path, index_col = 0)"
   ]
  },
  {
   "cell_type": "code",
   "execution_count": 16,
   "id": "bf595b09",
   "metadata": {
    "ExecuteTime": {
     "end_time": "2024-02-21T06:44:56.218404Z",
     "start_time": "2024-02-21T06:44:53.330363Z"
    },
    "scrolled": true
   },
   "outputs": [
    {
     "name": "stderr",
     "output_type": "stream",
     "text": [
      "100%|██████████| 100/100 [00:00<00:00, 280.08it/s]\n",
      "100%|██████████| 100/100 [00:00<00:00, 302.26it/s]\n",
      "100%|██████████| 100/100 [00:00<00:00, 381.05it/s]\n",
      "100%|██████████| 100/100 [00:00<00:00, 405.13it/s]\n",
      "100%|██████████| 100/100 [00:00<00:00, 404.25it/s]\n",
      "100%|██████████| 100/100 [00:00<00:00, 403.34it/s]\n",
      "100%|██████████| 100/100 [00:00<00:00, 405.16it/s]\n",
      "100%|██████████| 100/100 [00:00<00:00, 406.30it/s]\n",
      "100%|██████████| 100/100 [00:00<00:00, 404.83it/s]\n",
      "100%|██████████| 100/100 [00:00<00:00, 405.66it/s]\n"
     ]
    }
   ],
   "source": [
    "deltas = [0.01, 0.03, 0.05, 0.06, 0.07, 0.08, 0.09, 0.1, 0.15, 0.2]\n",
    "alpha = 0.05\n",
    "\n",
    "out_delt = {\"delta\" : [], \"sig_both\" : [], \"sig_diff\" : [], \"sig_equiv\" : [], \"sig_neither\" : []}\n",
    "\n",
    "for delta in deltas:\n",
    "    grouped_df = df.groupby(\"cell_type\")\n",
    "\n",
    "    out = {\"gene\" : [], \"nnz_group1\" : [], \"nnz_group2\" : [], \"avg_group1\" : [], \n",
    "           \"avg_group2\" : [], \"eff_size\" : [], \"diff_pval\" : [], \"equiv_pval\" : []}\n",
    "\n",
    "    count = 0\n",
    "    plot = False\n",
    "    for gene in tqdm.tqdm([x for x in df.columns if x != \"cell_type\"]):\n",
    "\n",
    "        samples = grouped_df[gene].apply(list)\n",
    "        diff_pval, equiv_pval = perform_t_tests(samples[0], samples[1], delta)\n",
    "        if plot and ((diff_pval < 0.05) or (equiv_pval > 0.05)):\n",
    "#             print(gene)\n",
    "            plt.hist(df[gene])\n",
    "            plt.show()\n",
    "            plot_groups(samples[0], samples[1])\n",
    "        mean1 = np.mean(samples[0])\n",
    "        mean2 = np.mean(samples[1])\n",
    "        out[\"gene\"].append(gene)\n",
    "        out[\"nnz_group1\"].append(np.count_nonzero(samples[0]))\n",
    "        out[\"nnz_group2\"].append(np.count_nonzero(samples[1]))\n",
    "        out[\"avg_group1\"].append(mean1)\n",
    "        out[\"avg_group2\"].append(mean2)\n",
    "        out[\"eff_size\"].append(np.abs(mean1 - mean2))\n",
    "        out[\"diff_pval\"].append(diff_pval)\n",
    "        out[\"equiv_pval\"].append(equiv_pval)\n",
    "\n",
    "    out_df = pd.DataFrame.from_dict(out)\n",
    "\n",
    "    out_df[\"diff_pval_adj\"] = multitest.multipletests(out_df[\"diff_pval\"], method=\"fdr_bh\")[1]\n",
    "    out_df[\"sig_diff\"] = False\n",
    "    out_df.loc[(out_df[\"diff_pval_adj\"] < alpha) & (out_df[\"eff_size\"] > delta), \"sig_diff\"] = True\n",
    "\n",
    "    out_df[\"equiv_pval_adj\"] = multitest.multipletests(out_df[\"equiv_pval\"], method=\"fdr_bh\")[1]\n",
    "    out_df[\"sig_equiv\"] = False\n",
    "    out_df.loc[(out_df[\"equiv_pval_adj\"] < alpha), \"sig_equiv\"] = True\n",
    "\n",
    "\n",
    "    out_df[\"sig_both\"] = out_df[\"sig_diff\"] & out_df[\"sig_equiv\"]\n",
    "    tab = pd.crosstab(out_df['sig_equiv'], out_df['sig_diff'])\n",
    "#     display(tab)\n",
    "    out_delt[\"delta\"].append(delta)\n",
    "    try:\n",
    "        out_delt[\"sig_both\"].append(tab.loc[True,True])\n",
    "    except:\n",
    "        out_delt[\"sig_both\"].append(0)\n",
    "    try:\n",
    "        out_delt[\"sig_diff\"].append(tab.loc[False,True])\n",
    "    except:\n",
    "        out_delt[\"sig_diff\"].append(0)\n",
    "    try:\n",
    "        out_delt[\"sig_equiv\"].append(tab.loc[True,False])\n",
    "    except:\n",
    "        out_delt[\"sig_equiv\"].append(0)\n",
    "    try:\n",
    "        out_delt[\"sig_neither\"].append(tab.loc[False,False])\n",
    "    except:\n",
    "        out_delt[\"sig_neither\"].append(0)"
   ]
  },
  {
   "cell_type": "code",
   "execution_count": 17,
   "id": "b94b6544",
   "metadata": {
    "ExecuteTime": {
     "end_time": "2024-02-21T06:44:56.232268Z",
     "start_time": "2024-02-21T06:44:56.221352Z"
    }
   },
   "outputs": [
    {
     "data": {
      "text/html": [
       "<div>\n",
       "<style scoped>\n",
       "    .dataframe tbody tr th:only-of-type {\n",
       "        vertical-align: middle;\n",
       "    }\n",
       "\n",
       "    .dataframe tbody tr th {\n",
       "        vertical-align: top;\n",
       "    }\n",
       "\n",
       "    .dataframe thead th {\n",
       "        text-align: right;\n",
       "    }\n",
       "</style>\n",
       "<table border=\"1\" class=\"dataframe\">\n",
       "  <thead>\n",
       "    <tr style=\"text-align: right;\">\n",
       "      <th></th>\n",
       "      <th>delta</th>\n",
       "      <th>sig_both</th>\n",
       "      <th>sig_diff</th>\n",
       "      <th>sig_equiv</th>\n",
       "      <th>sig_neither</th>\n",
       "    </tr>\n",
       "  </thead>\n",
       "  <tbody>\n",
       "    <tr>\n",
       "      <th>0</th>\n",
       "      <td>0.01</td>\n",
       "      <td>0</td>\n",
       "      <td>65</td>\n",
       "      <td>0</td>\n",
       "      <td>35</td>\n",
       "    </tr>\n",
       "    <tr>\n",
       "      <th>1</th>\n",
       "      <td>0.03</td>\n",
       "      <td>0</td>\n",
       "      <td>65</td>\n",
       "      <td>0</td>\n",
       "      <td>35</td>\n",
       "    </tr>\n",
       "    <tr>\n",
       "      <th>2</th>\n",
       "      <td>0.05</td>\n",
       "      <td>0</td>\n",
       "      <td>61</td>\n",
       "      <td>10</td>\n",
       "      <td>29</td>\n",
       "    </tr>\n",
       "    <tr>\n",
       "      <th>3</th>\n",
       "      <td>0.06</td>\n",
       "      <td>0</td>\n",
       "      <td>56</td>\n",
       "      <td>13</td>\n",
       "      <td>31</td>\n",
       "    </tr>\n",
       "    <tr>\n",
       "      <th>4</th>\n",
       "      <td>0.07</td>\n",
       "      <td>0</td>\n",
       "      <td>52</td>\n",
       "      <td>21</td>\n",
       "      <td>27</td>\n",
       "    </tr>\n",
       "    <tr>\n",
       "      <th>5</th>\n",
       "      <td>0.08</td>\n",
       "      <td>0</td>\n",
       "      <td>49</td>\n",
       "      <td>29</td>\n",
       "      <td>22</td>\n",
       "    </tr>\n",
       "    <tr>\n",
       "      <th>6</th>\n",
       "      <td>0.09</td>\n",
       "      <td>0</td>\n",
       "      <td>44</td>\n",
       "      <td>38</td>\n",
       "      <td>18</td>\n",
       "    </tr>\n",
       "    <tr>\n",
       "      <th>7</th>\n",
       "      <td>0.10</td>\n",
       "      <td>0</td>\n",
       "      <td>43</td>\n",
       "      <td>45</td>\n",
       "      <td>12</td>\n",
       "    </tr>\n",
       "    <tr>\n",
       "      <th>8</th>\n",
       "      <td>0.15</td>\n",
       "      <td>0</td>\n",
       "      <td>25</td>\n",
       "      <td>60</td>\n",
       "      <td>15</td>\n",
       "    </tr>\n",
       "    <tr>\n",
       "      <th>9</th>\n",
       "      <td>0.20</td>\n",
       "      <td>0</td>\n",
       "      <td>19</td>\n",
       "      <td>75</td>\n",
       "      <td>6</td>\n",
       "    </tr>\n",
       "  </tbody>\n",
       "</table>\n",
       "</div>"
      ],
      "text/plain": [
       "   delta  sig_both  sig_diff  sig_equiv  sig_neither\n",
       "0   0.01         0        65          0           35\n",
       "1   0.03         0        65          0           35\n",
       "2   0.05         0        61         10           29\n",
       "3   0.06         0        56         13           31\n",
       "4   0.07         0        52         21           27\n",
       "5   0.08         0        49         29           22\n",
       "6   0.09         0        44         38           18\n",
       "7   0.10         0        43         45           12\n",
       "8   0.15         0        25         60           15\n",
       "9   0.20         0        19         75            6"
      ]
     },
     "execution_count": 17,
     "metadata": {},
     "output_type": "execute_result"
    }
   ],
   "source": [
    "delt_df = pd.DataFrame.from_dict(out_delt)\n",
    "delt_df"
   ]
  },
  {
   "cell_type": "code",
   "execution_count": 18,
   "id": "354a319d",
   "metadata": {
    "ExecuteTime": {
     "end_time": "2024-02-21T06:44:59.162986Z",
     "start_time": "2024-02-21T06:44:58.834480Z"
    }
   },
   "outputs": [
    {
     "data": {
      "image/png": "[encoded data removed]",
      "text/plain": [
       "<Figure size 640x480 with 1 Axes>"
      ]
     },
     "metadata": {},
     "output_type": "display_data"
    }
   ],
   "source": [
    "columns = [\"sig_diff\", \"sig_equiv\", \"sig_neither\"]\n",
    "for c in columns:\n",
    "    plt.plot(delt_df[\"delta\"], delt_df[c],marker=\"o\", label = c)\n",
    "plt.legend()\n",
    "plt.title(dataname)\n",
    "plt.show()"
   ]
  },
  {
   "cell_type": "code",
   "execution_count": 83,
   "id": "db127c94",
   "metadata": {
    "ExecuteTime": {
     "end_time": "2024-02-12T20:23:07.551358Z",
     "start_time": "2024-02-12T20:23:07.537533Z"
    }
   },
   "outputs": [
    {
     "data": {
      "text/html": [
       "<div>\n",
       "<style scoped>\n",
       "    .dataframe tbody tr th:only-of-type {\n",
       "        vertical-align: middle;\n",
       "    }\n",
       "\n",
       "    .dataframe tbody tr th {\n",
       "        vertical-align: top;\n",
       "    }\n",
       "\n",
       "    .dataframe thead th {\n",
       "        text-align: right;\n",
       "    }\n",
       "</style>\n",
       "<table border=\"1\" class=\"dataframe\">\n",
       "  <thead>\n",
       "    <tr style=\"text-align: right;\">\n",
       "      <th>sig_diff</th>\n",
       "      <th>False</th>\n",
       "      <th>True</th>\n",
       "    </tr>\n",
       "    <tr>\n",
       "      <th>sig_equiv</th>\n",
       "      <th></th>\n",
       "      <th></th>\n",
       "    </tr>\n",
       "  </thead>\n",
       "  <tbody>\n",
       "    <tr>\n",
       "      <th>False</th>\n",
       "      <td>2</td>\n",
       "      <td>6</td>\n",
       "    </tr>\n",
       "    <tr>\n",
       "      <th>True</th>\n",
       "      <td>92</td>\n",
       "      <td>0</td>\n",
       "    </tr>\n",
       "  </tbody>\n",
       "</table>\n",
       "</div>"
      ],
      "text/plain": [
       "sig_diff   False  True\n",
       "sig_equiv             \n",
       "False          2     6\n",
       "True          92     0"
      ]
     },
     "execution_count": 83,
     "metadata": {},
     "output_type": "execute_result"
    }
   ],
   "source": [
    "tab"
   ]
  },
  {
   "cell_type": "code",
   "execution_count": 50,
   "id": "a6a3fd46",
   "metadata": {
    "ExecuteTime": {
     "end_time": "2024-02-12T20:14:55.452326Z",
     "start_time": "2024-02-12T20:14:55.427254Z"
    }
   },
   "outputs": [
    {
     "data": {
      "text/html": [
       "<div>\n",
       "<style scoped>\n",
       "    .dataframe tbody tr th:only-of-type {\n",
       "        vertical-align: middle;\n",
       "    }\n",
       "\n",
       "    .dataframe tbody tr th {\n",
       "        vertical-align: top;\n",
       "    }\n",
       "\n",
       "    .dataframe thead th {\n",
       "        text-align: right;\n",
       "    }\n",
       "</style>\n",
       "<table border=\"1\" class=\"dataframe\">\n",
       "  <thead>\n",
       "    <tr style=\"text-align: right;\">\n",
       "      <th></th>\n",
       "      <th>gene</th>\n",
       "      <th>nnz_group1</th>\n",
       "      <th>nnz_group2</th>\n",
       "      <th>avg_group1</th>\n",
       "      <th>avg_group2</th>\n",
       "      <th>eff_size</th>\n",
       "      <th>diff_pval</th>\n",
       "      <th>equiv_pval</th>\n",
       "      <th>diff_pval_adj</th>\n",
       "      <th>sig_diff</th>\n",
       "      <th>equiv_pval_adj</th>\n",
       "      <th>sig_equiv</th>\n",
       "      <th>sig_both</th>\n",
       "    </tr>\n",
       "  </thead>\n",
       "  <tbody>\n",
       "    <tr>\n",
       "      <th>0</th>\n",
       "      <td>KDM2B</td>\n",
       "      <td>43</td>\n",
       "      <td>35</td>\n",
       "      <td>0.077934</td>\n",
       "      <td>0.087555</td>\n",
       "      <td>0.009620</td>\n",
       "      <td>0.629142</td>\n",
       "      <td>3.464277e-06</td>\n",
       "      <td>0.833760</td>\n",
       "      <td>False</td>\n",
       "      <td>2.165173e-05</td>\n",
       "      <td>True</td>\n",
       "      <td>False</td>\n",
       "    </tr>\n",
       "    <tr>\n",
       "      <th>1</th>\n",
       "      <td>SNX13</td>\n",
       "      <td>40</td>\n",
       "      <td>38</td>\n",
       "      <td>0.074981</td>\n",
       "      <td>0.102071</td>\n",
       "      <td>0.027090</td>\n",
       "      <td>0.191357</td>\n",
       "      <td>3.038178e-04</td>\n",
       "      <td>0.445017</td>\n",
       "      <td>False</td>\n",
       "      <td>9.206599e-04</td>\n",
       "      <td>True</td>\n",
       "      <td>False</td>\n",
       "    </tr>\n",
       "    <tr>\n",
       "      <th>2</th>\n",
       "      <td>MYOF</td>\n",
       "      <td>59</td>\n",
       "      <td>73</td>\n",
       "      <td>0.114975</td>\n",
       "      <td>0.186665</td>\n",
       "      <td>0.071690</td>\n",
       "      <td>0.005000</td>\n",
       "      <td>1.389385e-01</td>\n",
       "      <td>0.023809</td>\n",
       "      <td>False</td>\n",
       "      <td>1.903268e-01</td>\n",
       "      <td>False</td>\n",
       "      <td>False</td>\n",
       "    </tr>\n",
       "    <tr>\n",
       "      <th>3</th>\n",
       "      <td>PRNP</td>\n",
       "      <td>188</td>\n",
       "      <td>130</td>\n",
       "      <td>0.448404</td>\n",
       "      <td>0.414680</td>\n",
       "      <td>0.033725</td>\n",
       "      <td>0.463976</td>\n",
       "      <td>6.722409e-02</td>\n",
       "      <td>0.682318</td>\n",
       "      <td>False</td>\n",
       "      <td>1.014860e-01</td>\n",
       "      <td>False</td>\n",
       "      <td>False</td>\n",
       "    </tr>\n",
       "    <tr>\n",
       "      <th>4</th>\n",
       "      <td>TSR3</td>\n",
       "      <td>55</td>\n",
       "      <td>36</td>\n",
       "      <td>0.101651</td>\n",
       "      <td>0.084279</td>\n",
       "      <td>0.017371</td>\n",
       "      <td>0.418029</td>\n",
       "      <td>2.595958e-05</td>\n",
       "      <td>0.643121</td>\n",
       "      <td>False</td>\n",
       "      <td>1.236171e-04</td>\n",
       "      <td>True</td>\n",
       "      <td>False</td>\n",
       "    </tr>\n",
       "    <tr>\n",
       "      <th>...</th>\n",
       "      <td>...</td>\n",
       "      <td>...</td>\n",
       "      <td>...</td>\n",
       "      <td>...</td>\n",
       "      <td>...</td>\n",
       "      <td>...</td>\n",
       "      <td>...</td>\n",
       "      <td>...</td>\n",
       "      <td>...</td>\n",
       "      <td>...</td>\n",
       "      <td>...</td>\n",
       "      <td>...</td>\n",
       "      <td>...</td>\n",
       "    </tr>\n",
       "    <tr>\n",
       "      <th>95</th>\n",
       "      <td>DHX34</td>\n",
       "      <td>31</td>\n",
       "      <td>22</td>\n",
       "      <td>0.059688</td>\n",
       "      <td>0.049646</td>\n",
       "      <td>0.010042</td>\n",
       "      <td>0.547691</td>\n",
       "      <td>5.253142e-09</td>\n",
       "      <td>0.760682</td>\n",
       "      <td>False</td>\n",
       "      <td>1.050628e-07</td>\n",
       "      <td>True</td>\n",
       "      <td>False</td>\n",
       "    </tr>\n",
       "    <tr>\n",
       "      <th>96</th>\n",
       "      <td>CPQ</td>\n",
       "      <td>73</td>\n",
       "      <td>71</td>\n",
       "      <td>0.146434</td>\n",
       "      <td>0.191124</td>\n",
       "      <td>0.044690</td>\n",
       "      <td>0.112240</td>\n",
       "      <td>2.493156e-02</td>\n",
       "      <td>0.267238</td>\n",
       "      <td>False</td>\n",
       "      <td>4.155260e-02</td>\n",
       "      <td>True</td>\n",
       "      <td>False</td>\n",
       "    </tr>\n",
       "    <tr>\n",
       "      <th>97</th>\n",
       "      <td>NUDT14</td>\n",
       "      <td>56</td>\n",
       "      <td>40</td>\n",
       "      <td>0.112480</td>\n",
       "      <td>0.115242</td>\n",
       "      <td>0.002762</td>\n",
       "      <td>0.911454</td>\n",
       "      <td>3.845073e-05</td>\n",
       "      <td>0.930055</td>\n",
       "      <td>False</td>\n",
       "      <td>1.747760e-04</td>\n",
       "      <td>True</td>\n",
       "      <td>False</td>\n",
       "    </tr>\n",
       "    <tr>\n",
       "      <th>98</th>\n",
       "      <td>NSD1</td>\n",
       "      <td>75</td>\n",
       "      <td>54</td>\n",
       "      <td>0.144093</td>\n",
       "      <td>0.149950</td>\n",
       "      <td>0.005856</td>\n",
       "      <td>0.827835</td>\n",
       "      <td>2.079818e-04</td>\n",
       "      <td>0.930055</td>\n",
       "      <td>False</td>\n",
       "      <td>7.171786e-04</td>\n",
       "      <td>True</td>\n",
       "      <td>False</td>\n",
       "    </tr>\n",
       "    <tr>\n",
       "      <th>99</th>\n",
       "      <td>NEK6</td>\n",
       "      <td>40</td>\n",
       "      <td>24</td>\n",
       "      <td>0.071922</td>\n",
       "      <td>0.068901</td>\n",
       "      <td>0.003021</td>\n",
       "      <td>0.873882</td>\n",
       "      <td>1.988054e-07</td>\n",
       "      <td>0.930055</td>\n",
       "      <td>False</td>\n",
       "      <td>1.988054e-06</td>\n",
       "      <td>True</td>\n",
       "      <td>False</td>\n",
       "    </tr>\n",
       "  </tbody>\n",
       "</table>\n",
       "<p>100 rows × 13 columns</p>\n",
       "</div>"
      ],
      "text/plain": [
       "      gene  nnz_group1  nnz_group2  avg_group1  avg_group2  eff_size  \\\n",
       "0    KDM2B          43          35    0.077934    0.087555  0.009620   \n",
       "1    SNX13          40          38    0.074981    0.102071  0.027090   \n",
       "2     MYOF          59          73    0.114975    0.186665  0.071690   \n",
       "3     PRNP         188         130    0.448404    0.414680  0.033725   \n",
       "4     TSR3          55          36    0.101651    0.084279  0.017371   \n",
       "..     ...         ...         ...         ...         ...       ...   \n",
       "95   DHX34          31          22    0.059688    0.049646  0.010042   \n",
       "96     CPQ          73          71    0.146434    0.191124  0.044690   \n",
       "97  NUDT14          56          40    0.112480    0.115242  0.002762   \n",
       "98    NSD1          75          54    0.144093    0.149950  0.005856   \n",
       "99    NEK6          40          24    0.071922    0.068901  0.003021   \n",
       "\n",
       "    diff_pval    equiv_pval  diff_pval_adj  sig_diff  equiv_pval_adj  \\\n",
       "0    0.629142  3.464277e-06       0.833760     False    2.165173e-05   \n",
       "1    0.191357  3.038178e-04       0.445017     False    9.206599e-04   \n",
       "2    0.005000  1.389385e-01       0.023809     False    1.903268e-01   \n",
       "3    0.463976  6.722409e-02       0.682318     False    1.014860e-01   \n",
       "4    0.418029  2.595958e-05       0.643121     False    1.236171e-04   \n",
       "..        ...           ...            ...       ...             ...   \n",
       "95   0.547691  5.253142e-09       0.760682     False    1.050628e-07   \n",
       "96   0.112240  2.493156e-02       0.267238     False    4.155260e-02   \n",
       "97   0.911454  3.845073e-05       0.930055     False    1.747760e-04   \n",
       "98   0.827835  2.079818e-04       0.930055     False    7.171786e-04   \n",
       "99   0.873882  1.988054e-07       0.930055     False    1.988054e-06   \n",
       "\n",
       "    sig_equiv  sig_both  \n",
       "0        True     False  \n",
       "1        True     False  \n",
       "2       False     False  \n",
       "3       False     False  \n",
       "4        True     False  \n",
       "..        ...       ...  \n",
       "95       True     False  \n",
       "96       True     False  \n",
       "97       True     False  \n",
       "98       True     False  \n",
       "99       True     False  \n",
       "\n",
       "[100 rows x 13 columns]"
      ]
     },
     "execution_count": 50,
     "metadata": {},
     "output_type": "execute_result"
    }
   ],
   "source": [
    "out_df"
   ]
  },
  {
   "cell_type": "code",
   "execution_count": 70,
   "id": "9894a6d6",
   "metadata": {
    "ExecuteTime": {
     "end_time": "2024-02-12T20:20:18.145387Z",
     "start_time": "2024-02-12T20:20:17.582483Z"
    }
   },
   "outputs": [
    {
     "data": {
      "image/png": "[encoded data removed]",
      "text/plain": [
       "<Figure size 640x480 with 1 Axes>"
      ]
     },
     "metadata": {},
     "output_type": "display_data"
    },
    {
     "data": {
      "image/png": "[encoded data removed]",
      "text/plain": [
       "<Figure size 640x480 with 1 Axes>"
      ]
     },
     "metadata": {},
     "output_type": "display_data"
    }
   ],
   "source": [
    "plt.hist(out_df[\"diff_pval_adj\"])\n",
    "plt.title(\"{}\\ndiff_pval_adj\".format(dataname))\n",
    "plt.savefig(\"<path to save>\")\n",
    "plt.show()\n",
    "\n",
    "plt.hist(out_df[\"equiv_pval_adj\"])\n",
    "plt.title(\"{}\\nequiv_pval_adj\".format(dataname))\n",
    "plt.show()"
   ]
  },
  {
   "cell_type": "code",
   "execution_count": 71,
   "id": "52d86b93",
   "metadata": {
    "ExecuteTime": {
     "end_time": "2024-02-12T20:20:18.158288Z",
     "start_time": "2024-02-12T20:20:18.148713Z"
    }
   },
   "outputs": [],
   "source": [
    "out_df.sort_values(\"diff_pval_adj\")\n",
    "out_df.to_csv(\"{}{}_out.csv\".format(outpath, dataname),index=False)"
   ]
  },
  {
   "cell_type": "code",
   "execution_count": 72,
   "id": "443ab773",
   "metadata": {
    "ExecuteTime": {
     "end_time": "2024-02-12T20:20:18.714099Z",
     "start_time": "2024-02-12T20:20:18.408365Z"
    }
   },
   "outputs": [
    {
     "data": {
      "image/png": "[encoded data removed]",
      "text/plain": [
       "<Figure size 640x480 with 1 Axes>"
      ]
     },
     "metadata": {},
     "output_type": "display_data"
    }
   ],
   "source": [
    "\n",
    "sub = out_df[(out_df[\"sig_diff\"] == False) & (out_df[\"sig_equiv\"] == False)]\n",
    "plt.plot(sub[\"diff_pval\"], sub[\"equiv_pval\"],marker=\"o\",linestyle=\"\", label = \"neither sig\")\n",
    "\n",
    "sub = out_df[(out_df[\"sig_diff\"] == True) & (out_df[\"sig_equiv\"] == False)]\n",
    "plt.plot(sub[\"diff_pval\"], sub[\"equiv_pval\"],marker=\"o\",linestyle=\"\", label = \"sig diff\")\n",
    "\n",
    "sub = out_df[(out_df[\"sig_diff\"] == False) & (out_df[\"sig_equiv\"] == True)]\n",
    "plt.plot(sub[\"diff_pval\"], sub[\"equiv_pval\"],marker=\"o\",linestyle=\"\", label = \"sig equiv\")\n",
    "\n",
    "sub = out_df[(out_df[\"sig_diff\"] == True) & (out_df[\"sig_equiv\"] == True)]\n",
    "plt.plot(sub[\"diff_pval\"], sub[\"equiv_pval\"],marker=\"o\",linestyle=\"\", label = \"sig both\")\n",
    "\n",
    "plt.xlabel(\"diff_pval\")\n",
    "plt.ylabel(\"equiv_pval\")\n",
    "plt.title(\"{}\\ndelta: {}\".format(dataname,delta))\n",
    "plt.legend()\n",
    "plt.show()"
   ]
  },
  {
   "cell_type": "code",
   "execution_count": 54,
   "id": "b4cb7653",
   "metadata": {
    "ExecuteTime": {
     "end_time": "2024-02-12T20:15:05.055685Z",
     "start_time": "2024-02-12T20:15:05.019660Z"
    }
   },
   "outputs": [
    {
     "name": "stdout",
     "output_type": "stream",
     "text": [
      "HLCA_normal_1000_classical-monocyte_non-classical-monocyte\n",
      "delta: 0.1\n"
     ]
    },
    {
     "data": {
      "text/html": [
       "<div>\n",
       "<style scoped>\n",
       "    .dataframe tbody tr th:only-of-type {\n",
       "        vertical-align: middle;\n",
       "    }\n",
       "\n",
       "    .dataframe tbody tr th {\n",
       "        vertical-align: top;\n",
       "    }\n",
       "\n",
       "    .dataframe thead th {\n",
       "        text-align: right;\n",
       "    }\n",
       "</style>\n",
       "<table border=\"1\" class=\"dataframe\">\n",
       "  <thead>\n",
       "    <tr style=\"text-align: right;\">\n",
       "      <th>sig_diff</th>\n",
       "      <th>False</th>\n",
       "      <th>True</th>\n",
       "    </tr>\n",
       "    <tr>\n",
       "      <th>sig_equiv</th>\n",
       "      <th></th>\n",
       "      <th></th>\n",
       "    </tr>\n",
       "  </thead>\n",
       "  <tbody>\n",
       "    <tr>\n",
       "      <th>False</th>\n",
       "      <td>27</td>\n",
       "      <td>13</td>\n",
       "    </tr>\n",
       "    <tr>\n",
       "      <th>True</th>\n",
       "      <td>60</td>\n",
       "      <td>0</td>\n",
       "    </tr>\n",
       "  </tbody>\n",
       "</table>\n",
       "</div>"
      ],
      "text/plain": [
       "sig_diff   False  True\n",
       "sig_equiv             \n",
       "False         27    13\n",
       "True          60     0"
      ]
     },
     "execution_count": 54,
     "metadata": {},
     "output_type": "execute_result"
    }
   ],
   "source": [
    "print(dataname)\n",
    "print(\"delta: {}\".format(delta))\n",
    "pd.crosstab(out_df['sig_equiv'], out_df['sig_diff']) "
   ]
  },
  {
   "cell_type": "code",
   "execution_count": null,
   "id": "3dcb656e",
   "metadata": {},
   "outputs": [],
   "source": []
  }
 ],
 "metadata": {
  "kernelspec": {
   "display_name": "Python 3 (ipykernel)",
   "language": "python",
   "name": "python3"
  },
  "language_info": {
   "codemirror_mode": {
    "name": "ipython",
    "version": 3
   },
   "file_extension": ".py",
   "mimetype": "text/x-python",
   "name": "python",
   "nbconvert_exporter": "python",
   "pygments_lexer": "ipython3",
   "version": "3.9.13"
  }
 },
 "nbformat": 4,
 "nbformat_minor": 5
}
