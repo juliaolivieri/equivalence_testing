{
 "cells": [
  {
   "cell_type": "code",
   "execution_count": 6,
   "id": "b2f5d7f5",
   "metadata": {
    "ExecuteTime": {
     "end_time": "2024-02-14T19:09:49.410882Z",
     "start_time": "2024-02-14T19:09:48.678481Z"
    }
   },
   "outputs": [],
   "source": [
    "import pandas as pd\n",
    "import random"
   ]
  },
  {
   "cell_type": "code",
   "execution_count": 7,
   "id": "975e51ba",
   "metadata": {
    "ExecuteTime": {
     "end_time": "2024-02-14T19:09:49.416847Z",
     "start_time": "2024-02-14T19:09:49.413481Z"
    }
   },
   "outputs": [],
   "source": [
    "outpath = \"/exports/home/jolivieri/equivalence_testing/notebooks/output/sample_tabular_data/\"\n",
    "inpath = \"/exports/home/jolivieri/equivalence_testing/scripts/output/HLCA_data_processing/\""
   ]
  },
  {
   "cell_type": "code",
   "execution_count": 8,
   "id": "61b56821",
   "metadata": {
    "ExecuteTime": {
     "end_time": "2024-02-14T19:09:49.421542Z",
     "start_time": "2024-02-14T19:09:49.418632Z"
    }
   },
   "outputs": [],
   "source": [
    "# dataname = \"HLCA_normal_1000_CD4-positive-alpha-beta-T-cell_CD8-positive-alpha-beta-T-cell\"\n",
    "# dataname = \"HLCA_normal_1000_classical-monocyte_non-classical-monocyte\"\n",
    "dataname = \"HLCA_normal_1000_alveolar-macrophage_elicited-macrophage\""
   ]
  },
  {
   "cell_type": "code",
   "execution_count": 9,
   "id": "c4795786",
   "metadata": {
    "ExecuteTime": {
     "end_time": "2024-02-14T19:14:15.746675Z",
     "start_time": "2024-02-14T19:09:49.423901Z"
    }
   },
   "outputs": [],
   "source": [
    "df = pd.read_csv(\"{}{}_data.csv\".format(inpath, dataname), index_col=0)"
   ]
  },
  {
   "cell_type": "code",
   "execution_count": 10,
   "id": "645ef2cd",
   "metadata": {
    "ExecuteTime": {
     "end_time": "2024-02-14T19:14:16.970242Z",
     "start_time": "2024-02-14T19:14:15.750360Z"
    }
   },
   "outputs": [
    {
     "name": "stderr",
     "output_type": "stream",
     "text": [
      "/tmp/ipykernel_36321/3471569333.py:1: DtypeWarning: Columns (38) have mixed types. Specify dtype option on import or set low_memory=False.\n",
      "  meta = pd.read_csv(\"{}{}_meta.csv\".format(inpath, dataname), index_col = 0)\n"
     ]
    }
   ],
   "source": [
    "meta = pd.read_csv(\"{}{}_meta.csv\".format(inpath, dataname), index_col = 0)"
   ]
  },
  {
   "cell_type": "code",
   "execution_count": 11,
   "id": "cf44b0ab",
   "metadata": {
    "ExecuteTime": {
     "end_time": "2024-02-14T19:14:16.985338Z",
     "start_time": "2024-02-14T19:14:16.972557Z"
    }
   },
   "outputs": [
    {
     "data": {
      "text/plain": [
       "(51749, 11029)"
      ]
     },
     "execution_count": 11,
     "metadata": {},
     "output_type": "execute_result"
    }
   ],
   "source": [
    "df.shape"
   ]
  },
  {
   "cell_type": "code",
   "execution_count": 12,
   "id": "1f3dc204",
   "metadata": {
    "ExecuteTime": {
     "end_time": "2024-02-14T19:14:17.014553Z",
     "start_time": "2024-02-14T19:14:16.988345Z"
    }
   },
   "outputs": [],
   "source": [
    "df[\"cell_type\"] = meta[\"cell_type\"]"
   ]
  },
  {
   "cell_type": "code",
   "execution_count": 13,
   "id": "6a6ae83a",
   "metadata": {
    "ExecuteTime": {
     "end_time": "2024-02-14T19:21:43.023006Z",
     "start_time": "2024-02-14T19:14:17.016695Z"
    }
   },
   "outputs": [],
   "source": [
    "df.to_csv(\"{}{}.csv\".format(outpath, dataname))\n"
   ]
  },
  {
   "cell_type": "code",
   "execution_count": 14,
   "id": "b17e3f8e",
   "metadata": {
    "ExecuteTime": {
     "end_time": "2024-02-14T19:21:43.093188Z",
     "start_time": "2024-02-14T19:21:43.025931Z"
    }
   },
   "outputs": [
    {
     "data": {
      "text/html": [
       "<div>\n",
       "<style scoped>\n",
       "    .dataframe tbody tr th:only-of-type {\n",
       "        vertical-align: middle;\n",
       "    }\n",
       "\n",
       "    .dataframe tbody tr th {\n",
       "        vertical-align: top;\n",
       "    }\n",
       "\n",
       "    .dataframe thead th {\n",
       "        text-align: right;\n",
       "    }\n",
       "</style>\n",
       "<table border=\"1\" class=\"dataframe\">\n",
       "  <thead>\n",
       "    <tr style=\"text-align: right;\">\n",
       "      <th></th>\n",
       "      <th>DPM1</th>\n",
       "      <th>SCYL3</th>\n",
       "      <th>C1orf112</th>\n",
       "      <th>FGR</th>\n",
       "      <th>CFH</th>\n",
       "      <th>FUCA2</th>\n",
       "      <th>GCLC</th>\n",
       "      <th>NFYA</th>\n",
       "      <th>STPG1</th>\n",
       "      <th>NIPAL3</th>\n",
       "      <th>...</th>\n",
       "      <th>PAGR1</th>\n",
       "      <th>LINC00294</th>\n",
       "      <th>TRG-AS1</th>\n",
       "      <th>SEPSECS-AS1</th>\n",
       "      <th>CH17-195P21.2</th>\n",
       "      <th>EBLN3P</th>\n",
       "      <th>ADORA3</th>\n",
       "      <th>BISPR</th>\n",
       "      <th>LLNLR-245B6.1</th>\n",
       "      <th>cell_type</th>\n",
       "    </tr>\n",
       "  </thead>\n",
       "  <tbody>\n",
       "    <tr>\n",
       "      <th>GCGACCATCCCTAACC_SC22</th>\n",
       "      <td>0.694030</td>\n",
       "      <td>0.000000</td>\n",
       "      <td>0.0</td>\n",
       "      <td>0.000000</td>\n",
       "      <td>0.0</td>\n",
       "      <td>0.000000</td>\n",
       "      <td>0.000000</td>\n",
       "      <td>0.0</td>\n",
       "      <td>0.0</td>\n",
       "      <td>0.000000</td>\n",
       "      <td>...</td>\n",
       "      <td>0.00000</td>\n",
       "      <td>0.0</td>\n",
       "      <td>0.000000</td>\n",
       "      <td>0.000000</td>\n",
       "      <td>0.0</td>\n",
       "      <td>0.000000</td>\n",
       "      <td>0.000000</td>\n",
       "      <td>0.00000</td>\n",
       "      <td>0.000000</td>\n",
       "      <td>alveolar macrophage</td>\n",
       "    </tr>\n",
       "    <tr>\n",
       "      <th>AGGGAGTAGCGTTTAC_SC18</th>\n",
       "      <td>0.000000</td>\n",
       "      <td>0.000000</td>\n",
       "      <td>0.0</td>\n",
       "      <td>1.775537</td>\n",
       "      <td>0.0</td>\n",
       "      <td>0.000000</td>\n",
       "      <td>0.000000</td>\n",
       "      <td>0.0</td>\n",
       "      <td>0.0</td>\n",
       "      <td>0.000000</td>\n",
       "      <td>...</td>\n",
       "      <td>0.00000</td>\n",
       "      <td>0.0</td>\n",
       "      <td>0.000000</td>\n",
       "      <td>0.000000</td>\n",
       "      <td>0.0</td>\n",
       "      <td>0.000000</td>\n",
       "      <td>0.000000</td>\n",
       "      <td>0.00000</td>\n",
       "      <td>0.000000</td>\n",
       "      <td>alveolar macrophage</td>\n",
       "    </tr>\n",
       "    <tr>\n",
       "      <th>CGACTTCCATTCCTGC_HD68</th>\n",
       "      <td>0.000000</td>\n",
       "      <td>0.000000</td>\n",
       "      <td>0.0</td>\n",
       "      <td>0.857299</td>\n",
       "      <td>0.0</td>\n",
       "      <td>0.000000</td>\n",
       "      <td>0.857299</td>\n",
       "      <td>0.0</td>\n",
       "      <td>0.0</td>\n",
       "      <td>0.000000</td>\n",
       "      <td>...</td>\n",
       "      <td>0.00000</td>\n",
       "      <td>0.0</td>\n",
       "      <td>0.857299</td>\n",
       "      <td>0.000000</td>\n",
       "      <td>0.0</td>\n",
       "      <td>0.000000</td>\n",
       "      <td>0.000000</td>\n",
       "      <td>0.00000</td>\n",
       "      <td>0.000000</td>\n",
       "      <td>alveolar macrophage</td>\n",
       "    </tr>\n",
       "    <tr>\n",
       "      <th>TCATGAGGTCGCAGTC_SC142</th>\n",
       "      <td>0.000000</td>\n",
       "      <td>0.000000</td>\n",
       "      <td>0.0</td>\n",
       "      <td>1.048080</td>\n",
       "      <td>0.0</td>\n",
       "      <td>0.380518</td>\n",
       "      <td>0.380518</td>\n",
       "      <td>0.0</td>\n",
       "      <td>0.0</td>\n",
       "      <td>0.000000</td>\n",
       "      <td>...</td>\n",
       "      <td>0.00000</td>\n",
       "      <td>0.0</td>\n",
       "      <td>0.000000</td>\n",
       "      <td>0.655489</td>\n",
       "      <td>0.0</td>\n",
       "      <td>0.380518</td>\n",
       "      <td>0.380518</td>\n",
       "      <td>0.00000</td>\n",
       "      <td>0.000000</td>\n",
       "      <td>alveolar macrophage</td>\n",
       "    </tr>\n",
       "    <tr>\n",
       "      <th>CCCAGTTCATACCATG_SC24</th>\n",
       "      <td>0.000000</td>\n",
       "      <td>0.000000</td>\n",
       "      <td>0.0</td>\n",
       "      <td>1.248045</td>\n",
       "      <td>0.0</td>\n",
       "      <td>0.603136</td>\n",
       "      <td>0.000000</td>\n",
       "      <td>0.0</td>\n",
       "      <td>0.0</td>\n",
       "      <td>0.000000</td>\n",
       "      <td>...</td>\n",
       "      <td>0.00000</td>\n",
       "      <td>0.0</td>\n",
       "      <td>0.000000</td>\n",
       "      <td>0.603136</td>\n",
       "      <td>0.0</td>\n",
       "      <td>0.000000</td>\n",
       "      <td>0.000000</td>\n",
       "      <td>0.00000</td>\n",
       "      <td>0.000000</td>\n",
       "      <td>alveolar macrophage</td>\n",
       "    </tr>\n",
       "    <tr>\n",
       "      <th>...</th>\n",
       "      <td>...</td>\n",
       "      <td>...</td>\n",
       "      <td>...</td>\n",
       "      <td>...</td>\n",
       "      <td>...</td>\n",
       "      <td>...</td>\n",
       "      <td>...</td>\n",
       "      <td>...</td>\n",
       "      <td>...</td>\n",
       "      <td>...</td>\n",
       "      <td>...</td>\n",
       "      <td>...</td>\n",
       "      <td>...</td>\n",
       "      <td>...</td>\n",
       "      <td>...</td>\n",
       "      <td>...</td>\n",
       "      <td>...</td>\n",
       "      <td>...</td>\n",
       "      <td>...</td>\n",
       "      <td>...</td>\n",
       "      <td>...</td>\n",
       "    </tr>\n",
       "    <tr>\n",
       "      <th>TTTGCGCTCAGAGACG_F01394</th>\n",
       "      <td>0.000000</td>\n",
       "      <td>0.000000</td>\n",
       "      <td>0.0</td>\n",
       "      <td>1.433920</td>\n",
       "      <td>0.0</td>\n",
       "      <td>0.000000</td>\n",
       "      <td>0.000000</td>\n",
       "      <td>0.0</td>\n",
       "      <td>0.0</td>\n",
       "      <td>0.000000</td>\n",
       "      <td>...</td>\n",
       "      <td>1.43392</td>\n",
       "      <td>0.0</td>\n",
       "      <td>0.000000</td>\n",
       "      <td>0.000000</td>\n",
       "      <td>0.0</td>\n",
       "      <td>0.000000</td>\n",
       "      <td>0.000000</td>\n",
       "      <td>1.43392</td>\n",
       "      <td>0.000000</td>\n",
       "      <td>alveolar macrophage</td>\n",
       "    </tr>\n",
       "    <tr>\n",
       "      <th>CTCATTATCGGCTTCT_SC144</th>\n",
       "      <td>0.000000</td>\n",
       "      <td>0.000000</td>\n",
       "      <td>0.0</td>\n",
       "      <td>1.463045</td>\n",
       "      <td>0.0</td>\n",
       "      <td>0.604192</td>\n",
       "      <td>0.604192</td>\n",
       "      <td>0.0</td>\n",
       "      <td>0.0</td>\n",
       "      <td>0.604192</td>\n",
       "      <td>...</td>\n",
       "      <td>0.00000</td>\n",
       "      <td>0.0</td>\n",
       "      <td>0.000000</td>\n",
       "      <td>0.000000</td>\n",
       "      <td>0.0</td>\n",
       "      <td>0.000000</td>\n",
       "      <td>0.000000</td>\n",
       "      <td>0.00000</td>\n",
       "      <td>0.000000</td>\n",
       "      <td>alveolar macrophage</td>\n",
       "    </tr>\n",
       "    <tr>\n",
       "      <th>AGAACCTGTATTGCCA_SC142</th>\n",
       "      <td>0.398517</td>\n",
       "      <td>0.398517</td>\n",
       "      <td>0.0</td>\n",
       "      <td>1.487791</td>\n",
       "      <td>0.0</td>\n",
       "      <td>0.398517</td>\n",
       "      <td>0.398517</td>\n",
       "      <td>0.0</td>\n",
       "      <td>0.0</td>\n",
       "      <td>0.000000</td>\n",
       "      <td>...</td>\n",
       "      <td>0.00000</td>\n",
       "      <td>0.0</td>\n",
       "      <td>0.000000</td>\n",
       "      <td>0.000000</td>\n",
       "      <td>0.0</td>\n",
       "      <td>0.000000</td>\n",
       "      <td>0.000000</td>\n",
       "      <td>0.00000</td>\n",
       "      <td>0.000000</td>\n",
       "      <td>alveolar macrophage</td>\n",
       "    </tr>\n",
       "    <tr>\n",
       "      <th>CGAACATAGGCCATAG_SC07</th>\n",
       "      <td>0.000000</td>\n",
       "      <td>0.000000</td>\n",
       "      <td>0.0</td>\n",
       "      <td>0.581128</td>\n",
       "      <td>0.0</td>\n",
       "      <td>0.581128</td>\n",
       "      <td>0.000000</td>\n",
       "      <td>0.0</td>\n",
       "      <td>0.0</td>\n",
       "      <td>0.000000</td>\n",
       "      <td>...</td>\n",
       "      <td>0.00000</td>\n",
       "      <td>0.0</td>\n",
       "      <td>0.581128</td>\n",
       "      <td>0.000000</td>\n",
       "      <td>0.0</td>\n",
       "      <td>0.000000</td>\n",
       "      <td>0.000000</td>\n",
       "      <td>0.00000</td>\n",
       "      <td>0.581128</td>\n",
       "      <td>alveolar macrophage</td>\n",
       "    </tr>\n",
       "    <tr>\n",
       "      <th>AAATGCCAGCTCCCAG-SC45</th>\n",
       "      <td>0.000000</td>\n",
       "      <td>0.000000</td>\n",
       "      <td>0.0</td>\n",
       "      <td>0.000000</td>\n",
       "      <td>0.0</td>\n",
       "      <td>0.000000</td>\n",
       "      <td>0.000000</td>\n",
       "      <td>0.0</td>\n",
       "      <td>0.0</td>\n",
       "      <td>0.000000</td>\n",
       "      <td>...</td>\n",
       "      <td>0.00000</td>\n",
       "      <td>0.0</td>\n",
       "      <td>0.000000</td>\n",
       "      <td>0.000000</td>\n",
       "      <td>0.0</td>\n",
       "      <td>1.049382</td>\n",
       "      <td>0.000000</td>\n",
       "      <td>0.00000</td>\n",
       "      <td>0.000000</td>\n",
       "      <td>elicited macrophage</td>\n",
       "    </tr>\n",
       "  </tbody>\n",
       "</table>\n",
       "<p>51749 rows × 11030 columns</p>\n",
       "</div>"
      ],
      "text/plain": [
       "                             DPM1     SCYL3  C1orf112       FGR  CFH  \\\n",
       "GCGACCATCCCTAACC_SC22    0.694030  0.000000       0.0  0.000000  0.0   \n",
       "AGGGAGTAGCGTTTAC_SC18    0.000000  0.000000       0.0  1.775537  0.0   \n",
       "CGACTTCCATTCCTGC_HD68    0.000000  0.000000       0.0  0.857299  0.0   \n",
       "TCATGAGGTCGCAGTC_SC142   0.000000  0.000000       0.0  1.048080  0.0   \n",
       "CCCAGTTCATACCATG_SC24    0.000000  0.000000       0.0  1.248045  0.0   \n",
       "...                           ...       ...       ...       ...  ...   \n",
       "TTTGCGCTCAGAGACG_F01394  0.000000  0.000000       0.0  1.433920  0.0   \n",
       "CTCATTATCGGCTTCT_SC144   0.000000  0.000000       0.0  1.463045  0.0   \n",
       "AGAACCTGTATTGCCA_SC142   0.398517  0.398517       0.0  1.487791  0.0   \n",
       "CGAACATAGGCCATAG_SC07    0.000000  0.000000       0.0  0.581128  0.0   \n",
       "AAATGCCAGCTCCCAG-SC45    0.000000  0.000000       0.0  0.000000  0.0   \n",
       "\n",
       "                            FUCA2      GCLC  NFYA  STPG1    NIPAL3  ...  \\\n",
       "GCGACCATCCCTAACC_SC22    0.000000  0.000000   0.0    0.0  0.000000  ...   \n",
       "AGGGAGTAGCGTTTAC_SC18    0.000000  0.000000   0.0    0.0  0.000000  ...   \n",
       "CGACTTCCATTCCTGC_HD68    0.000000  0.857299   0.0    0.0  0.000000  ...   \n",
       "TCATGAGGTCGCAGTC_SC142   0.380518  0.380518   0.0    0.0  0.000000  ...   \n",
       "CCCAGTTCATACCATG_SC24    0.603136  0.000000   0.0    0.0  0.000000  ...   \n",
       "...                           ...       ...   ...    ...       ...  ...   \n",
       "TTTGCGCTCAGAGACG_F01394  0.000000  0.000000   0.0    0.0  0.000000  ...   \n",
       "CTCATTATCGGCTTCT_SC144   0.604192  0.604192   0.0    0.0  0.604192  ...   \n",
       "AGAACCTGTATTGCCA_SC142   0.398517  0.398517   0.0    0.0  0.000000  ...   \n",
       "CGAACATAGGCCATAG_SC07    0.581128  0.000000   0.0    0.0  0.000000  ...   \n",
       "AAATGCCAGCTCCCAG-SC45    0.000000  0.000000   0.0    0.0  0.000000  ...   \n",
       "\n",
       "                           PAGR1  LINC00294   TRG-AS1  SEPSECS-AS1  \\\n",
       "GCGACCATCCCTAACC_SC22    0.00000        0.0  0.000000     0.000000   \n",
       "AGGGAGTAGCGTTTAC_SC18    0.00000        0.0  0.000000     0.000000   \n",
       "CGACTTCCATTCCTGC_HD68    0.00000        0.0  0.857299     0.000000   \n",
       "TCATGAGGTCGCAGTC_SC142   0.00000        0.0  0.000000     0.655489   \n",
       "CCCAGTTCATACCATG_SC24    0.00000        0.0  0.000000     0.603136   \n",
       "...                          ...        ...       ...          ...   \n",
       "TTTGCGCTCAGAGACG_F01394  1.43392        0.0  0.000000     0.000000   \n",
       "CTCATTATCGGCTTCT_SC144   0.00000        0.0  0.000000     0.000000   \n",
       "AGAACCTGTATTGCCA_SC142   0.00000        0.0  0.000000     0.000000   \n",
       "CGAACATAGGCCATAG_SC07    0.00000        0.0  0.581128     0.000000   \n",
       "AAATGCCAGCTCCCAG-SC45    0.00000        0.0  0.000000     0.000000   \n",
       "\n",
       "                         CH17-195P21.2    EBLN3P    ADORA3    BISPR  \\\n",
       "GCGACCATCCCTAACC_SC22              0.0  0.000000  0.000000  0.00000   \n",
       "AGGGAGTAGCGTTTAC_SC18              0.0  0.000000  0.000000  0.00000   \n",
       "CGACTTCCATTCCTGC_HD68              0.0  0.000000  0.000000  0.00000   \n",
       "TCATGAGGTCGCAGTC_SC142             0.0  0.380518  0.380518  0.00000   \n",
       "CCCAGTTCATACCATG_SC24              0.0  0.000000  0.000000  0.00000   \n",
       "...                                ...       ...       ...      ...   \n",
       "TTTGCGCTCAGAGACG_F01394            0.0  0.000000  0.000000  1.43392   \n",
       "CTCATTATCGGCTTCT_SC144             0.0  0.000000  0.000000  0.00000   \n",
       "AGAACCTGTATTGCCA_SC142             0.0  0.000000  0.000000  0.00000   \n",
       "CGAACATAGGCCATAG_SC07              0.0  0.000000  0.000000  0.00000   \n",
       "AAATGCCAGCTCCCAG-SC45              0.0  1.049382  0.000000  0.00000   \n",
       "\n",
       "                         LLNLR-245B6.1            cell_type  \n",
       "GCGACCATCCCTAACC_SC22         0.000000  alveolar macrophage  \n",
       "AGGGAGTAGCGTTTAC_SC18         0.000000  alveolar macrophage  \n",
       "CGACTTCCATTCCTGC_HD68         0.000000  alveolar macrophage  \n",
       "TCATGAGGTCGCAGTC_SC142        0.000000  alveolar macrophage  \n",
       "CCCAGTTCATACCATG_SC24         0.000000  alveolar macrophage  \n",
       "...                                ...                  ...  \n",
       "TTTGCGCTCAGAGACG_F01394       0.000000  alveolar macrophage  \n",
       "CTCATTATCGGCTTCT_SC144        0.000000  alveolar macrophage  \n",
       "AGAACCTGTATTGCCA_SC142        0.000000  alveolar macrophage  \n",
       "CGAACATAGGCCATAG_SC07         0.581128  alveolar macrophage  \n",
       "AAATGCCAGCTCCCAG-SC45         0.000000  elicited macrophage  \n",
       "\n",
       "[51749 rows x 11030 columns]"
      ]
     },
     "execution_count": 14,
     "metadata": {},
     "output_type": "execute_result"
    }
   ],
   "source": [
    "df"
   ]
  },
  {
   "cell_type": "code",
   "execution_count": 15,
   "id": "e2edfaeb",
   "metadata": {
    "ExecuteTime": {
     "end_time": "2024-02-14T19:21:43.286426Z",
     "start_time": "2024-02-14T19:21:43.095129Z"
    }
   },
   "outputs": [],
   "source": [
    "random.seed(123)\n",
    "num_cells = 1000\n",
    "num_genes = 100\n",
    "\n",
    "# sample the given number of cells and genes\n",
    "# include cell type column\n",
    "sub_df = df.sample(axis=0, n=num_cells)\n",
    "cell_type = sub_df[\"cell_type\"]\n",
    "sub_df = sub_df.drop(\"cell_type\", axis=1).sample(axis=1,n=num_genes)\n",
    "sub_df[\"cell_type\"] = cell_type"
   ]
  },
  {
   "cell_type": "code",
   "execution_count": 16,
   "id": "5f013cf9",
   "metadata": {
    "ExecuteTime": {
     "end_time": "2024-02-14T19:21:43.361965Z",
     "start_time": "2024-02-14T19:21:43.288503Z"
    }
   },
   "outputs": [],
   "source": [
    "sub_df.to_csv(\"{}{}_{}_{}.csv\".format(outpath, dataname, num_cells, num_genes))"
   ]
  },
  {
   "cell_type": "code",
   "execution_count": null,
   "id": "7803bff1",
   "metadata": {},
   "outputs": [],
   "source": []
  }
 ],
 "metadata": {
  "kernelspec": {
   "display_name": "Python 3 (ipykernel)",
   "language": "python",
   "name": "python3"
  },
  "language_info": {
   "codemirror_mode": {
    "name": "ipython",
    "version": 3
   },
   "file_extension": ".py",
   "mimetype": "text/x-python",
   "name": "python",
   "nbconvert_exporter": "python",
   "pygments_lexer": "ipython3",
   "version": "3.9.13"
  }
 },
 "nbformat": 4,
 "nbformat_minor": 5
}
