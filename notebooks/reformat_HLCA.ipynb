{
 "cells": [
  {
   "cell_type": "code",
   "execution_count": 1,
   "id": "5809324d-7790-4b7d-b33e-26aef5a4e373",
   "metadata": {},
   "outputs": [
    {
     "name": "stdout",
     "output_type": "stream",
     "text": [
      "Intel MKL WARNING: Support of Intel(R) Streaming SIMD Extensions 4.2 (Intel(R) SSE4.2) enabled only processors has been deprecated. Intel oneAPI Math Kernel Library 2025.0 will require Intel(R) Advanced Vector Extensions (Intel(R) AVX) instructions.\n",
      "Intel MKL WARNING: Support of Intel(R) Streaming SIMD Extensions 4.2 (Intel(R) SSE4.2) enabled only processors has been deprecated. Intel oneAPI Math Kernel Library 2025.0 will require Intel(R) Advanced Vector Extensions (Intel(R) AVX) instructions.\n"
     ]
    }
   ],
   "source": [
    "import argparse\n",
    "import matplotlib.pyplot as plt\n",
    "import numpy as np\n",
    "import pandas as pd\n",
    "import scipy.stats as stats\n",
    "#import statsmodels.stats.multitest as multitest\n",
    "import tqdm\n",
    "\n",
    "\n",
    "#from equiv_test_funcs import *\n",
    "\n"
   ]
  },
  {
   "cell_type": "code",
   "execution_count": 14,
   "id": "05d8389e",
   "metadata": {},
   "outputs": [],
   "source": [
    "outpath = \"/Users/jolivie1/Desktop/Research/equivalence_testing_output/notebooks/output/reformat_HLCA/\"\n",
    "name = \"HLCA_normal_1000_ciliated-columnar-cell-of-tracheobronchial-tree_CD8-positive-alpha-beta-T-cell_all_all_raw\""
   ]
  },
  {
   "cell_type": "code",
   "execution_count": null,
   "id": "58984c61",
   "metadata": {},
   "outputs": [],
   "source": [
    "df = pd.read_csv(\"~/Desktop/equivalence_testing_output/scripts/output/sample_tabular_data/{}.csv\".format(name), index_col = 0)"
   ]
  },
  {
   "cell_type": "code",
   "execution_count": null,
   "id": "24546955",
   "metadata": {},
   "outputs": [],
   "source": [
    "df.T.head()"
   ]
  },
  {
   "cell_type": "code",
   "execution_count": null,
   "id": "c3e29ce4",
   "metadata": {},
   "outputs": [],
   "source": [
    "df.T.iloc[:-1,:].to_csv(\"{}{}_counts.csv\".format(outpath, name))"
   ]
  },
  {
   "cell_type": "code",
   "execution_count": null,
   "id": "0347bc41",
   "metadata": {},
   "outputs": [],
   "source": [
    "df[\"cell_type\"].to_csv(\"{}{}_meta.csv\".format(outpath, name))"
   ]
  },
  {
   "cell_type": "code",
   "execution_count": null,
   "id": "7b7e3130-f540-48ef-afb7-e25aa0b2ac0e",
   "metadata": {},
   "outputs": [],
   "source": []
  }
 ],
 "metadata": {
  "kernelspec": {
   "display_name": "Python 3 (ipykernel)",
   "language": "python",
   "name": "python3"
  },
  "language_info": {
   "codemirror_mode": {
    "name": "ipython",
    "version": 3
   },
   "file_extension": ".py",
   "mimetype": "text/x-python",
   "name": "python",
   "nbconvert_exporter": "python",
   "pygments_lexer": "ipython3",
   "version": "3.9.19"
  }
 },
 "nbformat": 4,
 "nbformat_minor": 5
}
