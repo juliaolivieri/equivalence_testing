{
 "cells": [
  {
   "cell_type": "code",
   "execution_count": 93,
   "id": "d42118bd-7ffc-42ba-8700-8653c9e4e085",
   "metadata": {},
   "outputs": [],
   "source": [
    "import matplotlib.pyplot as plt\n",
    "import numpy as np\n",
    "import pandas as pd\n",
    "import scipy as sp\n",
    "import statsmodels.stats.multitest\n",
    "import tqdm"
   ]
  },
  {
   "cell_type": "markdown",
   "id": "84283d0f-4c01-485c-843e-7f330b174cf2",
   "metadata": {},
   "source": [
    "## Preprocess data\n",
    "\n",
    "Decide on which two stages to analyze, rename columns so they're human-readable, normalize by column sum"
   ]
  },
  {
   "cell_type": "code",
   "execution_count": 57,
   "id": "0b6f1ffa-77e0-4eb5-861d-6125be8c75e0",
   "metadata": {},
   "outputs": [],
   "source": [
    "gene_exp_mat = \"/exports/home/jolivieri/bowtie2/output/ge.mat\"\n",
    "meta_file = \"/exports/home/jolivieri/data/bulk/PRJNA930874/meta.csv\"\n",
    "df = pd.read_csv(gene_exp_mat,sep=\"\\t\", index_col = 0)\n",
    "meta = pd.read_csv(meta_file)\n",
    "\n",
    "# get runs in this dataframe\n",
    "SRRs = [x.split(\"/\")[-1].split(\".\")[0] for x in df.columns]\n",
    "\n",
    "# get stages corresponding to runs\n",
    "dict_df = meta[meta[\"Run\"].isin(SRRs)][[\"Run\",\"stage\"]]\n",
    "run_dict = pd.Series(dict_df.stage.values,index=dict_df.Run).to_dict()\n",
    "\n",
    "\n"
   ]
  },
  {
   "cell_type": "code",
   "execution_count": 58,
   "id": "ec1d8004-4ebe-4529-bf50-8759d60bf8a4",
   "metadata": {},
   "outputs": [
    {
     "data": {
      "text/plain": [
       "stage\n",
       " A. thaliana uninucleate microspore              3326362.20\n",
       " A. thaliana polarised uninucleate microspore    4045645.00\n",
       " A. thaliana tricellular pollen                  4186699.25\n",
       " A. thaliana bicellular pollen                   5185501.75\n",
       "Name: 0, dtype: float64"
      ]
     },
     "execution_count": 58,
     "metadata": {},
     "output_type": "execute_result"
    }
   ],
   "source": [
    "# Find the number of gene counts corresponding to each stage\n",
    "sum_ser = df.sum().to_frame()\n",
    "sum_ser[\"Run\"] = [x.split(\"/\")[-1].split(\".\")[0] for x in sum_ser.index]\n",
    "sum_ser[\"stage\"] = sum_ser[\"Run\"].map(run_dict)\n",
    "sum_ser.groupby(\"stage\")[0].mean().sort_values()"
   ]
  },
  {
   "cell_type": "code",
   "execution_count": 59,
   "id": "7b6af69e-232b-45e7-b6a9-6a652ad2e7fc",
   "metadata": {},
   "outputs": [
    {
     "data": {
      "text/plain": [
       "output/SRR23387027.sam    SRR23387027\n",
       "output/SRR23387028.sam    SRR23387028\n",
       "output/SRR23387031.sam    SRR23387031\n",
       "output/SRR23387032.sam    SRR23387032\n",
       "output/SRR23387036.sam    SRR23387036\n",
       "output/SRR23387037.sam    SRR23387037\n",
       "output/SRR23387040.sam    SRR23387040\n",
       "output/SRR23387041.sam    SRR23387041\n",
       "Name: Run, dtype: object"
      ]
     },
     "execution_count": 59,
     "metadata": {},
     "output_type": "execute_result"
    }
   ],
   "source": [
    "# Subset to only the two stages with the most gene counts\n",
    "stages = list(sum_ser.groupby(\"stage\")[0].mean().sort_values()[-2:].index)\n",
    "# stages = [\" A. thaliana bicellular pollen\",\" A. thaliana tricellular pollen\"]\n",
    "\n",
    "sum_ser[sum_ser[\"stage\"].isin(stages)][\"Run\"]"
   ]
  },
  {
   "cell_type": "code",
   "execution_count": 60,
   "id": "037134cc-8915-40aa-8e27-f16956f58e67",
   "metadata": {},
   "outputs": [
    {
     "data": {
      "text/plain": [
       "{'output/SRR23387027.sam': 'tricellular_0',\n",
       " 'output/SRR23387028.sam': 'bicellular_1',\n",
       " 'output/SRR23387031.sam': 'tricellular_4',\n",
       " 'output/SRR23387032.sam': 'bicellular_5',\n",
       " 'output/SRR23387036.sam': 'tricellular_9',\n",
       " 'output/SRR23387037.sam': 'bicellular_10',\n",
       " 'output/SRR23387040.sam': 'tricellular_13',\n",
       " 'output/SRR23387041.sam': 'bicellular_14'}"
      ]
     },
     "execution_count": 60,
     "metadata": {},
     "output_type": "execute_result"
    }
   ],
   "source": [
    "# Replace column names with names that indicate which condition it's in\n",
    "sum_ser[\"num\"] = range(sum_ser.shape[0])\n",
    "sum_ser[\"stage_sub\"] = sum_ser[\"stage\"].str.split(\" \").str[3] + \"_\" + sum_ser[\"num\"].astype(str)\n",
    "#sum_ser[sum_ser[\"stage\"].isin(stages)][\"stage_sub\"]\n",
    "\n",
    "name_dict = sum_ser[sum_ser[\"stage\"].isin(stages)][\"stage_sub\"].to_dict()\n",
    "name_dict"
   ]
  },
  {
   "cell_type": "code",
   "execution_count": 61,
   "id": "a10fba6d-5121-4937-b486-bd993e00f9e8",
   "metadata": {},
   "outputs": [
    {
     "data": {
      "text/html": [
       "<div>\n",
       "<style scoped>\n",
       "    .dataframe tbody tr th:only-of-type {\n",
       "        vertical-align: middle;\n",
       "    }\n",
       "\n",
       "    .dataframe tbody tr th {\n",
       "        vertical-align: top;\n",
       "    }\n",
       "\n",
       "    .dataframe thead th {\n",
       "        text-align: right;\n",
       "    }\n",
       "</style>\n",
       "<table border=\"1\" class=\"dataframe\">\n",
       "  <thead>\n",
       "    <tr style=\"text-align: right;\">\n",
       "      <th></th>\n",
       "      <th>tricellular_0</th>\n",
       "      <th>bicellular_1</th>\n",
       "      <th>tricellular_4</th>\n",
       "      <th>bicellular_5</th>\n",
       "      <th>tricellular_9</th>\n",
       "      <th>bicellular_10</th>\n",
       "      <th>tricellular_13</th>\n",
       "      <th>bicellular_14</th>\n",
       "    </tr>\n",
       "    <tr>\n",
       "      <th>Geneid</th>\n",
       "      <th></th>\n",
       "      <th></th>\n",
       "      <th></th>\n",
       "      <th></th>\n",
       "      <th></th>\n",
       "      <th></th>\n",
       "      <th></th>\n",
       "      <th></th>\n",
       "    </tr>\n",
       "  </thead>\n",
       "  <tbody>\n",
       "    <tr>\n",
       "      <th>AT1G01010</th>\n",
       "      <td>0.000000e+00</td>\n",
       "      <td>2.691679e-05</td>\n",
       "      <td>3.244789e-06</td>\n",
       "      <td>0.000000</td>\n",
       "      <td>0.000000e+00</td>\n",
       "      <td>2.504122e-07</td>\n",
       "      <td>1.587719e-06</td>\n",
       "      <td>1.279539e-06</td>\n",
       "    </tr>\n",
       "    <tr>\n",
       "      <th>AT1G01020</th>\n",
       "      <td>0.000000e+00</td>\n",
       "      <td>6.622948e-05</td>\n",
       "      <td>6.083980e-07</td>\n",
       "      <td>0.000017</td>\n",
       "      <td>3.287859e-07</td>\n",
       "      <td>4.432297e-05</td>\n",
       "      <td>0.000000e+00</td>\n",
       "      <td>1.827913e-07</td>\n",
       "    </tr>\n",
       "    <tr>\n",
       "      <th>AT1G01030</th>\n",
       "      <td>0.000000e+00</td>\n",
       "      <td>3.736476e-05</td>\n",
       "      <td>5.820340e-05</td>\n",
       "      <td>0.000009</td>\n",
       "      <td>2.663166e-05</td>\n",
       "      <td>7.337079e-05</td>\n",
       "      <td>7.938593e-07</td>\n",
       "      <td>2.193495e-06</td>\n",
       "    </tr>\n",
       "    <tr>\n",
       "      <th>AT1G01040</th>\n",
       "      <td>2.540391e-04</td>\n",
       "      <td>1.698237e-04</td>\n",
       "      <td>1.421623e-04</td>\n",
       "      <td>0.000005</td>\n",
       "      <td>2.206153e-04</td>\n",
       "      <td>2.163562e-04</td>\n",
       "      <td>4.425766e-04</td>\n",
       "      <td>1.085780e-04</td>\n",
       "    </tr>\n",
       "    <tr>\n",
       "      <th>AT1G01046</th>\n",
       "      <td>9.369199e-06</td>\n",
       "      <td>0.000000e+00</td>\n",
       "      <td>0.000000e+00</td>\n",
       "      <td>0.000000</td>\n",
       "      <td>0.000000e+00</td>\n",
       "      <td>0.000000e+00</td>\n",
       "      <td>0.000000e+00</td>\n",
       "      <td>0.000000e+00</td>\n",
       "    </tr>\n",
       "    <tr>\n",
       "      <th>...</th>\n",
       "      <td>...</td>\n",
       "      <td>...</td>\n",
       "      <td>...</td>\n",
       "      <td>...</td>\n",
       "      <td>...</td>\n",
       "      <td>...</td>\n",
       "      <td>...</td>\n",
       "      <td>...</td>\n",
       "    </tr>\n",
       "    <tr>\n",
       "      <th>ATMG01370</th>\n",
       "      <td>3.372912e-05</td>\n",
       "      <td>4.072936e-05</td>\n",
       "      <td>2.575551e-05</td>\n",
       "      <td>0.000072</td>\n",
       "      <td>2.824271e-04</td>\n",
       "      <td>2.266231e-04</td>\n",
       "      <td>6.350875e-06</td>\n",
       "      <td>1.043738e-04</td>\n",
       "    </tr>\n",
       "    <tr>\n",
       "      <th>ATMG01380</th>\n",
       "      <td>1.873840e-06</td>\n",
       "      <td>0.000000e+00</td>\n",
       "      <td>3.447588e-06</td>\n",
       "      <td>0.000042</td>\n",
       "      <td>1.841201e-05</td>\n",
       "      <td>1.402309e-05</td>\n",
       "      <td>0.000000e+00</td>\n",
       "      <td>1.846192e-05</td>\n",
       "    </tr>\n",
       "    <tr>\n",
       "      <th>ATMG01390</th>\n",
       "      <td>2.984759e-04</td>\n",
       "      <td>1.505215e-04</td>\n",
       "      <td>5.597261e-05</td>\n",
       "      <td>0.000273</td>\n",
       "      <td>4.734517e-05</td>\n",
       "      <td>8.218530e-04</td>\n",
       "      <td>3.723200e-04</td>\n",
       "      <td>7.457884e-04</td>\n",
       "    </tr>\n",
       "    <tr>\n",
       "      <th>ATMG01400</th>\n",
       "      <td>2.039808e-04</td>\n",
       "      <td>1.808029e-04</td>\n",
       "      <td>1.218824e-04</td>\n",
       "      <td>0.000112</td>\n",
       "      <td>8.877219e-05</td>\n",
       "      <td>6.545776e-04</td>\n",
       "      <td>2.218837e-04</td>\n",
       "      <td>4.858592e-04</td>\n",
       "    </tr>\n",
       "    <tr>\n",
       "      <th>ATMG01410</th>\n",
       "      <td>2.676914e-07</td>\n",
       "      <td>1.770842e-07</td>\n",
       "      <td>0.000000e+00</td>\n",
       "      <td>0.000000</td>\n",
       "      <td>6.575718e-07</td>\n",
       "      <td>3.505771e-06</td>\n",
       "      <td>0.000000e+00</td>\n",
       "      <td>0.000000e+00</td>\n",
       "    </tr>\n",
       "  </tbody>\n",
       "</table>\n",
       "<p>29699 rows × 8 columns</p>\n",
       "</div>"
      ],
      "text/plain": [
       "           tricellular_0  bicellular_1  tricellular_4  bicellular_5  \\\n",
       "Geneid                                                                \n",
       "AT1G01010   0.000000e+00  2.691679e-05   3.244789e-06      0.000000   \n",
       "AT1G01020   0.000000e+00  6.622948e-05   6.083980e-07      0.000017   \n",
       "AT1G01030   0.000000e+00  3.736476e-05   5.820340e-05      0.000009   \n",
       "AT1G01040   2.540391e-04  1.698237e-04   1.421623e-04      0.000005   \n",
       "AT1G01046   9.369199e-06  0.000000e+00   0.000000e+00      0.000000   \n",
       "...                  ...           ...            ...           ...   \n",
       "ATMG01370   3.372912e-05  4.072936e-05   2.575551e-05      0.000072   \n",
       "ATMG01380   1.873840e-06  0.000000e+00   3.447588e-06      0.000042   \n",
       "ATMG01390   2.984759e-04  1.505215e-04   5.597261e-05      0.000273   \n",
       "ATMG01400   2.039808e-04  1.808029e-04   1.218824e-04      0.000112   \n",
       "ATMG01410   2.676914e-07  1.770842e-07   0.000000e+00      0.000000   \n",
       "\n",
       "           tricellular_9  bicellular_10  tricellular_13  bicellular_14  \n",
       "Geneid                                                                  \n",
       "AT1G01010   0.000000e+00   2.504122e-07    1.587719e-06   1.279539e-06  \n",
       "AT1G01020   3.287859e-07   4.432297e-05    0.000000e+00   1.827913e-07  \n",
       "AT1G01030   2.663166e-05   7.337079e-05    7.938593e-07   2.193495e-06  \n",
       "AT1G01040   2.206153e-04   2.163562e-04    4.425766e-04   1.085780e-04  \n",
       "AT1G01046   0.000000e+00   0.000000e+00    0.000000e+00   0.000000e+00  \n",
       "...                  ...            ...             ...            ...  \n",
       "ATMG01370   2.824271e-04   2.266231e-04    6.350875e-06   1.043738e-04  \n",
       "ATMG01380   1.841201e-05   1.402309e-05    0.000000e+00   1.846192e-05  \n",
       "ATMG01390   4.734517e-05   8.218530e-04    3.723200e-04   7.457884e-04  \n",
       "ATMG01400   8.877219e-05   6.545776e-04    2.218837e-04   4.858592e-04  \n",
       "ATMG01410   6.575718e-07   3.505771e-06    0.000000e+00   0.000000e+00  \n",
       "\n",
       "[29699 rows x 8 columns]"
      ]
     },
     "execution_count": 61,
     "metadata": {},
     "output_type": "execute_result"
    }
   ],
   "source": [
    "# subset original dataframe to only stages we're interested in, and rename\n",
    "df = df[name_dict.keys()]\n",
    "df = df.rename(columns=name_dict)\n",
    "df.reindex(sorted(df.columns), axis=1)\n",
    "\n",
    "# Normalize dataframe\n",
    "norm_df = df/df.sum()\n",
    "#norm_df = np.log10(norm_df)\n",
    "norm_df"
   ]
  },
  {
   "cell_type": "markdown",
   "id": "7c4eb31a-15da-4e33-ad54-427e66bfffeb",
   "metadata": {},
   "source": [
    "## Perform t test \n",
    "For each gene, perform a t test between the two stages"
   ]
  },
  {
   "cell_type": "code",
   "execution_count": 110,
   "id": "6f3ee465-54c4-44e4-8e83-23f51bd8c4fa",
   "metadata": {},
   "outputs": [
    {
     "data": {
      "image/png": "[encoded data removed]",
      "text/plain": [
       "<Figure size 640x480 with 1 Axes>"
      ]
     },
     "metadata": {},
     "output_type": "display_data"
    }
   ],
   "source": [
    "# filter out those with not enough counts (for the sake of multiple hypothesis correction)\n",
    "gene_counts = df.sum(axis=1)\n",
    "plt.hist(gene_counts[gene_counts < 1000])\n",
    "plt.show()"
   ]
  },
  {
   "cell_type": "code",
   "execution_count": 113,
   "id": "b1c89681-4925-4650-bf9e-9e75ee1d1673",
   "metadata": {},
   "outputs": [
    {
     "name": "stderr",
     "output_type": "stream",
     "text": [
      "17084it [00:10, 1567.59it/s]\n"
     ]
    }
   ],
   "source": [
    "outdict = {\"gene\": [], \"pval\": [], \"largest\" : [], \"smallest\" : []}\n",
    "for index, row in tqdm.tqdm(norm_df.loc[gene_counts[gene_counts > 200].index,].iterrows()):\n",
    "                                            \n",
    "    # perform t test                                            \n",
    "    tri = [v for k, v in row.iteritems() if k.startswith(\"tri\")]\n",
    "    bi = [v for k, v in row.iteritems() if k.startswith(\"bi\")]\n",
    "    result = sp.stats.ttest_ind(tri, bi)\n",
    "    \n",
    "    outdict[\"gene\"].append(index)\n",
    "    outdict[\"pval\"].append(result.pvalue)\n",
    "    outdict[\"largest\"].append(row.max())\n",
    "    outdict[\"smallest\"].append(row.min())\n"
   ]
  },
  {
   "cell_type": "code",
   "execution_count": 114,
   "id": "157de151-f60d-45ee-b4f6-9f917ca4f9a2",
   "metadata": {},
   "outputs": [],
   "source": [
    "out = pd.DataFrame.from_dict(outdict)\n",
    "out = out.dropna()\n",
    "out[\"pval_adj\"] = statsmodels.stats.multitest.multipletests(out[\"pval\"],method=\"fdr_bh\")[1]"
   ]
  },
  {
   "cell_type": "code",
   "execution_count": 115,
   "id": "fdead432-d82c-4898-8a9d-5460a13a9535",
   "metadata": {},
   "outputs": [
    {
     "data": {
      "text/html": [
       "<div>\n",
       "<style scoped>\n",
       "    .dataframe tbody tr th:only-of-type {\n",
       "        vertical-align: middle;\n",
       "    }\n",
       "\n",
       "    .dataframe tbody tr th {\n",
       "        vertical-align: top;\n",
       "    }\n",
       "\n",
       "    .dataframe thead th {\n",
       "        text-align: right;\n",
       "    }\n",
       "</style>\n",
       "<table border=\"1\" class=\"dataframe\">\n",
       "  <thead>\n",
       "    <tr style=\"text-align: right;\">\n",
       "      <th></th>\n",
       "      <th>gene</th>\n",
       "      <th>pval</th>\n",
       "      <th>largest</th>\n",
       "      <th>smallest</th>\n",
       "      <th>pval_adj</th>\n",
       "    </tr>\n",
       "  </thead>\n",
       "  <tbody>\n",
       "    <tr>\n",
       "      <th>16881</th>\n",
       "      <td>ATCG00420</td>\n",
       "      <td>0.000084</td>\n",
       "      <td>0.000146</td>\n",
       "      <td>3.244789e-06</td>\n",
       "      <td>0.575291</td>\n",
       "    </tr>\n",
       "    <tr>\n",
       "      <th>3085</th>\n",
       "      <td>AT1G60505</td>\n",
       "      <td>0.000098</td>\n",
       "      <td>0.000039</td>\n",
       "      <td>0.000000e+00</td>\n",
       "      <td>0.575291</td>\n",
       "    </tr>\n",
       "    <tr>\n",
       "      <th>10842</th>\n",
       "      <td>AT4G09140</td>\n",
       "      <td>0.000106</td>\n",
       "      <td>0.000129</td>\n",
       "      <td>0.000000e+00</td>\n",
       "      <td>0.575291</td>\n",
       "    </tr>\n",
       "    <tr>\n",
       "      <th>6956</th>\n",
       "      <td>AT2G47470</td>\n",
       "      <td>0.000135</td>\n",
       "      <td>0.000106</td>\n",
       "      <td>1.587719e-06</td>\n",
       "      <td>0.575291</td>\n",
       "    </tr>\n",
       "    <tr>\n",
       "      <th>3493</th>\n",
       "      <td>AT1G67280</td>\n",
       "      <td>0.000247</td>\n",
       "      <td>0.000047</td>\n",
       "      <td>3.756184e-06</td>\n",
       "      <td>0.697818</td>\n",
       "    </tr>\n",
       "    <tr>\n",
       "      <th>...</th>\n",
       "      <td>...</td>\n",
       "      <td>...</td>\n",
       "      <td>...</td>\n",
       "      <td>...</td>\n",
       "      <td>...</td>\n",
       "    </tr>\n",
       "    <tr>\n",
       "      <th>1706</th>\n",
       "      <td>AT1G26190</td>\n",
       "      <td>0.999504</td>\n",
       "      <td>0.000249</td>\n",
       "      <td>3.473034e-06</td>\n",
       "      <td>0.999665</td>\n",
       "    </tr>\n",
       "    <tr>\n",
       "      <th>1256</th>\n",
       "      <td>AT1G18630</td>\n",
       "      <td>0.999529</td>\n",
       "      <td>0.000021</td>\n",
       "      <td>0.000000e+00</td>\n",
       "      <td>0.999665</td>\n",
       "    </tr>\n",
       "    <tr>\n",
       "      <th>4479</th>\n",
       "      <td>AT2G02360</td>\n",
       "      <td>0.999553</td>\n",
       "      <td>0.000423</td>\n",
       "      <td>0.000000e+00</td>\n",
       "      <td>0.999665</td>\n",
       "    </tr>\n",
       "    <tr>\n",
       "      <th>7549</th>\n",
       "      <td>AT3G08950</td>\n",
       "      <td>0.999607</td>\n",
       "      <td>0.000094</td>\n",
       "      <td>3.287859e-07</td>\n",
       "      <td>0.999665</td>\n",
       "    </tr>\n",
       "    <tr>\n",
       "      <th>9817</th>\n",
       "      <td>AT3G55100</td>\n",
       "      <td>0.999730</td>\n",
       "      <td>0.000066</td>\n",
       "      <td>0.000000e+00</td>\n",
       "      <td>0.999730</td>\n",
       "    </tr>\n",
       "  </tbody>\n",
       "</table>\n",
       "<p>17084 rows × 5 columns</p>\n",
       "</div>"
      ],
      "text/plain": [
       "            gene      pval   largest      smallest  pval_adj\n",
       "16881  ATCG00420  0.000084  0.000146  3.244789e-06  0.575291\n",
       "3085   AT1G60505  0.000098  0.000039  0.000000e+00  0.575291\n",
       "10842  AT4G09140  0.000106  0.000129  0.000000e+00  0.575291\n",
       "6956   AT2G47470  0.000135  0.000106  1.587719e-06  0.575291\n",
       "3493   AT1G67280  0.000247  0.000047  3.756184e-06  0.697818\n",
       "...          ...       ...       ...           ...       ...\n",
       "1706   AT1G26190  0.999504  0.000249  3.473034e-06  0.999665\n",
       "1256   AT1G18630  0.999529  0.000021  0.000000e+00  0.999665\n",
       "4479   AT2G02360  0.999553  0.000423  0.000000e+00  0.999665\n",
       "7549   AT3G08950  0.999607  0.000094  3.287859e-07  0.999665\n",
       "9817   AT3G55100  0.999730  0.000066  0.000000e+00  0.999730\n",
       "\n",
       "[17084 rows x 5 columns]"
      ]
     },
     "execution_count": 115,
     "metadata": {},
     "output_type": "execute_result"
    }
   ],
   "source": [
    "out.sort_values(\"pval\")"
   ]
  },
  {
   "cell_type": "code",
   "execution_count": 128,
   "id": "a0f0c799-f2a4-4c40-8d76-0bb643e2cc0a",
   "metadata": {},
   "outputs": [
    {
     "data": {
      "text/plain": [
       "bicellular_1       67\n",
       "bicellular_10      82\n",
       "bicellular_14       0\n",
       "bicellular_5       42\n",
       "tricellular_0      65\n",
       "tricellular_13      2\n",
       "tricellular_4     104\n",
       "tricellular_9       3\n",
       "Name: AT1G18630, dtype: int64"
      ]
     },
     "execution_count": 128,
     "metadata": {},
     "output_type": "execute_result"
    }
   ],
   "source": [
    "df.loc[\"AT1G18630\"].sort_index()"
   ]
  },
  {
   "cell_type": "code",
   "execution_count": 100,
   "id": "766d342f-0208-4e05-be42-7da0290d8950",
   "metadata": {},
   "outputs": [
    {
     "data": {
      "image/png": "[encoded data removed]",
      "text/plain": [
       "<Figure size 640x480 with 1 Axes>"
      ]
     },
     "metadata": {},
     "output_type": "display_data"
    }
   ],
   "source": [
    "plt.hist(out[\"pval_adj\"])\n",
    "plt.show()"
   ]
  },
  {
   "cell_type": "code",
   "execution_count": 96,
   "id": "a02c4f4d-3d25-48e9-a53d-917147dca159",
   "metadata": {},
   "outputs": [],
   "source": []
  },
  {
   "cell_type": "code",
   "execution_count": null,
   "id": "339a1d84-8aad-4f09-9f32-1311543858de",
   "metadata": {},
   "outputs": [],
   "source": []
  }
 ],
 "metadata": {
  "kernelspec": {
   "display_name": "Python 3 (ipykernel)",
   "language": "python",
   "name": "python3"
  },
  "language_info": {
   "codemirror_mode": {
    "name": "ipython",
    "version": 3
   },
   "file_extension": ".py",
   "mimetype": "text/x-python",
   "name": "python",
   "nbconvert_exporter": "python",
   "pygments_lexer": "ipython3",
   "version": "3.9.13"
  }
 },
 "nbformat": 4,
 "nbformat_minor": 5
}
