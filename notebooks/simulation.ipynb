{
 "cells": [
  {
   "cell_type": "code",
   "execution_count": 7,
   "id": "8c6e3d73",
   "metadata": {
    "ExecuteTime": {
     "end_time": "2024-06-04T18:30:19.961247Z",
     "start_time": "2024-06-04T18:30:19.949403Z"
    }
   },
   "outputs": [],
   "source": [
    "import matplotlib.pyplot as plt\n",
    "import numpy as np\n",
    "import pandas as pd\n",
    "from statsmodels.stats.multitest import multipletests\n",
    "from statsmodels.stats.proportion import proportion_confint\n",
    "\n",
    "import sys\n",
    "# caution: path[0] is reserved for script path (or '' in REPL)\n",
    "sys.path.insert(1, '../scripts/')\n",
    "\n",
    "from equiv_test_funcs import *\n",
    "\n",
    "import warnings\n",
    "warnings.filterwarnings(\"ignore\")\n"
   ]
  },
  {
   "cell_type": "code",
   "execution_count": 12,
   "id": "0a443e14",
   "metadata": {
    "ExecuteTime": {
     "end_time": "2024-06-04T18:30:20.204491Z",
     "start_time": "2024-06-04T18:30:20.194753Z"
    }
   },
   "outputs": [],
   "source": [
    "def ttests(df):\n",
    "    \n",
    "    # run t tests from script (should be what's done in perform tests)\n",
    "\n",
    "    if norm:\n",
    "      # normalize each row (sample) by the number of counts\n",
    "        df = normalize(df)\n",
    "\n",
    "    if log_scale:\n",
    "        df = log2_scale(df)\n",
    "\n",
    "    plot = False\n",
    "\n",
    "    # testing out function you can use in Python code\n",
    "    # perform_tests_for_df(df, args.delta)\n",
    "\n",
    "    out_df = loop_over_genes(df, delta, plot)\n",
    "\n",
    "    out_df = process_out_df(out_df, delta)\n",
    "\n",
    "    return out_df[\"sig_diff\"][0], out_df[\"sig_equiv\"][0]\n",
    "\n"
   ]
  },
  {
   "cell_type": "markdown",
   "id": "970f7770",
   "metadata": {},
   "source": [
    "\n",
    "## Simulation description\n",
    "\n",
    "2 populations (two different kinds of cell types)\n",
    "\n",
    "There are only two genes (gene A and gene B)\n",
    "\n",
    "We're taking `num_samples` samples from each population\n",
    "\n",
    "Population 1/\"cell type\":\n",
    "sample 1\n",
    "sample 2 \n",
    "sample 3\n",
    "\n",
    "Population 2/\"cell type\":\n",
    "sample 4\n",
    "sample 5\n",
    "sample 6\n",
    "\n",
    "We're going to define the fraction of gene expression that is from gene A for each population\n",
    "\n",
    "`geneA_fracs`: it's a list of length 2. The first entry is the fraction of gene A in population 1. The second entry entry is the fraction of gene A in population 2.\n",
    "\n",
    "For example, if `geneA_fracs = [0.2, 0.8]` it means 20% of the gene expression is from gene A in population 1. So we might expect to have 22 counts from gene A and 83 counts from gene B in a sample from population 1.\n",
    "\n",
    "For the second population, we might expect something like 79 counts from gene A and 18 from gene B.\n",
    "\n",
    "The `numReads` list contains all the values of read numbers we want to test for. What I mean by read number: the number of \"counts\" we have for a given sample.\n",
    "\n",
    "Additional parameters: when `norm = True` we normalize the scores just by dividing by the total number of reads. When `log_scale = True` we take the log of the count values.\n",
    "\n",
    "`delta`: this is the equivalence testing parameter. When ` log_scale = True`, `delta = 1` tests for fold change."
   ]
  },
  {
   "cell_type": "code",
   "execution_count": 25,
   "id": "d21abb39",
   "metadata": {
    "ExecuteTime": {
     "end_time": "2024-06-04T18:30:20.525264Z",
     "start_time": "2024-06-04T18:30:20.512535Z"
    }
   },
   "outputs": [],
   "source": [
    "outpath = \"../plots/\"\n",
    "\n",
    "#numReads = [5, 10, 50, 100, 500, 1000, 5000, 10000]\n",
    "\n",
    "#numReads = [1, 2, 3, 4, 5]\n",
    "\n",
    "numReads = [1, 2, 3, 4, 5, 10, 15, 20, 25, 30, 35, 40, 45, 50, 100, 150, 200]\n",
    "\n",
    "num_trials = 10\n",
    "\n",
    "num_samples = 3\n",
    "\n",
    "\n",
    "geneA_fracs = [0, 1]\n",
    "\n",
    "# geneA_fracs = [0.1, 0.9]\n",
    "\n",
    "\n",
    "norm = True\n",
    "log_scale = True\n",
    "\n",
    "delta = 1\n",
    "alpha = 0.05\n"
   ]
  },
  {
   "cell_type": "code",
   "execution_count": null,
   "id": "12eadd0f",
   "metadata": {
    "ExecuteTime": {
     "end_time": "2024-06-04T18:30:23.486664Z",
     "start_time": "2024-06-04T18:30:20.951331Z"
    },
    "scrolled": true
   },
   "outputs": [],
   "source": [
    "np.random.seed(123)\n",
    "\n",
    "out = {\"numReads\" : [], \"frac_sig_diff\" : [], \"frac_sig_diff_lower\" : [], \"frac_sig_diff_upper\" : [], \n",
    "       \"frac_sig_equiv\" : [], \"frac_sig_equiv_lower\" : [], \"frac_sig_equiv_upper\" : [], \n",
    "       \"frac_sig_inc\" : [], \"frac_sig_inc_lower\" : [], \"frac_sig_inc_upper\" : []}\n",
    "\n",
    "for num in numReads:\n",
    "    print(\"num reads: {}\".format(num))\n",
    "    # collect p vals for each\n",
    "    num_sig_diff = 0\n",
    "    num_sig_equiv = 0\n",
    "    num_inconclusive = 0\n",
    "    \n",
    "    for i in range(num_trials):\n",
    "        data = {\"sample\" : [], \"A\" : [], \"B\" : [], \"cell_type\" : []}\n",
    "        count = 0\n",
    "        for j in range(len(geneA_fracs)):\n",
    "            for k in range(num_samples):\n",
    "                count += 1\n",
    "                \n",
    "                # add 1 so it's never zero\n",
    "                n = np.random.poisson(num) + 1\n",
    "                A = np.random.binomial(n, geneA_fracs[j])\n",
    "                data[\"sample\"].append(\"sample\" + str(count))\n",
    "                data[\"A\"].append(A)\n",
    "                data[\"B\"].append(n - A)\n",
    "                data[\"cell_type\"].append(j)\n",
    "        df = pd.DataFrame(data).set_index(\"sample\")\n",
    "        \n",
    "        # get results\n",
    "        diff_sig, equiv_sig = ttests(df)\n",
    "        \n",
    "        # save output\n",
    "        num_sig_diff += diff_sig\n",
    "        num_sig_equiv += equiv_sig\n",
    "        num_inconclusive += 1 - diff_sig - equiv_sig\n",
    "        \n",
    "    # get frac significant\n",
    "    out[\"numReads\"].append(num)\n",
    "\n",
    "#    num_sig_diff = sum(1 for p in diff_pvals if p < alpha)\n",
    "    lower_ci, upper_ci = proportion_confint(num_sig_diff, num_trials)\n",
    "    out[\"frac_sig_diff\"].append(num_sig_diff/num_trials)\n",
    "    out[\"frac_sig_diff_lower\"].append(lower_ci)\n",
    "    out[\"frac_sig_diff_upper\"].append(upper_ci)\n",
    "\n",
    "#    num_sig_equiv = sum(1 for p in equiv_pvals if p < alpha)\n",
    "    lower_ci, upper_ci = proportion_confint(num_sig_equiv, num_trials)\n",
    "    out[\"frac_sig_equiv\"].append(num_sig_equiv/num_trials)\n",
    "    out[\"frac_sig_equiv_lower\"].append(lower_ci)\n",
    "    out[\"frac_sig_equiv_upper\"].append(upper_ci)\n",
    "    \n",
    "\n",
    "#    num_sig_equiv = sum(1 for p in equiv_pvals if p < alpha)\n",
    "    lower_ci, upper_ci = proportion_confint(num_inconclusive, num_trials)\n",
    "    out[\"frac_sig_inc\"].append(num_inconclusive/num_trials)\n",
    "    out[\"frac_sig_inc_lower\"].append(lower_ci)\n",
    "    out[\"frac_sig_inc_upper\"].append(upper_ci)\n",
    "out = pd.DataFrame(out)\n",
    "display(out)"
   ]
  },
  {
   "cell_type": "code",
   "execution_count": null,
   "id": "8a5edf1d",
   "metadata": {
    "ExecuteTime": {
     "end_time": "2024-06-04T18:30:24.376259Z",
     "start_time": "2024-06-04T18:30:23.488675Z"
    }
   },
   "outputs": [],
   "source": [
    "plt.errorbar(out[\"numReads\"], out[\"frac_sig_diff\"], yerr = [out[\"frac_sig_diff\"] - out[\"frac_sig_diff_lower\"],\n",
    "            out[\"frac_sig_diff_upper\"] - out[\"frac_sig_diff\"] ], marker = \"o\", label = \"diff\")\n",
    "plt.errorbar(out[\"numReads\"], out[\"frac_sig_equiv\"], yerr = [out[\"frac_sig_equiv\"] - out[\"frac_sig_equiv_lower\"],\n",
    "            out[\"frac_sig_equiv_upper\"] - out[\"frac_sig_equiv\"] ], marker = \"o\", label = \"equiv\")\n",
    "plt.errorbar(out[\"numReads\"], out[\"frac_sig_inc\"], yerr = [out[\"frac_sig_inc\"] - out[\"frac_sig_inc_lower\"],\n",
    "            out[\"frac_sig_inc_upper\"] - out[\"frac_sig_inc\"] ], marker = \"o\", label = \"inc\")\n",
    "plt.xscale(\"log\")\n",
    "plt.axhline(y=0.05, linestyle=\"--\", color=\"k\", label = \"$y = 0.05$\")\n",
    "plt.axhline(y=0.0, color=\"k\")\n",
    "\n",
    "plt.legend()\n",
    "plt.xlabel(\"number of reads\")\n",
    "plt.ylabel(\"fraction called in category\")\n",
    "plt.title(\"gene A pop 1: {}\\ngene A pop 2: {}\\nDelta: {}\".format(geneA_fracs[0], geneA_fracs[1], delta))\n",
    "plt.savefig(\"{}pop1_{}_pop2_{}_delt_{}.png\".format(outpath, *geneA_fracs, delta),bbox_inches='tight')\n",
    "plt.show()"
   ]
  },
  {
   "cell_type": "code",
   "execution_count": null,
   "id": "6361557c",
   "metadata": {},
   "outputs": [],
   "source": []
  },
  {
   "cell_type": "code",
   "execution_count": null,
   "id": "d2ae12e7",
   "metadata": {},
   "outputs": [],
   "source": []
  }
 ],
 "metadata": {
  "kernelspec": {
   "display_name": "Python 3 (ipykernel)",
   "language": "python",
   "name": "python3"
  },
  "language_info": {
   "codemirror_mode": {
    "name": "ipython",
    "version": 3
   },
   "file_extension": ".py",
   "mimetype": "text/x-python",
   "name": "python",
   "nbconvert_exporter": "python",
   "pygments_lexer": "ipython3",
   "version": "3.9.13"
  }
 },
 "nbformat": 4,
 "nbformat_minor": 5
}
