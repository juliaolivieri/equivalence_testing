{
 "cells": [
  {
   "cell_type": "code",
   "execution_count": 10,
   "id": "8c6e3d73",
   "metadata": {
    "ExecuteTime": {
     "end_time": "2024-05-30T21:08:38.465890Z",
     "start_time": "2024-05-30T21:08:38.433329Z"
    }
   },
   "outputs": [],
   "source": [
    "import matplotlib.pyplot as plt\n",
    "import numpy as np\n",
    "import pandas as pd\n",
    "from statsmodels.stats.multitest import multipletests\n",
    "from statsmodels.stats.proportion import proportion_confint\n",
    "\n",
    "import sys\n",
    "# caution: path[0] is reserved for script path (or '' in REPL)\n",
    "sys.path.insert(1, '/exports/home/jolivieri/equivalence_testing/scripts/')\n",
    "\n",
    "from equiv_test_funcs import *"
   ]
  },
  {
   "cell_type": "code",
   "execution_count": 33,
   "id": "0a443e14",
   "metadata": {
    "ExecuteTime": {
     "end_time": "2024-05-30T21:30:15.395047Z",
     "start_time": "2024-05-30T21:30:15.385014Z"
    }
   },
   "outputs": [],
   "source": [
    "def ttests(df):\n",
    "    \n",
    "    # run t tests from script (should be what's done in perform tests)\n",
    "\n",
    "    if norm:\n",
    "      # normalize each row (sample) by the number of counts\n",
    "        df = normalize(df)\n",
    "\n",
    "    if log_scale:\n",
    "        df = log2_scale(df)\n",
    "\n",
    "    plot = False\n",
    "\n",
    "    # testing out function you can use in Python code\n",
    "    # perform_tests_for_df(df, args.delta)\n",
    "\n",
    "    out_df = loop_over_genes(df, delta, plot)\n",
    "\n",
    "    out_df = process_out_df(out_df, delta)\n",
    "    return out_df[\"diff_pval_adj\"][0], out_df[\"equiv_pval_adj\"][0]"
   ]
  },
  {
   "cell_type": "code",
   "execution_count": 57,
   "id": "d21abb39",
   "metadata": {
    "ExecuteTime": {
     "end_time": "2024-05-30T21:38:14.409419Z",
     "start_time": "2024-05-30T21:38:14.400146Z"
    }
   },
   "outputs": [],
   "source": [
    "numReads = [5, 10, 50, 100, 500, 1000]\n",
    "\n",
    "num_trials = 10\n",
    "\n",
    "num_samples = 3\n",
    "\n",
    "geneA_fracs = [0.4, 0.6]\n",
    "\n",
    "norm = True\n",
    "log_scale = True\n",
    "\n",
    "delta = 1\n",
    "alpha = 0.05"
   ]
  },
  {
   "cell_type": "code",
   "execution_count": 58,
   "id": "12eadd0f",
   "metadata": {
    "ExecuteTime": {
     "end_time": "2024-05-30T21:38:16.022377Z",
     "start_time": "2024-05-30T21:38:14.732682Z"
    },
    "scrolled": true
   },
   "outputs": [
    {
     "name": "stderr",
     "output_type": "stream",
     "text": [
      "100%|██████████| 2/2 [00:00<00:00, 213.72it/s]\n",
      "100%|██████████| 2/2 [00:00<00:00, 272.68it/s]\n",
      "100%|██████████| 2/2 [00:00<00:00, 319.51it/s]\n",
      "100%|██████████| 2/2 [00:00<00:00, 349.57it/s]\n",
      "100%|██████████| 2/2 [00:00<00:00, 354.41it/s]\n",
      "100%|██████████| 2/2 [00:00<00:00, 358.72it/s]\n",
      "100%|██████████| 2/2 [00:00<00:00, 363.99it/s]\n",
      "100%|██████████| 2/2 [00:00<00:00, 358.20it/s]\n",
      "100%|██████████| 2/2 [00:00<00:00, 362.72it/s]\n",
      "100%|██████████| 2/2 [00:00<00:00, 357.88it/s]\n",
      "100%|██████████| 2/2 [00:00<00:00, 364.69it/s]\n",
      "100%|██████████| 2/2 [00:00<00:00, 365.64it/s]\n",
      "100%|██████████| 2/2 [00:00<00:00, 359.87it/s]\n",
      "100%|██████████| 2/2 [00:00<00:00, 368.28it/s]\n",
      "100%|██████████| 2/2 [00:00<00:00, 368.00it/s]\n",
      "100%|██████████| 2/2 [00:00<00:00, 367.47it/s]\n",
      "100%|██████████| 2/2 [00:00<00:00, 367.91it/s]\n",
      "100%|██████████| 2/2 [00:00<00:00, 331.67it/s]\n",
      "100%|██████████| 2/2 [00:00<00:00, 367.95it/s]\n",
      "100%|██████████| 2/2 [00:00<00:00, 370.59it/s]\n",
      "100%|██████████| 2/2 [00:00<00:00, 365.95it/s]\n",
      "100%|██████████| 2/2 [00:00<00:00, 369.33it/s]\n",
      "100%|██████████| 2/2 [00:00<00:00, 370.23it/s]\n",
      "100%|██████████| 2/2 [00:00<00:00, 370.33it/s]\n",
      "100%|██████████| 2/2 [00:00<00:00, 372.07it/s]\n",
      "100%|██████████| 2/2 [00:00<00:00, 371.47it/s]\n",
      "100%|██████████| 2/2 [00:00<00:00, 368.83it/s]\n",
      "100%|██████████| 2/2 [00:00<00:00, 366.07it/s]\n",
      "100%|██████████| 2/2 [00:00<00:00, 359.96it/s]\n",
      "100%|██████████| 2/2 [00:00<00:00, 359.70it/s]\n",
      "100%|██████████| 2/2 [00:00<00:00, 370.77it/s]\n",
      "100%|██████████| 2/2 [00:00<00:00, 363.71it/s]\n",
      "100%|██████████| 2/2 [00:00<00:00, 362.34it/s]\n",
      "100%|██████████| 2/2 [00:00<00:00, 360.26it/s]\n",
      "100%|██████████| 2/2 [00:00<00:00, 369.90it/s]\n",
      "100%|██████████| 2/2 [00:00<00:00, 367.57it/s]\n",
      "100%|██████████| 2/2 [00:00<00:00, 367.87it/s]\n",
      "100%|██████████| 2/2 [00:00<00:00, 369.31it/s]\n",
      "100%|██████████| 2/2 [00:00<00:00, 359.73it/s]\n",
      "100%|██████████| 2/2 [00:00<00:00, 367.04it/s]\n",
      "100%|██████████| 2/2 [00:00<00:00, 371.24it/s]\n",
      "100%|██████████| 2/2 [00:00<00:00, 147.10it/s]\n",
      "100%|██████████| 2/2 [00:00<00:00, 267.19it/s]\n",
      "100%|██████████| 2/2 [00:00<00:00, 302.38it/s]\n",
      "100%|██████████| 2/2 [00:00<00:00, 334.09it/s]\n",
      "100%|██████████| 2/2 [00:00<00:00, 362.01it/s]\n",
      "100%|██████████| 2/2 [00:00<00:00, 371.54it/s]\n",
      "100%|██████████| 2/2 [00:00<00:00, 378.82it/s]\n",
      "100%|██████████| 2/2 [00:00<00:00, 364.93it/s]\n",
      "100%|██████████| 2/2 [00:00<00:00, 379.90it/s]\n",
      "100%|██████████| 2/2 [00:00<00:00, 379.87it/s]\n",
      "100%|██████████| 2/2 [00:00<00:00, 378.53it/s]\n",
      "100%|██████████| 2/2 [00:00<00:00, 378.96it/s]\n",
      "100%|██████████| 2/2 [00:00<00:00, 376.73it/s]\n",
      "100%|██████████| 2/2 [00:00<00:00, 378.43it/s]\n",
      "100%|██████████| 2/2 [00:00<00:00, 380.92it/s]\n",
      "100%|██████████| 2/2 [00:00<00:00, 356.28it/s]\n",
      "100%|██████████| 2/2 [00:00<00:00, 359.76it/s]\n",
      "100%|██████████| 2/2 [00:00<00:00, 358.58it/s]\n",
      "100%|██████████| 2/2 [00:00<00:00, 378.53it/s]\n"
     ]
    },
    {
     "data": {
      "text/html": [
       "<div>\n",
       "<style scoped>\n",
       "    .dataframe tbody tr th:only-of-type {\n",
       "        vertical-align: middle;\n",
       "    }\n",
       "\n",
       "    .dataframe tbody tr th {\n",
       "        vertical-align: top;\n",
       "    }\n",
       "\n",
       "    .dataframe thead th {\n",
       "        text-align: right;\n",
       "    }\n",
       "</style>\n",
       "<table border=\"1\" class=\"dataframe\">\n",
       "  <thead>\n",
       "    <tr style=\"text-align: right;\">\n",
       "      <th></th>\n",
       "      <th>numReads</th>\n",
       "      <th>frac_sig_diff</th>\n",
       "      <th>frac_sig_diff_lower</th>\n",
       "      <th>frac_sig_diff_upper</th>\n",
       "      <th>frac_sig_equiv</th>\n",
       "      <th>frac_sig_equiv_lower</th>\n",
       "      <th>frac_sig_equiv_upper</th>\n",
       "    </tr>\n",
       "  </thead>\n",
       "  <tbody>\n",
       "    <tr>\n",
       "      <th>0</th>\n",
       "      <td>5</td>\n",
       "      <td>0.2</td>\n",
       "      <td>0.000000</td>\n",
       "      <td>0.447918</td>\n",
       "      <td>0.3</td>\n",
       "      <td>0.015974</td>\n",
       "      <td>0.584026</td>\n",
       "    </tr>\n",
       "    <tr>\n",
       "      <th>1</th>\n",
       "      <td>10</td>\n",
       "      <td>0.2</td>\n",
       "      <td>0.000000</td>\n",
       "      <td>0.447918</td>\n",
       "      <td>0.4</td>\n",
       "      <td>0.096364</td>\n",
       "      <td>0.703636</td>\n",
       "    </tr>\n",
       "    <tr>\n",
       "      <th>2</th>\n",
       "      <td>50</td>\n",
       "      <td>0.6</td>\n",
       "      <td>0.296364</td>\n",
       "      <td>0.903636</td>\n",
       "      <td>0.8</td>\n",
       "      <td>0.552082</td>\n",
       "      <td>1.000000</td>\n",
       "    </tr>\n",
       "    <tr>\n",
       "      <th>3</th>\n",
       "      <td>100</td>\n",
       "      <td>1.0</td>\n",
       "      <td>1.000000</td>\n",
       "      <td>1.000000</td>\n",
       "      <td>1.0</td>\n",
       "      <td>1.000000</td>\n",
       "      <td>1.000000</td>\n",
       "    </tr>\n",
       "    <tr>\n",
       "      <th>4</th>\n",
       "      <td>500</td>\n",
       "      <td>1.0</td>\n",
       "      <td>1.000000</td>\n",
       "      <td>1.000000</td>\n",
       "      <td>1.0</td>\n",
       "      <td>1.000000</td>\n",
       "      <td>1.000000</td>\n",
       "    </tr>\n",
       "    <tr>\n",
       "      <th>5</th>\n",
       "      <td>1000</td>\n",
       "      <td>1.0</td>\n",
       "      <td>1.000000</td>\n",
       "      <td>1.000000</td>\n",
       "      <td>1.0</td>\n",
       "      <td>1.000000</td>\n",
       "      <td>1.000000</td>\n",
       "    </tr>\n",
       "  </tbody>\n",
       "</table>\n",
       "</div>"
      ],
      "text/plain": [
       "   numReads  frac_sig_diff  frac_sig_diff_lower  frac_sig_diff_upper  \\\n",
       "0         5            0.2             0.000000             0.447918   \n",
       "1        10            0.2             0.000000             0.447918   \n",
       "2        50            0.6             0.296364             0.903636   \n",
       "3       100            1.0             1.000000             1.000000   \n",
       "4       500            1.0             1.000000             1.000000   \n",
       "5      1000            1.0             1.000000             1.000000   \n",
       "\n",
       "   frac_sig_equiv  frac_sig_equiv_lower  frac_sig_equiv_upper  \n",
       "0             0.3              0.015974              0.584026  \n",
       "1             0.4              0.096364              0.703636  \n",
       "2             0.8              0.552082              1.000000  \n",
       "3             1.0              1.000000              1.000000  \n",
       "4             1.0              1.000000              1.000000  \n",
       "5             1.0              1.000000              1.000000  "
      ]
     },
     "metadata": {},
     "output_type": "display_data"
    }
   ],
   "source": [
    "np.random.seed(123)\n",
    "\n",
    "out = {\"numReads\" : [], \"frac_sig_diff\" : [], \"frac_sig_diff_lower\" : [], \"frac_sig_diff_upper\" : [], \n",
    "       \"frac_sig_equiv\" : [], \"frac_sig_equiv_lower\" : [], \"frac_sig_equiv_upper\" : []}\n",
    "\n",
    "for num in numReads:\n",
    "    # collect p vals for each\n",
    "    diff_pvals = []\n",
    "    equiv_pvals = []\n",
    "    \n",
    "    for i in range(num_trials):\n",
    "        data = {\"sample\" : [], \"A\" : [], \"B\" : [], \"cell_type\" : []}\n",
    "        count = 0\n",
    "        for j in range(len(geneA_fracs)):\n",
    "            for k in range(num_samples):\n",
    "                count += 1\n",
    "                \n",
    "                # add 1 so it's never zero\n",
    "                n = np.random.poisson(num) + 1\n",
    "                A = np.random.binomial(n, geneA_fracs[j])\n",
    "                data[\"sample\"].append(\"sample\" + str(count))\n",
    "                data[\"A\"].append(A)\n",
    "                data[\"B\"].append(n - A)\n",
    "                data[\"cell_type\"].append(j)\n",
    "        df = pd.DataFrame(data).set_index(\"sample\")\n",
    "        \n",
    "        # get results\n",
    "        diff_pval, equiv_pval = ttests(df)\n",
    "        \n",
    "        # save output\n",
    "        diff_pvals.append(diff_pval)\n",
    "        equiv_pvals.append(equiv_pval)\n",
    "        \n",
    "        \n",
    "    # get frac significant\n",
    "    out[\"numReads\"].append(num)\n",
    "\n",
    "    num_sig_diff = sum(1 for p in diff_pvals if p < alpha)\n",
    "    lower_ci, upper_ci = proportion_confint(num_sig_diff, num_trials)\n",
    "    out[\"frac_sig_diff\"].append(num_sig_diff/num_trials)\n",
    "    out[\"frac_sig_diff_lower\"].append(lower_ci)\n",
    "    out[\"frac_sig_diff_upper\"].append(upper_ci)\n",
    "\n",
    "    num_sig_equiv = sum(1 for p in equiv_pvals if p < alpha)\n",
    "    lower_ci, upper_ci = proportion_confint(num_sig_equiv, num_trials)\n",
    "    out[\"frac_sig_equiv\"].append(num_sig_equiv/num_trials)\n",
    "    out[\"frac_sig_equiv_lower\"].append(lower_ci)\n",
    "    out[\"frac_sig_equiv_upper\"].append(upper_ci)\n",
    "out = pd.DataFrame(out)\n",
    "display(out)"
   ]
  },
  {
   "cell_type": "code",
   "execution_count": 59,
   "id": "8a5edf1d",
   "metadata": {
    "ExecuteTime": {
     "end_time": "2024-05-30T21:38:20.160744Z",
     "start_time": "2024-05-30T21:38:19.598030Z"
    }
   },
   "outputs": [
    {
     "data": {
      "image/png": "[encoded data removed]",
      "text/plain": [
       "<Figure size 640x480 with 1 Axes>"
      ]
     },
     "metadata": {},
     "output_type": "display_data"
    }
   ],
   "source": [
    "plt.errorbar(out[\"numReads\"], out[\"frac_sig_diff\"], yerr = [out[\"frac_sig_diff\"] - out[\"frac_sig_diff_lower\"],\n",
    "            out[\"frac_sig_diff_upper\"] - out[\"frac_sig_diff\"] ], marker = \"o\", label = \"diff\")\n",
    "plt.errorbar(out[\"numReads\"], out[\"frac_sig_equiv\"], yerr = [out[\"frac_sig_equiv\"] - out[\"frac_sig_equiv_lower\"],\n",
    "            out[\"frac_sig_equiv_upper\"] - out[\"frac_sig_equiv\"] ], marker = \"o\", label = \"equiv\")\n",
    "plt.xscale(\"log\")\n",
    "plt.legend()\n",
    "plt.show()"
   ]
  },
  {
   "cell_type": "code",
   "execution_count": 50,
   "id": "4f6cab07",
   "metadata": {
    "ExecuteTime": {
     "end_time": "2024-05-30T21:36:12.660110Z",
     "start_time": "2024-05-30T21:36:12.646081Z"
    }
   },
   "outputs": [
    {
     "data": {
      "text/plain": [
       "0    0.200000\n",
       "1    0.200000\n",
       "2    0.303636\n",
       "3    0.000000\n",
       "4    0.000000\n",
       "5    0.000000\n",
       "dtype: float64"
      ]
     },
     "execution_count": 50,
     "metadata": {},
     "output_type": "execute_result"
    }
   ],
   "source": [
    "out[\"frac_sig_diff\"] - out[\"frac_sig_diff_lower\"]"
   ]
  },
  {
   "cell_type": "code",
   "execution_count": null,
   "id": "1e97cf5a",
   "metadata": {},
   "outputs": [],
   "source": []
  },
  {
   "cell_type": "code",
   "execution_count": 46,
   "id": "6df4a5a8",
   "metadata": {
    "ExecuteTime": {
     "end_time": "2024-05-30T21:33:45.153942Z",
     "start_time": "2024-05-30T21:33:45.136616Z"
    }
   },
   "outputs": [
    {
     "data": {
      "text/html": [
       "<div>\n",
       "<style scoped>\n",
       "    .dataframe tbody tr th:only-of-type {\n",
       "        vertical-align: middle;\n",
       "    }\n",
       "\n",
       "    .dataframe tbody tr th {\n",
       "        vertical-align: top;\n",
       "    }\n",
       "\n",
       "    .dataframe thead th {\n",
       "        text-align: right;\n",
       "    }\n",
       "</style>\n",
       "<table border=\"1\" class=\"dataframe\">\n",
       "  <thead>\n",
       "    <tr style=\"text-align: right;\">\n",
       "      <th></th>\n",
       "      <th>A</th>\n",
       "      <th>B</th>\n",
       "      <th>cell_type</th>\n",
       "    </tr>\n",
       "    <tr>\n",
       "      <th>sample</th>\n",
       "      <th></th>\n",
       "      <th></th>\n",
       "      <th></th>\n",
       "    </tr>\n",
       "  </thead>\n",
       "  <tbody>\n",
       "    <tr>\n",
       "      <th>sample1</th>\n",
       "      <td>0.373518</td>\n",
       "      <td>0.626482</td>\n",
       "      <td>0</td>\n",
       "    </tr>\n",
       "    <tr>\n",
       "      <th>sample2</th>\n",
       "      <td>0.389691</td>\n",
       "      <td>0.610309</td>\n",
       "      <td>0</td>\n",
       "    </tr>\n",
       "    <tr>\n",
       "      <th>sample3</th>\n",
       "      <td>0.401020</td>\n",
       "      <td>0.598980</td>\n",
       "      <td>0</td>\n",
       "    </tr>\n",
       "    <tr>\n",
       "      <th>sample4</th>\n",
       "      <td>0.585466</td>\n",
       "      <td>0.414534</td>\n",
       "      <td>1</td>\n",
       "    </tr>\n",
       "    <tr>\n",
       "      <th>sample5</th>\n",
       "      <td>0.607570</td>\n",
       "      <td>0.392430</td>\n",
       "      <td>1</td>\n",
       "    </tr>\n",
       "    <tr>\n",
       "      <th>sample6</th>\n",
       "      <td>0.617676</td>\n",
       "      <td>0.382324</td>\n",
       "      <td>1</td>\n",
       "    </tr>\n",
       "  </tbody>\n",
       "</table>\n",
       "</div>"
      ],
      "text/plain": [
       "                A         B  cell_type\n",
       "sample                                \n",
       "sample1  0.373518  0.626482          0\n",
       "sample2  0.389691  0.610309          0\n",
       "sample3  0.401020  0.598980          0\n",
       "sample4  0.585466  0.414534          1\n",
       "sample5  0.607570  0.392430          1\n",
       "sample6  0.617676  0.382324          1"
      ]
     },
     "execution_count": 46,
     "metadata": {},
     "output_type": "execute_result"
    }
   ],
   "source": [
    "df"
   ]
  },
  {
   "cell_type": "code",
   "execution_count": 36,
   "id": "c37ebbf7",
   "metadata": {
    "ExecuteTime": {
     "end_time": "2024-05-30T21:30:34.552457Z",
     "start_time": "2024-05-30T21:30:34.534925Z"
    }
   },
   "outputs": [
    {
     "data": {
      "text/html": [
       "<div>\n",
       "<style scoped>\n",
       "    .dataframe tbody tr th:only-of-type {\n",
       "        vertical-align: middle;\n",
       "    }\n",
       "\n",
       "    .dataframe tbody tr th {\n",
       "        vertical-align: top;\n",
       "    }\n",
       "\n",
       "    .dataframe thead th {\n",
       "        text-align: right;\n",
       "    }\n",
       "</style>\n",
       "<table border=\"1\" class=\"dataframe\">\n",
       "  <thead>\n",
       "    <tr style=\"text-align: right;\">\n",
       "      <th></th>\n",
       "      <th>A</th>\n",
       "      <th>B</th>\n",
       "      <th>cell_type</th>\n",
       "    </tr>\n",
       "    <tr>\n",
       "      <th>sample</th>\n",
       "      <th></th>\n",
       "      <th></th>\n",
       "      <th></th>\n",
       "    </tr>\n",
       "  </thead>\n",
       "  <tbody>\n",
       "    <tr>\n",
       "      <th>sample1</th>\n",
       "      <td>0.098814</td>\n",
       "      <td>0.901186</td>\n",
       "      <td>0</td>\n",
       "    </tr>\n",
       "    <tr>\n",
       "      <th>sample2</th>\n",
       "      <td>0.105210</td>\n",
       "      <td>0.894790</td>\n",
       "      <td>0</td>\n",
       "    </tr>\n",
       "    <tr>\n",
       "      <th>sample3</th>\n",
       "      <td>0.091091</td>\n",
       "      <td>0.908909</td>\n",
       "      <td>0</td>\n",
       "    </tr>\n",
       "    <tr>\n",
       "      <th>sample4</th>\n",
       "      <td>0.890010</td>\n",
       "      <td>0.109990</td>\n",
       "      <td>1</td>\n",
       "    </tr>\n",
       "    <tr>\n",
       "      <th>sample5</th>\n",
       "      <td>0.898185</td>\n",
       "      <td>0.101815</td>\n",
       "      <td>1</td>\n",
       "    </tr>\n",
       "    <tr>\n",
       "      <th>sample6</th>\n",
       "      <td>0.899590</td>\n",
       "      <td>0.100410</td>\n",
       "      <td>1</td>\n",
       "    </tr>\n",
       "  </tbody>\n",
       "</table>\n",
       "</div>"
      ],
      "text/plain": [
       "                A         B  cell_type\n",
       "sample                                \n",
       "sample1  0.098814  0.901186          0\n",
       "sample2  0.105210  0.894790          0\n",
       "sample3  0.091091  0.908909          0\n",
       "sample4  0.890010  0.109990          1\n",
       "sample5  0.898185  0.101815          1\n",
       "sample6  0.899590  0.100410          1"
      ]
     },
     "execution_count": 36,
     "metadata": {},
     "output_type": "execute_result"
    }
   ],
   "source": [
    "plt.errorbar()"
   ]
  },
  {
   "cell_type": "markdown",
   "id": "b255e014",
   "metadata": {},
   "source": [
    "## Method 1 (deprecated)\n"
   ]
  },
  {
   "cell_type": "code",
   "execution_count": 9,
   "id": "4b0efadf",
   "metadata": {
    "ExecuteTime": {
     "end_time": "2024-05-30T18:28:32.826061Z",
     "start_time": "2024-05-30T18:28:32.817543Z"
    }
   },
   "outputs": [],
   "source": [
    "mean1 = 10\n",
    "mean2 = 10\n",
    "\n",
    "var1 = 1\n",
    "var2 = 1\n",
    "\n",
    "num_samples = [5, 10, 50, 100, 500, 1000]\n",
    "num_trials = 10\n",
    "\n",
    "delta = 0.5\n",
    "\n",
    "alpha = 0.05"
   ]
  },
  {
   "cell_type": "code",
   "execution_count": 29,
   "id": "a5f0c13d",
   "metadata": {
    "ExecuteTime": {
     "end_time": "2024-05-30T18:35:15.118674Z",
     "start_time": "2024-05-30T18:35:14.977897Z"
    }
   },
   "outputs": [],
   "source": [
    "out = {\"num_samples\" : [], \"frac_sig_diff\" : [], \"frac_sig_equiv\" : []}\n",
    "\n",
    "for n in num_samples:\n",
    "    \n",
    "    \n",
    "    # find fraction significant\n",
    "    \n",
    "    # collect p vals for each\n",
    "    diff_pvals = []\n",
    "    equiv_pvals = []\n",
    "    for i in range(num_trials):\n",
    "        group1 = np.random.normal(loc = mean1, scale = var1, size = n)\n",
    "        group2 = np.random.normal(loc = mean2, scale = var2, size = n)\n",
    "        diff_pval, equiv_pval = perform_t_tests(group1, group2, delta)\n",
    "        diff_pvals.append(diff_pval)\n",
    "        equiv_pvals.append(equiv_pval)\n",
    "        \n",
    "    # correct p vals for each\n",
    "    # actually, correcting doesn't make sense: we're trying to figure out\n",
    "    # the indpendent fraction of times it's called as significant\n",
    "    \n",
    "    # diff_pval_adj = multipletests(diff_pvals,alpha = alpha, method=\"fdr_bh\")\n",
    "    # equiv_pval_adj = multipletests(equiv_pvals,alpha = alpha, method=\"fdr_bh\") \n",
    "    \n",
    "    out[\"num_samples\"].append(n)\n",
    "    out[\"frac_sig_diff\"].append(sum(1 for p in diff_pvals if p < alpha)/num_trials)\n",
    "    out[\"frac_sig_equiv\"].append(sum(1 for p in equiv_pvals if p < alpha)/num_trials)\n",
    "    \n",
    "    # standard deviation doesn't make sense at this point: if we did multiple trials then it would\n",
    "\n",
    "out = pd.DataFrame(out)"
   ]
  },
  {
   "cell_type": "code",
   "execution_count": 30,
   "id": "9888aebd",
   "metadata": {
    "ExecuteTime": {
     "end_time": "2024-05-30T18:35:16.219282Z",
     "start_time": "2024-05-30T18:35:16.200482Z"
    }
   },
   "outputs": [
    {
     "data": {
      "text/html": [
       "<div>\n",
       "<style scoped>\n",
       "    .dataframe tbody tr th:only-of-type {\n",
       "        vertical-align: middle;\n",
       "    }\n",
       "\n",
       "    .dataframe tbody tr th {\n",
       "        vertical-align: top;\n",
       "    }\n",
       "\n",
       "    .dataframe thead th {\n",
       "        text-align: right;\n",
       "    }\n",
       "</style>\n",
       "<table border=\"1\" class=\"dataframe\">\n",
       "  <thead>\n",
       "    <tr style=\"text-align: right;\">\n",
       "      <th></th>\n",
       "      <th>num_samples</th>\n",
       "      <th>frac_sig_diff</th>\n",
       "      <th>frac_sig_equiv</th>\n",
       "    </tr>\n",
       "  </thead>\n",
       "  <tbody>\n",
       "    <tr>\n",
       "      <th>0</th>\n",
       "      <td>5</td>\n",
       "      <td>0.0</td>\n",
       "      <td>0.0</td>\n",
       "    </tr>\n",
       "    <tr>\n",
       "      <th>1</th>\n",
       "      <td>10</td>\n",
       "      <td>0.0</td>\n",
       "      <td>0.0</td>\n",
       "    </tr>\n",
       "    <tr>\n",
       "      <th>2</th>\n",
       "      <td>50</td>\n",
       "      <td>0.1</td>\n",
       "      <td>0.9</td>\n",
       "    </tr>\n",
       "    <tr>\n",
       "      <th>3</th>\n",
       "      <td>100</td>\n",
       "      <td>0.0</td>\n",
       "      <td>1.0</td>\n",
       "    </tr>\n",
       "    <tr>\n",
       "      <th>4</th>\n",
       "      <td>500</td>\n",
       "      <td>0.1</td>\n",
       "      <td>1.0</td>\n",
       "    </tr>\n",
       "    <tr>\n",
       "      <th>5</th>\n",
       "      <td>1000</td>\n",
       "      <td>0.0</td>\n",
       "      <td>1.0</td>\n",
       "    </tr>\n",
       "  </tbody>\n",
       "</table>\n",
       "</div>"
      ],
      "text/plain": [
       "   num_samples  frac_sig_diff  frac_sig_equiv\n",
       "0            5            0.0             0.0\n",
       "1           10            0.0             0.0\n",
       "2           50            0.1             0.9\n",
       "3          100            0.0             1.0\n",
       "4          500            0.1             1.0\n",
       "5         1000            0.0             1.0"
      ]
     },
     "execution_count": 30,
     "metadata": {},
     "output_type": "execute_result"
    }
   ],
   "source": [
    "out"
   ]
  },
  {
   "cell_type": "code",
   "execution_count": 15,
   "id": "fba7c8fe",
   "metadata": {
    "ExecuteTime": {
     "end_time": "2024-05-30T18:28:54.684411Z",
     "start_time": "2024-05-30T18:28:54.674070Z"
    }
   },
   "outputs": [
    {
     "data": {
      "text/plain": [
       "array([0.73736959, 0.75973327, 0.73736959, 0.73736959, 0.73736959,\n",
       "       0.73736959, 0.73736959, 0.73736959, 0.73736959, 0.73736959])"
      ]
     },
     "execution_count": 15,
     "metadata": {},
     "output_type": "execute_result"
    }
   ],
   "source": [
    "diff_pval_adj[1]"
   ]
  },
  {
   "cell_type": "code",
   "execution_count": 17,
   "id": "9884affa",
   "metadata": {
    "ExecuteTime": {
     "end_time": "2024-05-30T18:29:28.209745Z",
     "start_time": "2024-05-30T18:29:28.199398Z"
    }
   },
   "outputs": [
    {
     "data": {
      "text/plain": [
       "array([3.05708246e-24, 1.60719886e-22, 1.62380870e-22, 5.55766937e-25,\n",
       "       8.63616044e-22, 1.34527277e-25, 1.02683793e-22, 3.71324687e-21,\n",
       "       6.03982507e-23, 6.86120588e-25])"
      ]
     },
     "execution_count": 17,
     "metadata": {},
     "output_type": "execute_result"
    }
   ],
   "source": [
    "equiv_pval_adj[1]"
   ]
  },
  {
   "cell_type": "code",
   "execution_count": 19,
   "id": "bd52e2a6",
   "metadata": {
    "ExecuteTime": {
     "end_time": "2024-05-30T18:29:37.205086Z",
     "start_time": "2024-05-30T18:29:37.195310Z"
    }
   },
   "outputs": [
    {
     "data": {
      "text/plain": [
       "[1.2228329833663422e-24,\n",
       " 1.1250391985795497e-22,\n",
       " 1.2990469578378263e-22,\n",
       " 1.1115338745794663e-25,\n",
       " 7.772544395681945e-22,\n",
       " 1.3452727740817103e-26,\n",
       " 6.161027558823692e-23,\n",
       " 3.713246870996315e-21,\n",
       " 3.019912534759611e-23,\n",
       " 2.058361764968542e-25]"
      ]
     },
     "execution_count": 19,
     "metadata": {},
     "output_type": "execute_result"
    }
   ],
   "source": [
    "equiv_pvals"
   ]
  },
  {
   "cell_type": "code",
   "execution_count": 33,
   "id": "83ac609e",
   "metadata": {
    "ExecuteTime": {
     "end_time": "2024-05-30T18:37:20.316942Z",
     "start_time": "2024-05-30T18:37:19.959532Z"
    }
   },
   "outputs": [
    {
     "data": {
      "image/png": "[encoded data removed]",
      "text/plain": [
       "<Figure size 640x480 with 1 Axes>"
      ]
     },
     "metadata": {},
     "output_type": "display_data"
    }
   ],
   "source": [
    "plt.plot(out[\"num_samples\"], out[\"frac_sig_diff\"], label = \"diff\", marker = \"o\")\n",
    "plt.plot(out[\"num_samples\"], out[\"frac_sig_equiv\"], label = \"equiv\", marker = \"o\")\n",
    "plt.legend()\n",
    "plt.xlabel(\"number of samples\")\n",
    "plt.ylabel(\"fraction significant\")\n",
    "plt.show()"
   ]
  },
  {
   "cell_type": "code",
   "execution_count": null,
   "id": "8168d374",
   "metadata": {},
   "outputs": [],
   "source": []
  }
 ],
 "metadata": {
  "kernelspec": {
   "display_name": "Python 3 (ipykernel)",
   "language": "python",
   "name": "python3"
  },
  "language_info": {
   "codemirror_mode": {
    "name": "ipython",
    "version": 3
   },
   "file_extension": ".py",
   "mimetype": "text/x-python",
   "name": "python",
   "nbconvert_exporter": "python",
   "pygments_lexer": "ipython3",
   "version": "3.9.13"
  }
 },
 "nbformat": 4,
 "nbformat_minor": 5
}
