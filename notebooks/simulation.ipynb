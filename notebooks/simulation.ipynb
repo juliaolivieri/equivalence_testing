{
 "cells": [
  {
   "cell_type": "code",
   "execution_count": 7,
   "id": "8c6e3d73",
   "metadata": {
    "ExecuteTime": {
     "end_time": "2024-06-04T18:09:33.362603Z",
     "start_time": "2024-06-04T18:09:33.353203Z"
    }
   },
   "outputs": [],
   "source": [
    "import matplotlib.pyplot as plt\n",
    "import numpy as np\n",
    "import pandas as pd\n",
    "from statsmodels.stats.multitest import multipletests\n",
    "from statsmodels.stats.proportion import proportion_confint\n",
    "\n",
    "import sys\n",
    "# caution: path[0] is reserved for script path (or '' in REPL)\n",
    "sys.path.insert(1, '/exports/home/jolivieri/equivalence_testing/scripts/')\n",
    "\n",
    "from equiv_test_funcs import *"
   ]
  },
  {
   "cell_type": "code",
   "execution_count": 8,
   "id": "0a443e14",
   "metadata": {
    "ExecuteTime": {
     "end_time": "2024-06-04T18:09:33.565943Z",
     "start_time": "2024-06-04T18:09:33.556007Z"
    }
   },
   "outputs": [],
   "source": [
    "def ttests(df):\n",
    "    \n",
    "    # run t tests from script (should be what's done in perform tests)\n",
    "\n",
    "    if norm:\n",
    "      # normalize each row (sample) by the number of counts\n",
    "        df = normalize(df)\n",
    "\n",
    "    if log_scale:\n",
    "        df = log2_scale(df)\n",
    "\n",
    "    plot = False\n",
    "\n",
    "    # testing out function you can use in Python code\n",
    "    # perform_tests_for_df(df, args.delta)\n",
    "\n",
    "    out_df = loop_over_genes(df, delta, plot)\n",
    "\n",
    "    out_df = process_out_df(out_df, delta)\n",
    "    #display(out_df.head())\n",
    "    return out_df[\"sig_diff\"][0], out_df[\"sig_equiv\"][0]"
   ]
  },
  {
   "cell_type": "code",
   "execution_count": 9,
   "id": "d21abb39",
   "metadata": {
    "ExecuteTime": {
     "end_time": "2024-06-04T18:09:33.855548Z",
     "start_time": "2024-06-04T18:09:33.843272Z"
    }
   },
   "outputs": [],
   "source": [
    "outpath = \"/exports/home/jolivieri/equivalence_testing_output/notebooks/output/simulation/\"\n",
    "numReads = [5, 10, 50, 100, 500, 1000]\n",
    "\n",
    "numReads = [1, 2, 3, 4, 5, 10, 15, 20, 25, 30, 35, 40, 45, 50, 100, 150, 200]\n",
    "\n",
    "num_trials = 10\n",
    "\n",
    "num_samples = 3\n",
    "\n",
    "geneA_fracs = [0.3, 0.6]\n",
    "\n",
    "geneA_fracs = [0.2, 0.8]\n",
    "\n",
    "geneA_fracs = [0.45, 0.55]\n",
    "\n",
    "geneA_fracs = [0.1, 0.15]\n",
    "\n",
    "geneA_fracs = [0.01, 0.015]\n",
    "\n",
    "geneA_fracs = [0.05, 0.1]\n",
    "\n",
    "norm = True\n",
    "log_scale = True\n",
    "\n",
    "delta = 1\n",
    "alpha = 0.05"
   ]
  },
  {
   "cell_type": "code",
   "execution_count": 10,
   "id": "12eadd0f",
   "metadata": {
    "ExecuteTime": {
     "end_time": "2024-06-04T18:09:36.905086Z",
     "start_time": "2024-06-04T18:09:34.338426Z"
    },
    "scrolled": true
   },
   "outputs": [
    {
     "name": "stdout",
     "output_type": "stream",
     "text": [
      "num reads: 1\n"
     ]
    },
    {
     "name": "stderr",
     "output_type": "stream",
     "text": [
      "100%|██████████| 2/2 [00:00<00:00, 224.92it/s]\n",
      "  0%|          | 0/2 [00:00<?, ?it/s]/exports/home/jolivieri/equivalence_testing/scripts/equiv_test_funcs.py:41: RuntimeWarning: divide by zero encountered in double_scalars\n",
      "  t1 = (np.mean(group1_vals) - np.mean(group2_vals) - delta)/np.sqrt(np.var(group1_vals)/len(group1_vals)+np.var(group2_vals)/len(group2_vals))\n",
      "/exports/home/jolivieri/equivalence_testing/scripts/equiv_test_funcs.py:44: RuntimeWarning: divide by zero encountered in double_scalars\n",
      "  t2 = (np.mean(group1_vals) - np.mean(group2_vals) + delta)/np.sqrt(np.var(group1_vals)/len(group1_vals)+np.var(group2_vals)/len(group2_vals))\n",
      "100%|██████████| 2/2 [00:00<00:00, 317.34it/s]\n",
      "  0%|          | 0/2 [00:00<?, ?it/s]/exports/home/jolivieri/equivalence_testing/scripts/equiv_test_funcs.py:41: RuntimeWarning: divide by zero encountered in double_scalars\n",
      "  t1 = (np.mean(group1_vals) - np.mean(group2_vals) - delta)/np.sqrt(np.var(group1_vals)/len(group1_vals)+np.var(group2_vals)/len(group2_vals))\n",
      "/exports/home/jolivieri/equivalence_testing/scripts/equiv_test_funcs.py:44: RuntimeWarning: divide by zero encountered in double_scalars\n",
      "  t2 = (np.mean(group1_vals) - np.mean(group2_vals) + delta)/np.sqrt(np.var(group1_vals)/len(group1_vals)+np.var(group2_vals)/len(group2_vals))\n",
      "100%|██████████| 2/2 [00:00<00:00, 358.15it/s]\n",
      "100%|██████████| 2/2 [00:00<00:00, 359.12it/s]\n",
      "100%|██████████| 2/2 [00:00<00:00, 378.12it/s]\n",
      "100%|██████████| 2/2 [00:00<00:00, 377.13it/s]\n",
      "  0%|          | 0/2 [00:00<?, ?it/s]/exports/home/jolivieri/equivalence_testing/scripts/equiv_test_funcs.py:41: RuntimeWarning: divide by zero encountered in double_scalars\n",
      "  t1 = (np.mean(group1_vals) - np.mean(group2_vals) - delta)/np.sqrt(np.var(group1_vals)/len(group1_vals)+np.var(group2_vals)/len(group2_vals))\n",
      "/exports/home/jolivieri/equivalence_testing/scripts/equiv_test_funcs.py:44: RuntimeWarning: divide by zero encountered in double_scalars\n",
      "  t2 = (np.mean(group1_vals) - np.mean(group2_vals) + delta)/np.sqrt(np.var(group1_vals)/len(group1_vals)+np.var(group2_vals)/len(group2_vals))\n",
      "100%|██████████| 2/2 [00:00<00:00, 390.79it/s]\n",
      "100%|██████████| 2/2 [00:00<00:00, 378.38it/s]\n",
      "  0%|          | 0/2 [00:00<?, ?it/s]/exports/home/jolivieri/equivalence_testing/scripts/equiv_test_funcs.py:41: RuntimeWarning: divide by zero encountered in double_scalars\n",
      "  t1 = (np.mean(group1_vals) - np.mean(group2_vals) - delta)/np.sqrt(np.var(group1_vals)/len(group1_vals)+np.var(group2_vals)/len(group2_vals))\n",
      "/exports/home/jolivieri/equivalence_testing/scripts/equiv_test_funcs.py:44: RuntimeWarning: divide by zero encountered in double_scalars\n",
      "  t2 = (np.mean(group1_vals) - np.mean(group2_vals) + delta)/np.sqrt(np.var(group1_vals)/len(group1_vals)+np.var(group2_vals)/len(group2_vals))\n",
      "100%|██████████| 2/2 [00:00<00:00, 388.52it/s]\n",
      "100%|██████████| 2/2 [00:00<00:00, 379.92it/s]\n"
     ]
    },
    {
     "name": "stdout",
     "output_type": "stream",
     "text": [
      "num reads: 2\n"
     ]
    },
    {
     "name": "stderr",
     "output_type": "stream",
     "text": [
      "  0%|          | 0/2 [00:00<?, ?it/s]/exports/home/jolivieri/equivalence_testing/scripts/equiv_test_funcs.py:41: RuntimeWarning: divide by zero encountered in double_scalars\n",
      "  t1 = (np.mean(group1_vals) - np.mean(group2_vals) - delta)/np.sqrt(np.var(group1_vals)/len(group1_vals)+np.var(group2_vals)/len(group2_vals))\n",
      "/exports/home/jolivieri/equivalence_testing/scripts/equiv_test_funcs.py:44: RuntimeWarning: divide by zero encountered in double_scalars\n",
      "  t2 = (np.mean(group1_vals) - np.mean(group2_vals) + delta)/np.sqrt(np.var(group1_vals)/len(group1_vals)+np.var(group2_vals)/len(group2_vals))\n",
      "100%|██████████| 2/2 [00:00<00:00, 412.93it/s]\n",
      "100%|██████████| 2/2 [00:00<00:00, 379.80it/s]\n",
      "  0%|          | 0/2 [00:00<?, ?it/s]/exports/home/jolivieri/equivalence_testing/scripts/equiv_test_funcs.py:41: RuntimeWarning: divide by zero encountered in double_scalars\n",
      "  t1 = (np.mean(group1_vals) - np.mean(group2_vals) - delta)/np.sqrt(np.var(group1_vals)/len(group1_vals)+np.var(group2_vals)/len(group2_vals))\n",
      "/exports/home/jolivieri/equivalence_testing/scripts/equiv_test_funcs.py:44: RuntimeWarning: divide by zero encountered in double_scalars\n",
      "  t2 = (np.mean(group1_vals) - np.mean(group2_vals) + delta)/np.sqrt(np.var(group1_vals)/len(group1_vals)+np.var(group2_vals)/len(group2_vals))\n",
      "100%|██████████| 2/2 [00:00<00:00, 412.03it/s]\n",
      "100%|██████████| 2/2 [00:00<00:00, 378.97it/s]\n",
      "100%|██████████| 2/2 [00:00<00:00, 380.75it/s]\n",
      "  0%|          | 0/2 [00:00<?, ?it/s]/exports/home/jolivieri/equivalence_testing/scripts/equiv_test_funcs.py:41: RuntimeWarning: divide by zero encountered in double_scalars\n",
      "  t1 = (np.mean(group1_vals) - np.mean(group2_vals) - delta)/np.sqrt(np.var(group1_vals)/len(group1_vals)+np.var(group2_vals)/len(group2_vals))\n",
      "/exports/home/jolivieri/equivalence_testing/scripts/equiv_test_funcs.py:44: RuntimeWarning: divide by zero encountered in double_scalars\n",
      "  t2 = (np.mean(group1_vals) - np.mean(group2_vals) + delta)/np.sqrt(np.var(group1_vals)/len(group1_vals)+np.var(group2_vals)/len(group2_vals))\n",
      "100%|██████████| 2/2 [00:00<00:00, 372.94it/s]\n",
      "100%|██████████| 2/2 [00:00<00:00, 377.98it/s]\n",
      "100%|██████████| 2/2 [00:00<00:00, 379.32it/s]\n",
      "100%|██████████| 2/2 [00:00<00:00, 378.82it/s]\n",
      "100%|██████████| 2/2 [00:00<00:00, 352.55it/s]\n"
     ]
    },
    {
     "name": "stdout",
     "output_type": "stream",
     "text": [
      "num reads: 3\n"
     ]
    },
    {
     "name": "stderr",
     "output_type": "stream",
     "text": [
      "100%|██████████| 2/2 [00:00<00:00, 351.38it/s]\n",
      "100%|██████████| 2/2 [00:00<00:00, 351.50it/s]\n",
      "100%|██████████| 2/2 [00:00<00:00, 381.11it/s]\n",
      "100%|██████████| 2/2 [00:00<00:00, 378.44it/s]\n",
      "100%|██████████| 2/2 [00:00<00:00, 379.15it/s]\n",
      "100%|██████████| 2/2 [00:00<00:00, 380.64it/s]\n",
      "100%|██████████| 2/2 [00:00<00:00, 379.25it/s]\n",
      "100%|██████████| 2/2 [00:00<00:00, 377.76it/s]\n",
      "  0%|          | 0/2 [00:00<?, ?it/s]/exports/home/jolivieri/equivalence_testing/scripts/equiv_test_funcs.py:41: RuntimeWarning: divide by zero encountered in double_scalars\n",
      "  t1 = (np.mean(group1_vals) - np.mean(group2_vals) - delta)/np.sqrt(np.var(group1_vals)/len(group1_vals)+np.var(group2_vals)/len(group2_vals))\n",
      "/exports/home/jolivieri/equivalence_testing/scripts/equiv_test_funcs.py:44: RuntimeWarning: divide by zero encountered in double_scalars\n",
      "  t2 = (np.mean(group1_vals) - np.mean(group2_vals) + delta)/np.sqrt(np.var(group1_vals)/len(group1_vals)+np.var(group2_vals)/len(group2_vals))\n",
      "100%|██████████| 2/2 [00:00<00:00, 412.14it/s]\n",
      "100%|██████████| 2/2 [00:00<00:00, 377.80it/s]\n"
     ]
    },
    {
     "name": "stdout",
     "output_type": "stream",
     "text": [
      "num reads: 4\n"
     ]
    },
    {
     "name": "stderr",
     "output_type": "stream",
     "text": [
      "100%|██████████| 2/2 [00:00<00:00, 382.92it/s]\n",
      "100%|██████████| 2/2 [00:00<00:00, 379.08it/s]\n",
      "100%|██████████| 2/2 [00:00<00:00, 379.63it/s]\n",
      "100%|██████████| 2/2 [00:00<00:00, 378.26it/s]\n",
      "100%|██████████| 2/2 [00:00<00:00, 378.72it/s]\n",
      "100%|██████████| 2/2 [00:00<00:00, 378.51it/s]\n",
      "100%|██████████| 2/2 [00:00<00:00, 379.23it/s]\n",
      "  0%|          | 0/2 [00:00<?, ?it/s]/exports/home/jolivieri/equivalence_testing/scripts/equiv_test_funcs.py:41: RuntimeWarning: divide by zero encountered in double_scalars\n",
      "  t1 = (np.mean(group1_vals) - np.mean(group2_vals) - delta)/np.sqrt(np.var(group1_vals)/len(group1_vals)+np.var(group2_vals)/len(group2_vals))\n",
      "/exports/home/jolivieri/equivalence_testing/scripts/equiv_test_funcs.py:44: RuntimeWarning: divide by zero encountered in double_scalars\n",
      "  t2 = (np.mean(group1_vals) - np.mean(group2_vals) + delta)/np.sqrt(np.var(group1_vals)/len(group1_vals)+np.var(group2_vals)/len(group2_vals))\n",
      "100%|██████████| 2/2 [00:00<00:00, 411.71it/s]\n",
      "100%|██████████| 2/2 [00:00<00:00, 377.85it/s]\n",
      "  0%|          | 0/2 [00:00<?, ?it/s]/exports/home/jolivieri/equivalence_testing/scripts/equiv_test_funcs.py:41: RuntimeWarning: divide by zero encountered in double_scalars\n",
      "  t1 = (np.mean(group1_vals) - np.mean(group2_vals) - delta)/np.sqrt(np.var(group1_vals)/len(group1_vals)+np.var(group2_vals)/len(group2_vals))\n",
      "/exports/home/jolivieri/equivalence_testing/scripts/equiv_test_funcs.py:44: RuntimeWarning: divide by zero encountered in double_scalars\n",
      "  t2 = (np.mean(group1_vals) - np.mean(group2_vals) + delta)/np.sqrt(np.var(group1_vals)/len(group1_vals)+np.var(group2_vals)/len(group2_vals))\n",
      "100%|██████████| 2/2 [00:00<00:00, 411.33it/s]\n"
     ]
    },
    {
     "name": "stdout",
     "output_type": "stream",
     "text": [
      "num reads: 5\n"
     ]
    },
    {
     "name": "stderr",
     "output_type": "stream",
     "text": [
      "100%|██████████| 2/2 [00:00<00:00, 393.44it/s]\n",
      "100%|██████████| 2/2 [00:00<00:00, 406.66it/s]\n",
      "100%|██████████| 2/2 [00:00<00:00, 411.95it/s]\n",
      "100%|██████████| 2/2 [00:00<00:00, 426.27it/s]\n",
      "100%|██████████| 2/2 [00:00<00:00, 452.14it/s]\n",
      "100%|██████████| 2/2 [00:00<00:00, 493.56it/s]\n",
      "100%|██████████| 2/2 [00:00<00:00, 457.47it/s]\n",
      "100%|██████████| 2/2 [00:00<00:00, 461.90it/s]\n",
      "100%|██████████| 2/2 [00:00<00:00, 456.35it/s]\n",
      "100%|██████████| 2/2 [00:00<00:00, 457.49it/s]\n"
     ]
    },
    {
     "name": "stdout",
     "output_type": "stream",
     "text": [
      "num reads: 10\n"
     ]
    },
    {
     "name": "stderr",
     "output_type": "stream",
     "text": [
      "100%|██████████| 2/2 [00:00<00:00, 444.52it/s]\n",
      "100%|██████████| 2/2 [00:00<00:00, 457.42it/s]\n",
      "100%|██████████| 2/2 [00:00<00:00, 489.27it/s]\n",
      "100%|██████████| 2/2 [00:00<00:00, 458.52it/s]\n",
      "100%|██████████| 2/2 [00:00<00:00, 457.39it/s]\n",
      "100%|██████████| 2/2 [00:00<00:00, 455.75it/s]\n",
      "100%|██████████| 2/2 [00:00<00:00, 478.20it/s]\n",
      "100%|██████████| 2/2 [00:00<00:00, 458.72it/s]\n",
      "100%|██████████| 2/2 [00:00<00:00, 460.51it/s]\n",
      "100%|██████████| 2/2 [00:00<00:00, 461.19it/s]\n"
     ]
    },
    {
     "name": "stdout",
     "output_type": "stream",
     "text": [
      "num reads: 15\n"
     ]
    },
    {
     "name": "stderr",
     "output_type": "stream",
     "text": [
      "100%|██████████| 2/2 [00:00<00:00, 489.10it/s]\n",
      "100%|██████████| 2/2 [00:00<00:00, 459.25it/s]\n",
      "100%|██████████| 2/2 [00:00<00:00, 458.42it/s]\n",
      "100%|██████████| 2/2 [00:00<00:00, 488.73it/s]\n",
      "100%|██████████| 2/2 [00:00<00:00, 484.19it/s]\n",
      "100%|██████████| 2/2 [00:00<00:00, 458.74it/s]\n",
      "100%|██████████| 2/2 [00:00<00:00, 489.47it/s]\n",
      "100%|██████████| 2/2 [00:00<00:00, 457.69it/s]\n",
      "100%|██████████| 2/2 [00:00<00:00, 459.20it/s]\n",
      "100%|██████████| 2/2 [00:00<00:00, 452.68it/s]\n"
     ]
    },
    {
     "name": "stdout",
     "output_type": "stream",
     "text": [
      "num reads: 20\n"
     ]
    },
    {
     "name": "stderr",
     "output_type": "stream",
     "text": [
      "100%|██████████| 2/2 [00:00<00:00, 490.36it/s]\n",
      "100%|██████████| 2/2 [00:00<00:00, 454.49it/s]\n",
      "100%|██████████| 2/2 [00:00<00:00, 490.13it/s]\n",
      "100%|██████████| 2/2 [00:00<00:00, 491.48it/s]\n",
      "100%|██████████| 2/2 [00:00<00:00, 460.00it/s]\n",
      "100%|██████████| 2/2 [00:00<00:00, 459.70it/s]\n",
      "100%|██████████| 2/2 [00:00<00:00, 491.25it/s]\n",
      "100%|██████████| 2/2 [00:00<00:00, 490.68it/s]\n",
      "100%|██████████| 2/2 [00:00<00:00, 490.62it/s]\n",
      "100%|██████████| 2/2 [00:00<00:00, 458.97it/s]\n"
     ]
    },
    {
     "name": "stdout",
     "output_type": "stream",
     "text": [
      "num reads: 25\n"
     ]
    },
    {
     "name": "stderr",
     "output_type": "stream",
     "text": [
      "100%|██████████| 2/2 [00:00<00:00, 488.14it/s]\n",
      "100%|██████████| 2/2 [00:00<00:00, 461.37it/s]\n",
      "100%|██████████| 2/2 [00:00<00:00, 459.62it/s]\n",
      "100%|██████████| 2/2 [00:00<00:00, 492.43it/s]\n",
      "100%|██████████| 2/2 [00:00<00:00, 460.58it/s]\n",
      "100%|██████████| 2/2 [00:00<00:00, 461.22it/s]\n",
      "100%|██████████| 2/2 [00:00<00:00, 461.55it/s]\n",
      "100%|██████████| 2/2 [00:00<00:00, 495.60it/s]\n",
      "100%|██████████| 2/2 [00:00<00:00, 479.95it/s]\n",
      "100%|██████████| 2/2 [00:00<00:00, 492.26it/s]\n"
     ]
    },
    {
     "name": "stdout",
     "output_type": "stream",
     "text": [
      "num reads: 30\n"
     ]
    },
    {
     "name": "stderr",
     "output_type": "stream",
     "text": [
      "100%|██████████| 2/2 [00:00<00:00, 490.45it/s]\n",
      "100%|██████████| 2/2 [00:00<00:00, 492.78it/s]\n",
      "100%|██████████| 2/2 [00:00<00:00, 457.69it/s]\n",
      "100%|██████████| 2/2 [00:00<00:00, 486.13it/s]\n",
      "100%|██████████| 2/2 [00:00<00:00, 461.22it/s]\n",
      "100%|██████████| 2/2 [00:00<00:00, 458.77it/s]\n",
      "100%|██████████| 2/2 [00:00<00:00, 490.39it/s]\n",
      "100%|██████████| 2/2 [00:00<00:00, 490.42it/s]\n",
      "100%|██████████| 2/2 [00:00<00:00, 458.54it/s]\n",
      "100%|██████████| 2/2 [00:00<00:00, 491.74it/s]\n"
     ]
    },
    {
     "name": "stdout",
     "output_type": "stream",
     "text": [
      "num reads: 35\n"
     ]
    },
    {
     "name": "stderr",
     "output_type": "stream",
     "text": [
      "100%|██████████| 2/2 [00:00<00:00, 449.79it/s]\n",
      "100%|██████████| 2/2 [00:00<00:00, 459.45it/s]\n",
      "100%|██████████| 2/2 [00:00<00:00, 460.36it/s]\n",
      "100%|██████████| 2/2 [00:00<00:00, 458.24it/s]\n",
      "100%|██████████| 2/2 [00:00<00:00, 460.05it/s]\n",
      "100%|██████████| 2/2 [00:00<00:00, 493.80it/s]\n",
      "100%|██████████| 2/2 [00:00<00:00, 492.14it/s]\n",
      "100%|██████████| 2/2 [00:00<00:00, 457.59it/s]\n",
      "100%|██████████| 2/2 [00:00<00:00, 460.28it/s]\n",
      "100%|██████████| 2/2 [00:00<00:00, 459.15it/s]\n"
     ]
    },
    {
     "name": "stdout",
     "output_type": "stream",
     "text": [
      "num reads: 40\n"
     ]
    },
    {
     "name": "stderr",
     "output_type": "stream",
     "text": [
      "100%|██████████| 2/2 [00:00<00:00, 482.33it/s]\n",
      "100%|██████████| 2/2 [00:00<00:00, 490.13it/s]\n",
      "100%|██████████| 2/2 [00:00<00:00, 491.94it/s]\n",
      "100%|██████████| 2/2 [00:00<00:00, 460.48it/s]\n",
      "100%|██████████| 2/2 [00:00<00:00, 454.49it/s]\n",
      "100%|██████████| 2/2 [00:00<00:00, 491.63it/s]\n",
      "100%|██████████| 2/2 [00:00<00:00, 490.19it/s]\n",
      "100%|██████████| 2/2 [00:00<00:00, 490.88it/s]\n",
      "100%|██████████| 2/2 [00:00<00:00, 456.37it/s]\n",
      "100%|██████████| 2/2 [00:00<00:00, 460.53it/s]\n"
     ]
    },
    {
     "name": "stdout",
     "output_type": "stream",
     "text": [
      "num reads: 45\n"
     ]
    },
    {
     "name": "stderr",
     "output_type": "stream",
     "text": [
      "100%|██████████| 2/2 [00:00<00:00, 487.71it/s]\n",
      "100%|██████████| 2/2 [00:00<00:00, 495.34it/s]\n",
      "100%|██████████| 2/2 [00:00<00:00, 490.79it/s]\n",
      "100%|██████████| 2/2 [00:00<00:00, 461.14it/s]\n",
      "100%|██████████| 2/2 [00:00<00:00, 492.00it/s]\n",
      "100%|██████████| 2/2 [00:00<00:00, 458.59it/s]\n",
      "100%|██████████| 2/2 [00:00<00:00, 492.69it/s]\n",
      "100%|██████████| 2/2 [00:00<00:00, 460.79it/s]\n",
      "100%|██████████| 2/2 [00:00<00:00, 456.87it/s]\n",
      "100%|██████████| 2/2 [00:00<00:00, 460.89it/s]\n"
     ]
    },
    {
     "name": "stdout",
     "output_type": "stream",
     "text": [
      "num reads: 50\n"
     ]
    },
    {
     "name": "stderr",
     "output_type": "stream",
     "text": [
      "100%|██████████| 2/2 [00:00<00:00, 491.42it/s]\n",
      "100%|██████████| 2/2 [00:00<00:00, 494.41it/s]\n",
      "100%|██████████| 2/2 [00:00<00:00, 492.29it/s]\n",
      "100%|██████████| 2/2 [00:00<00:00, 459.07it/s]\n",
      "100%|██████████| 2/2 [00:00<00:00, 493.71it/s]\n",
      "100%|██████████| 2/2 [00:00<00:00, 458.57it/s]\n",
      "100%|██████████| 2/2 [00:00<00:00, 461.14it/s]\n",
      "100%|██████████| 2/2 [00:00<00:00, 460.20it/s]\n",
      "100%|██████████| 2/2 [00:00<00:00, 460.99it/s]\n",
      "100%|██████████| 2/2 [00:00<00:00, 492.03it/s]\n"
     ]
    },
    {
     "name": "stdout",
     "output_type": "stream",
     "text": [
      "num reads: 100\n"
     ]
    },
    {
     "name": "stderr",
     "output_type": "stream",
     "text": [
      "100%|██████████| 2/2 [00:00<00:00, 490.82it/s]\n",
      "100%|██████████| 2/2 [00:00<00:00, 492.55it/s]\n",
      "100%|██████████| 2/2 [00:00<00:00, 459.75it/s]\n",
      "100%|██████████| 2/2 [00:00<00:00, 491.37it/s]\n",
      "100%|██████████| 2/2 [00:00<00:00, 490.07it/s]\n",
      "100%|██████████| 2/2 [00:00<00:00, 480.25it/s]\n",
      "100%|██████████| 2/2 [00:00<00:00, 459.98it/s]\n",
      "100%|██████████| 2/2 [00:00<00:00, 491.89it/s]\n",
      "100%|██████████| 2/2 [00:00<00:00, 489.73it/s]\n",
      "100%|██████████| 2/2 [00:00<00:00, 491.08it/s]\n"
     ]
    },
    {
     "name": "stdout",
     "output_type": "stream",
     "text": [
      "num reads: 150\n"
     ]
    },
    {
     "name": "stderr",
     "output_type": "stream",
     "text": [
      "100%|██████████| 2/2 [00:00<00:00, 488.16it/s]\n",
      "100%|██████████| 2/2 [00:00<00:00, 487.06it/s]\n",
      "100%|██████████| 2/2 [00:00<00:00, 478.77it/s]\n",
      "100%|██████████| 2/2 [00:00<00:00, 489.16it/s]\n",
      "100%|██████████| 2/2 [00:00<00:00, 458.95it/s]\n",
      "100%|██████████| 2/2 [00:00<00:00, 454.84it/s]\n",
      "100%|██████████| 2/2 [00:00<00:00, 458.77it/s]\n",
      "100%|██████████| 2/2 [00:00<00:00, 460.71it/s]\n",
      "100%|██████████| 2/2 [00:00<00:00, 461.17it/s]\n",
      "100%|██████████| 2/2 [00:00<00:00, 472.07it/s]\n"
     ]
    },
    {
     "name": "stdout",
     "output_type": "stream",
     "text": [
      "num reads: 200\n"
     ]
    },
    {
     "name": "stderr",
     "output_type": "stream",
     "text": [
      "100%|██████████| 2/2 [00:00<00:00, 491.02it/s]\n",
      "100%|██████████| 2/2 [00:00<00:00, 491.22it/s]\n",
      "100%|██████████| 2/2 [00:00<00:00, 490.99it/s]\n",
      "100%|██████████| 2/2 [00:00<00:00, 492.26it/s]\n",
      "100%|██████████| 2/2 [00:00<00:00, 460.46it/s]\n",
      "100%|██████████| 2/2 [00:00<00:00, 493.80it/s]\n",
      "100%|██████████| 2/2 [00:00<00:00, 459.75it/s]\n",
      "100%|██████████| 2/2 [00:00<00:00, 489.99it/s]\n",
      "100%|██████████| 2/2 [00:00<00:00, 459.70it/s]\n",
      "100%|██████████| 2/2 [00:00<00:00, 459.12it/s]\n"
     ]
    },
    {
     "data": {
      "text/html": [
       "<div>\n",
       "<style scoped>\n",
       "    .dataframe tbody tr th:only-of-type {\n",
       "        vertical-align: middle;\n",
       "    }\n",
       "\n",
       "    .dataframe tbody tr th {\n",
       "        vertical-align: top;\n",
       "    }\n",
       "\n",
       "    .dataframe thead th {\n",
       "        text-align: right;\n",
       "    }\n",
       "</style>\n",
       "<table border=\"1\" class=\"dataframe\">\n",
       "  <thead>\n",
       "    <tr style=\"text-align: right;\">\n",
       "      <th></th>\n",
       "      <th>numReads</th>\n",
       "      <th>frac_sig_diff</th>\n",
       "      <th>frac_sig_diff_lower</th>\n",
       "      <th>frac_sig_diff_upper</th>\n",
       "      <th>frac_sig_equiv</th>\n",
       "      <th>frac_sig_equiv_lower</th>\n",
       "      <th>frac_sig_equiv_upper</th>\n",
       "      <th>frac_sig_inc</th>\n",
       "      <th>frac_sig_inc_lower</th>\n",
       "      <th>frac_sig_inc_upper</th>\n",
       "    </tr>\n",
       "  </thead>\n",
       "  <tbody>\n",
       "    <tr>\n",
       "      <th>0</th>\n",
       "      <td>1</td>\n",
       "      <td>0.0</td>\n",
       "      <td>0.000000</td>\n",
       "      <td>0.000000</td>\n",
       "      <td>0.7</td>\n",
       "      <td>0.415974</td>\n",
       "      <td>0.984026</td>\n",
       "      <td>0.3</td>\n",
       "      <td>0.015974</td>\n",
       "      <td>0.584026</td>\n",
       "    </tr>\n",
       "    <tr>\n",
       "      <th>1</th>\n",
       "      <td>2</td>\n",
       "      <td>0.0</td>\n",
       "      <td>0.000000</td>\n",
       "      <td>0.000000</td>\n",
       "      <td>0.3</td>\n",
       "      <td>0.015974</td>\n",
       "      <td>0.584026</td>\n",
       "      <td>0.7</td>\n",
       "      <td>0.415974</td>\n",
       "      <td>0.984026</td>\n",
       "    </tr>\n",
       "    <tr>\n",
       "      <th>2</th>\n",
       "      <td>3</td>\n",
       "      <td>0.0</td>\n",
       "      <td>0.000000</td>\n",
       "      <td>0.000000</td>\n",
       "      <td>0.4</td>\n",
       "      <td>0.096364</td>\n",
       "      <td>0.703636</td>\n",
       "      <td>0.6</td>\n",
       "      <td>0.296364</td>\n",
       "      <td>0.903636</td>\n",
       "    </tr>\n",
       "    <tr>\n",
       "      <th>3</th>\n",
       "      <td>4</td>\n",
       "      <td>0.0</td>\n",
       "      <td>0.000000</td>\n",
       "      <td>0.000000</td>\n",
       "      <td>0.2</td>\n",
       "      <td>0.000000</td>\n",
       "      <td>0.447918</td>\n",
       "      <td>0.8</td>\n",
       "      <td>0.552082</td>\n",
       "      <td>1.000000</td>\n",
       "    </tr>\n",
       "    <tr>\n",
       "      <th>4</th>\n",
       "      <td>5</td>\n",
       "      <td>0.0</td>\n",
       "      <td>0.000000</td>\n",
       "      <td>0.000000</td>\n",
       "      <td>0.1</td>\n",
       "      <td>0.000000</td>\n",
       "      <td>0.285939</td>\n",
       "      <td>0.9</td>\n",
       "      <td>0.714061</td>\n",
       "      <td>1.000000</td>\n",
       "    </tr>\n",
       "    <tr>\n",
       "      <th>5</th>\n",
       "      <td>10</td>\n",
       "      <td>0.0</td>\n",
       "      <td>0.000000</td>\n",
       "      <td>0.000000</td>\n",
       "      <td>0.1</td>\n",
       "      <td>0.000000</td>\n",
       "      <td>0.285939</td>\n",
       "      <td>0.9</td>\n",
       "      <td>0.714061</td>\n",
       "      <td>1.000000</td>\n",
       "    </tr>\n",
       "    <tr>\n",
       "      <th>6</th>\n",
       "      <td>15</td>\n",
       "      <td>0.1</td>\n",
       "      <td>0.000000</td>\n",
       "      <td>0.285939</td>\n",
       "      <td>0.0</td>\n",
       "      <td>0.000000</td>\n",
       "      <td>0.000000</td>\n",
       "      <td>0.9</td>\n",
       "      <td>0.714061</td>\n",
       "      <td>1.000000</td>\n",
       "    </tr>\n",
       "    <tr>\n",
       "      <th>7</th>\n",
       "      <td>20</td>\n",
       "      <td>0.0</td>\n",
       "      <td>0.000000</td>\n",
       "      <td>0.000000</td>\n",
       "      <td>0.0</td>\n",
       "      <td>0.000000</td>\n",
       "      <td>0.000000</td>\n",
       "      <td>1.0</td>\n",
       "      <td>1.000000</td>\n",
       "      <td>1.000000</td>\n",
       "    </tr>\n",
       "    <tr>\n",
       "      <th>8</th>\n",
       "      <td>25</td>\n",
       "      <td>0.1</td>\n",
       "      <td>0.000000</td>\n",
       "      <td>0.285939</td>\n",
       "      <td>0.0</td>\n",
       "      <td>0.000000</td>\n",
       "      <td>0.000000</td>\n",
       "      <td>0.9</td>\n",
       "      <td>0.714061</td>\n",
       "      <td>1.000000</td>\n",
       "    </tr>\n",
       "    <tr>\n",
       "      <th>9</th>\n",
       "      <td>30</td>\n",
       "      <td>0.0</td>\n",
       "      <td>0.000000</td>\n",
       "      <td>0.000000</td>\n",
       "      <td>0.0</td>\n",
       "      <td>0.000000</td>\n",
       "      <td>0.000000</td>\n",
       "      <td>1.0</td>\n",
       "      <td>1.000000</td>\n",
       "      <td>1.000000</td>\n",
       "    </tr>\n",
       "    <tr>\n",
       "      <th>10</th>\n",
       "      <td>35</td>\n",
       "      <td>0.1</td>\n",
       "      <td>0.000000</td>\n",
       "      <td>0.285939</td>\n",
       "      <td>0.1</td>\n",
       "      <td>0.000000</td>\n",
       "      <td>0.285939</td>\n",
       "      <td>0.8</td>\n",
       "      <td>0.552082</td>\n",
       "      <td>1.000000</td>\n",
       "    </tr>\n",
       "    <tr>\n",
       "      <th>11</th>\n",
       "      <td>40</td>\n",
       "      <td>0.0</td>\n",
       "      <td>0.000000</td>\n",
       "      <td>0.000000</td>\n",
       "      <td>0.0</td>\n",
       "      <td>0.000000</td>\n",
       "      <td>0.000000</td>\n",
       "      <td>1.0</td>\n",
       "      <td>1.000000</td>\n",
       "      <td>1.000000</td>\n",
       "    </tr>\n",
       "    <tr>\n",
       "      <th>12</th>\n",
       "      <td>45</td>\n",
       "      <td>0.1</td>\n",
       "      <td>0.000000</td>\n",
       "      <td>0.285939</td>\n",
       "      <td>0.3</td>\n",
       "      <td>0.015974</td>\n",
       "      <td>0.584026</td>\n",
       "      <td>0.6</td>\n",
       "      <td>0.296364</td>\n",
       "      <td>0.903636</td>\n",
       "    </tr>\n",
       "    <tr>\n",
       "      <th>13</th>\n",
       "      <td>50</td>\n",
       "      <td>0.1</td>\n",
       "      <td>0.000000</td>\n",
       "      <td>0.285939</td>\n",
       "      <td>0.0</td>\n",
       "      <td>0.000000</td>\n",
       "      <td>0.000000</td>\n",
       "      <td>0.9</td>\n",
       "      <td>0.714061</td>\n",
       "      <td>1.000000</td>\n",
       "    </tr>\n",
       "    <tr>\n",
       "      <th>14</th>\n",
       "      <td>100</td>\n",
       "      <td>0.1</td>\n",
       "      <td>0.000000</td>\n",
       "      <td>0.285939</td>\n",
       "      <td>0.1</td>\n",
       "      <td>0.000000</td>\n",
       "      <td>0.285939</td>\n",
       "      <td>0.8</td>\n",
       "      <td>0.552082</td>\n",
       "      <td>1.000000</td>\n",
       "    </tr>\n",
       "    <tr>\n",
       "      <th>15</th>\n",
       "      <td>150</td>\n",
       "      <td>0.2</td>\n",
       "      <td>0.000000</td>\n",
       "      <td>0.447918</td>\n",
       "      <td>0.1</td>\n",
       "      <td>0.000000</td>\n",
       "      <td>0.285939</td>\n",
       "      <td>0.7</td>\n",
       "      <td>0.415974</td>\n",
       "      <td>0.984026</td>\n",
       "    </tr>\n",
       "    <tr>\n",
       "      <th>16</th>\n",
       "      <td>200</td>\n",
       "      <td>0.3</td>\n",
       "      <td>0.015974</td>\n",
       "      <td>0.584026</td>\n",
       "      <td>0.0</td>\n",
       "      <td>0.000000</td>\n",
       "      <td>0.000000</td>\n",
       "      <td>0.7</td>\n",
       "      <td>0.415974</td>\n",
       "      <td>0.984026</td>\n",
       "    </tr>\n",
       "  </tbody>\n",
       "</table>\n",
       "</div>"
      ],
      "text/plain": [
       "    numReads  frac_sig_diff  frac_sig_diff_lower  frac_sig_diff_upper  \\\n",
       "0          1            0.0             0.000000             0.000000   \n",
       "1          2            0.0             0.000000             0.000000   \n",
       "2          3            0.0             0.000000             0.000000   \n",
       "3          4            0.0             0.000000             0.000000   \n",
       "4          5            0.0             0.000000             0.000000   \n",
       "5         10            0.0             0.000000             0.000000   \n",
       "6         15            0.1             0.000000             0.285939   \n",
       "7         20            0.0             0.000000             0.000000   \n",
       "8         25            0.1             0.000000             0.285939   \n",
       "9         30            0.0             0.000000             0.000000   \n",
       "10        35            0.1             0.000000             0.285939   \n",
       "11        40            0.0             0.000000             0.000000   \n",
       "12        45            0.1             0.000000             0.285939   \n",
       "13        50            0.1             0.000000             0.285939   \n",
       "14       100            0.1             0.000000             0.285939   \n",
       "15       150            0.2             0.000000             0.447918   \n",
       "16       200            0.3             0.015974             0.584026   \n",
       "\n",
       "    frac_sig_equiv  frac_sig_equiv_lower  frac_sig_equiv_upper  frac_sig_inc  \\\n",
       "0              0.7              0.415974              0.984026           0.3   \n",
       "1              0.3              0.015974              0.584026           0.7   \n",
       "2              0.4              0.096364              0.703636           0.6   \n",
       "3              0.2              0.000000              0.447918           0.8   \n",
       "4              0.1              0.000000              0.285939           0.9   \n",
       "5              0.1              0.000000              0.285939           0.9   \n",
       "6              0.0              0.000000              0.000000           0.9   \n",
       "7              0.0              0.000000              0.000000           1.0   \n",
       "8              0.0              0.000000              0.000000           0.9   \n",
       "9              0.0              0.000000              0.000000           1.0   \n",
       "10             0.1              0.000000              0.285939           0.8   \n",
       "11             0.0              0.000000              0.000000           1.0   \n",
       "12             0.3              0.015974              0.584026           0.6   \n",
       "13             0.0              0.000000              0.000000           0.9   \n",
       "14             0.1              0.000000              0.285939           0.8   \n",
       "15             0.1              0.000000              0.285939           0.7   \n",
       "16             0.0              0.000000              0.000000           0.7   \n",
       "\n",
       "    frac_sig_inc_lower  frac_sig_inc_upper  \n",
       "0             0.015974            0.584026  \n",
       "1             0.415974            0.984026  \n",
       "2             0.296364            0.903636  \n",
       "3             0.552082            1.000000  \n",
       "4             0.714061            1.000000  \n",
       "5             0.714061            1.000000  \n",
       "6             0.714061            1.000000  \n",
       "7             1.000000            1.000000  \n",
       "8             0.714061            1.000000  \n",
       "9             1.000000            1.000000  \n",
       "10            0.552082            1.000000  \n",
       "11            1.000000            1.000000  \n",
       "12            0.296364            0.903636  \n",
       "13            0.714061            1.000000  \n",
       "14            0.552082            1.000000  \n",
       "15            0.415974            0.984026  \n",
       "16            0.415974            0.984026  "
      ]
     },
     "metadata": {},
     "output_type": "display_data"
    }
   ],
   "source": [
    "np.random.seed(123)\n",
    "\n",
    "out = {\"numReads\" : [], \"frac_sig_diff\" : [], \"frac_sig_diff_lower\" : [], \"frac_sig_diff_upper\" : [], \n",
    "       \"frac_sig_equiv\" : [], \"frac_sig_equiv_lower\" : [], \"frac_sig_equiv_upper\" : [], \n",
    "       \"frac_sig_inc\" : [], \"frac_sig_inc_lower\" : [], \"frac_sig_inc_upper\" : []}\n",
    "\n",
    "for num in numReads:\n",
    "    print(\"num reads: {}\".format(num))\n",
    "    # collect p vals for each\n",
    "    num_sig_diff = 0\n",
    "    num_sig_equiv = 0\n",
    "    num_inconclusive = 0\n",
    "    \n",
    "    for i in range(num_trials):\n",
    "        data = {\"sample\" : [], \"A\" : [], \"B\" : [], \"cell_type\" : []}\n",
    "        count = 0\n",
    "        for j in range(len(geneA_fracs)):\n",
    "            for k in range(num_samples):\n",
    "                count += 1\n",
    "                \n",
    "                # add 1 so it's never zero\n",
    "                n = np.random.poisson(num) + 1\n",
    "                A = np.random.binomial(n, geneA_fracs[j])\n",
    "                data[\"sample\"].append(\"sample\" + str(count))\n",
    "                data[\"A\"].append(A)\n",
    "                data[\"B\"].append(n - A)\n",
    "                data[\"cell_type\"].append(j)\n",
    "        df = pd.DataFrame(data).set_index(\"sample\")\n",
    "        \n",
    "        # get results\n",
    "        diff_sig, equiv_sig = ttests(df)\n",
    "        \n",
    "        # save output\n",
    "        num_sig_diff += diff_sig\n",
    "        num_sig_equiv += equiv_sig\n",
    "        num_inconclusive += 1 - diff_sig - equiv_sig\n",
    "        \n",
    "    # get frac significant\n",
    "    out[\"numReads\"].append(num)\n",
    "\n",
    "#    num_sig_diff = sum(1 for p in diff_pvals if p < alpha)\n",
    "    lower_ci, upper_ci = proportion_confint(num_sig_diff, num_trials)\n",
    "    out[\"frac_sig_diff\"].append(num_sig_diff/num_trials)\n",
    "    out[\"frac_sig_diff_lower\"].append(lower_ci)\n",
    "    out[\"frac_sig_diff_upper\"].append(upper_ci)\n",
    "\n",
    "#    num_sig_equiv = sum(1 for p in equiv_pvals if p < alpha)\n",
    "    lower_ci, upper_ci = proportion_confint(num_sig_equiv, num_trials)\n",
    "    out[\"frac_sig_equiv\"].append(num_sig_equiv/num_trials)\n",
    "    out[\"frac_sig_equiv_lower\"].append(lower_ci)\n",
    "    out[\"frac_sig_equiv_upper\"].append(upper_ci)\n",
    "    \n",
    "\n",
    "#    num_sig_equiv = sum(1 for p in equiv_pvals if p < alpha)\n",
    "    lower_ci, upper_ci = proportion_confint(num_inconclusive, num_trials)\n",
    "    out[\"frac_sig_inc\"].append(num_inconclusive/num_trials)\n",
    "    out[\"frac_sig_inc_lower\"].append(lower_ci)\n",
    "    out[\"frac_sig_inc_upper\"].append(upper_ci)\n",
    "out = pd.DataFrame(out)\n",
    "display(out)"
   ]
  },
  {
   "cell_type": "code",
   "execution_count": 11,
   "id": "8a5edf1d",
   "metadata": {
    "ExecuteTime": {
     "end_time": "2024-06-04T18:09:37.890953Z",
     "start_time": "2024-06-04T18:09:36.907051Z"
    }
   },
   "outputs": [
    {
     "data": {
      "image/png": "[encoded data removed]",
      "text/plain": [
       "<Figure size 640x480 with 1 Axes>"
      ]
     },
     "metadata": {},
     "output_type": "display_data"
    }
   ],
   "source": [
    "plt.errorbar(out[\"numReads\"], out[\"frac_sig_diff\"], yerr = [out[\"frac_sig_diff\"] - out[\"frac_sig_diff_lower\"],\n",
    "            out[\"frac_sig_diff_upper\"] - out[\"frac_sig_diff\"] ], marker = \"o\", label = \"diff\")\n",
    "plt.errorbar(out[\"numReads\"], out[\"frac_sig_equiv\"], yerr = [out[\"frac_sig_equiv\"] - out[\"frac_sig_equiv_lower\"],\n",
    "            out[\"frac_sig_equiv_upper\"] - out[\"frac_sig_equiv\"] ], marker = \"o\", label = \"equiv\")\n",
    "plt.errorbar(out[\"numReads\"], out[\"frac_sig_inc\"], yerr = [out[\"frac_sig_inc\"] - out[\"frac_sig_inc_lower\"],\n",
    "            out[\"frac_sig_inc_upper\"] - out[\"frac_sig_inc\"] ], marker = \"o\", label = \"inc\")\n",
    "plt.xscale(\"log\")\n",
    "plt.axhline(y=0.05, linestyle=\"--\", color=\"k\", label = \"$y = 0.05$\")\n",
    "plt.axhline(y=0.0, color=\"k\")\n",
    "\n",
    "plt.legend()\n",
    "plt.xlabel(\"number of reads\")\n",
    "plt.ylabel(\"fraction called in category\")\n",
    "plt.title(\"gene A pop 1: {}\\ngene A pop 2: {}\\nDelta: {}\".format(geneA_fracs[0], geneA_fracs[1], delta))\n",
    "plt.savefig(\"{}pop1_{}_pop2_{}_delt_{}.png\".format(outpath, *geneA_fracs, delta),bbox_inches='tight')\n",
    "plt.show()"
   ]
  },
  {
   "cell_type": "code",
   "execution_count": null,
   "id": "d8f9890e",
   "metadata": {},
   "outputs": [],
   "source": []
  }
 ],
 "metadata": {
  "kernelspec": {
   "display_name": "Python 3 (ipykernel)",
   "language": "python",
   "name": "python3"
  },
  "language_info": {
   "codemirror_mode": {
    "name": "ipython",
    "version": 3
   },
   "file_extension": ".py",
   "mimetype": "text/x-python",
   "name": "python",
   "nbconvert_exporter": "python",
   "pygments_lexer": "ipython3",
   "version": "3.9.13"
  }
 },
 "nbformat": 4,
 "nbformat_minor": 5
}
